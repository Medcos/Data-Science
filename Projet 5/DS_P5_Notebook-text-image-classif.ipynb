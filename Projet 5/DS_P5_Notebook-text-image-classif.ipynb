{
 "cells": [
  {
   "cell_type": "markdown",
   "id": "796fae73",
   "metadata": {},
   "source": [
    "# <a name=\"C\"> SOMMAIRE <a/>\n",
    "\n",
    " \n",
    " **<a href=\"#C4\"> Classification supervisée : </a>**\n",
    "    \n",
    "Deux (2) approches sont présentées :\n",
    "\n",
    "+ Une approche simple par préparation initiale de l'ensemble des images avant classification supervisée\n",
    "+ Approche nouvelle par Dataset avec data augmentation intégrée au modèle\n",
    " \n",
    "    \n",
    "### <a href =\"#C41\"> 4.1) Approche préparation initiale des images </a>\n",
    "  + <a href =\"#C411\"> 4.1.1) Préparation des données </a>\n",
    "  + <a href =\"#C412\"> 4.1.2) Création du modèle </a>\n",
    "  + <a href =\"#C413\"> 4.1.3) Entrainement des données </a>\n",
    "  + <a href =\"#C414\"> 4.1.4) Evaluation du modèle </a>\n",
    "  \n",
    "  \n",
    "### <a href =\"#C42\"> 4.2) Approche avec data augmentation intégrée au modèle </a>\n",
    "    \n",
    "  + <a href =\"#C421\"> 4.2.1) Création des sous répertoire </a>\n",
    "  + <a href =\"#C422\"> 4.2.2) Préparation des données </a>\n",
    "  + <a href =\"#C423\"> 4.1.3) Création du modèle de classification </a>\n",
    "  + <a href =\"#C424\"> 4.1.4) Entrainement des données </a>\n",
    "  + <a href =\"#C425\"> 4.1.5) Evaluation du modèle </a>"
   ]
  },
  {
   "cell_type": "markdown",
   "id": "be4fc5ac",
   "metadata": {},
   "source": [
    "## <a name=\"C41\"> 4.1) Approche préparation initiale des images <a/>\n",
    "    \n",
    "Elle implique la collecte, le nettoyage, le prétraitement et l'extraction de caractéristiques des images avant de les utiliser pour entraîner un modèle de classification. Cette approche vise à préparer les données de manière optimale afin d'obtenir de bonnes performances de classification"
   ]
  },
  {
   "cell_type": "markdown",
   "id": "f5c71559",
   "metadata": {},
   "source": [
    "## Importation des librairies"
   ]
  },
  {
   "cell_type": "code",
   "execution_count": 1,
   "id": "800de114",
   "metadata": {},
   "outputs": [],
   "source": [
    "import pandas as pd\n",
    "import numpy as np\n",
    "import os\n",
    "\n",
    "import matplotlib.pyplot as plt\n",
    "import seaborn as sns\n",
    "%matplotlib inline\n",
    "\n",
    "import cv2\n",
    "from tensorflow.keras.applications.vgg16 import VGG16, preprocess_input\n",
    "from tensorflow.keras.preprocessing.image import load_img, img_to_array\n",
    "\n",
    "import tensorflow as tf\n",
    "from tensorflow.keras.applications import VGG16\n",
    "from tensorflow.keras.models import Model, Sequential"
   ]
  },
  {
   "cell_type": "markdown",
   "id": "3462960e",
   "metadata": {},
   "source": [
    "## Importation dataset"
   ]
  },
  {
   "cell_type": "code",
   "execution_count": 2,
   "id": "c36f34de",
   "metadata": {},
   "outputs": [
    {
     "name": "stdout",
     "output_type": "stream",
     "text": [
      "1050\n"
     ]
    }
   ],
   "source": [
    "from PIL import Image\n",
    "from os import listdir\n",
    "\n",
    "# Chemin vers le dossier contenant les images\n",
    "repertoire_destination = \"./Flipkart/images_renommees/\"\n",
    "\n",
    "# Compter le nombre fichier image dans le dossier\n",
    "list_photos_nouv = [file for file in listdir(repertoire_destination)]\n",
    "print(len(list_photos_nouv))"
   ]
  },
  {
   "cell_type": "code",
   "execution_count": 3,
   "id": "61c8b978",
   "metadata": {},
   "outputs": [
    {
     "data": {
      "text/html": [
       "<div>\n",
       "<style scoped>\n",
       "    .dataframe tbody tr th:only-of-type {\n",
       "        vertical-align: middle;\n",
       "    }\n",
       "\n",
       "    .dataframe tbody tr th {\n",
       "        vertical-align: top;\n",
       "    }\n",
       "\n",
       "    .dataframe thead th {\n",
       "        text-align: right;\n",
       "    }\n",
       "</style>\n",
       "<table border=\"1\" class=\"dataframe\">\n",
       "  <thead>\n",
       "    <tr style=\"text-align: right;\">\n",
       "      <th></th>\n",
       "      <th>image</th>\n",
       "      <th>nouveau_nom</th>\n",
       "      <th>category</th>\n",
       "      <th>label</th>\n",
       "    </tr>\n",
       "  </thead>\n",
       "  <tbody>\n",
       "    <tr>\n",
       "      <th>0</th>\n",
       "      <td>009099b1f6e1e8f893ec29a7023153c4.jpg</td>\n",
       "      <td>image_0.jpg</td>\n",
       "      <td>Watches</td>\n",
       "      <td>6</td>\n",
       "    </tr>\n",
       "    <tr>\n",
       "      <th>1</th>\n",
       "      <td>0096e89cc25a8b96fb9808716406fe94.jpg</td>\n",
       "      <td>image_1.jpg</td>\n",
       "      <td>Kitchen &amp; Dining</td>\n",
       "      <td>5</td>\n",
       "    </tr>\n",
       "    <tr>\n",
       "      <th>2</th>\n",
       "      <td>00cbbc837d340fa163d11e169fbdb952.jpg</td>\n",
       "      <td>image_2.jpg</td>\n",
       "      <td>Home Furnishing</td>\n",
       "      <td>4</td>\n",
       "    </tr>\n",
       "    <tr>\n",
       "      <th>3</th>\n",
       "      <td>00d84a518e0550612fcfcba3b02b6255.jpg</td>\n",
       "      <td>image_3.jpg</td>\n",
       "      <td>Beauty and Personal Care</td>\n",
       "      <td>1</td>\n",
       "    </tr>\n",
       "    <tr>\n",
       "      <th>4</th>\n",
       "      <td>00e966a5049a262cfc72e6bbf68b80e7.jpg</td>\n",
       "      <td>image_4.jpg</td>\n",
       "      <td>Computers</td>\n",
       "      <td>2</td>\n",
       "    </tr>\n",
       "  </tbody>\n",
       "</table>\n",
       "</div>"
      ],
      "text/plain": [
       "                                  image  nouveau_nom  \\\n",
       "0  009099b1f6e1e8f893ec29a7023153c4.jpg  image_0.jpg   \n",
       "1  0096e89cc25a8b96fb9808716406fe94.jpg  image_1.jpg   \n",
       "2  00cbbc837d340fa163d11e169fbdb952.jpg  image_2.jpg   \n",
       "3  00d84a518e0550612fcfcba3b02b6255.jpg  image_3.jpg   \n",
       "4  00e966a5049a262cfc72e6bbf68b80e7.jpg  image_4.jpg   \n",
       "\n",
       "                    category  label  \n",
       "0                   Watches       6  \n",
       "1          Kitchen & Dining       5  \n",
       "2           Home Furnishing       4  \n",
       "3  Beauty and Personal Care       1  \n",
       "4                 Computers       2  "
      ]
     },
     "execution_count": 3,
     "metadata": {},
     "output_type": "execute_result"
    }
   ],
   "source": [
    "data = pd.read_csv('data')\n",
    "data.head()"
   ]
  },
  {
   "cell_type": "code",
   "execution_count": 4,
   "id": "ac657597",
   "metadata": {},
   "outputs": [
    {
     "data": {
      "text/html": [
       "<div>\n",
       "<style scoped>\n",
       "    .dataframe tbody tr th:only-of-type {\n",
       "        vertical-align: middle;\n",
       "    }\n",
       "\n",
       "    .dataframe tbody tr th {\n",
       "        vertical-align: top;\n",
       "    }\n",
       "\n",
       "    .dataframe thead th {\n",
       "        text-align: right;\n",
       "    }\n",
       "</style>\n",
       "<table border=\"1\" class=\"dataframe\">\n",
       "  <thead>\n",
       "    <tr style=\"text-align: right;\">\n",
       "      <th></th>\n",
       "      <th>image</th>\n",
       "      <th>nouveau_nom</th>\n",
       "      <th>category</th>\n",
       "      <th>label</th>\n",
       "      <th>Label_sift</th>\n",
       "      <th>Label_cnn</th>\n",
       "    </tr>\n",
       "  </thead>\n",
       "  <tbody>\n",
       "    <tr>\n",
       "      <th>0</th>\n",
       "      <td>009099b1f6e1e8f893ec29a7023153c4.jpg</td>\n",
       "      <td>image_0.jpg</td>\n",
       "      <td>Watches</td>\n",
       "      <td>6</td>\n",
       "      <td>0</td>\n",
       "      <td>4</td>\n",
       "    </tr>\n",
       "    <tr>\n",
       "      <th>1</th>\n",
       "      <td>0096e89cc25a8b96fb9808716406fe94.jpg</td>\n",
       "      <td>image_1.jpg</td>\n",
       "      <td>Kitchen &amp; Dining</td>\n",
       "      <td>5</td>\n",
       "      <td>6</td>\n",
       "      <td>1</td>\n",
       "    </tr>\n",
       "    <tr>\n",
       "      <th>2</th>\n",
       "      <td>00cbbc837d340fa163d11e169fbdb952.jpg</td>\n",
       "      <td>image_2.jpg</td>\n",
       "      <td>Home Furnishing</td>\n",
       "      <td>4</td>\n",
       "      <td>5</td>\n",
       "      <td>5</td>\n",
       "    </tr>\n",
       "    <tr>\n",
       "      <th>3</th>\n",
       "      <td>00d84a518e0550612fcfcba3b02b6255.jpg</td>\n",
       "      <td>image_3.jpg</td>\n",
       "      <td>Beauty and Personal Care</td>\n",
       "      <td>1</td>\n",
       "      <td>1</td>\n",
       "      <td>6</td>\n",
       "    </tr>\n",
       "    <tr>\n",
       "      <th>4</th>\n",
       "      <td>00e966a5049a262cfc72e6bbf68b80e7.jpg</td>\n",
       "      <td>image_4.jpg</td>\n",
       "      <td>Computers</td>\n",
       "      <td>2</td>\n",
       "      <td>1</td>\n",
       "      <td>1</td>\n",
       "    </tr>\n",
       "  </tbody>\n",
       "</table>\n",
       "</div>"
      ],
      "text/plain": [
       "                                  image  nouveau_nom  \\\n",
       "0  009099b1f6e1e8f893ec29a7023153c4.jpg  image_0.jpg   \n",
       "1  0096e89cc25a8b96fb9808716406fe94.jpg  image_1.jpg   \n",
       "2  00cbbc837d340fa163d11e169fbdb952.jpg  image_2.jpg   \n",
       "3  00d84a518e0550612fcfcba3b02b6255.jpg  image_3.jpg   \n",
       "4  00e966a5049a262cfc72e6bbf68b80e7.jpg  image_4.jpg   \n",
       "\n",
       "                    category  label  Label_sift  Label_cnn  \n",
       "0                   Watches       6           0          4  \n",
       "1          Kitchen & Dining       5           6          1  \n",
       "2           Home Furnishing       4           5          5  \n",
       "3  Beauty and Personal Care       1           1          6  \n",
       "4                 Computers       2           1          1  "
      ]
     },
     "execution_count": 4,
     "metadata": {},
     "output_type": "execute_result"
    }
   ],
   "source": [
    "data_cnn = pd.read_csv('data_label')\n",
    "data_cnn.head()"
   ]
  },
  {
   "cell_type": "code",
   "execution_count": 5,
   "id": "4680019a",
   "metadata": {},
   "outputs": [],
   "source": [
    "list_labels = ['Home Furnishing ', 'Baby Care ', 'Watches ','Home Decor & Festive Needs ', 'Kitchen & Dining ',\n",
    "               'Beauty and Personal Care ', 'Computers ']"
   ]
  },
  {
   "cell_type": "markdown",
   "id": "13d076ef",
   "metadata": {},
   "source": [
    "### <a name=\"C411\"> 4.1.1) Préparation des données <a/>"
   ]
  },
  {
   "cell_type": "markdown",
   "id": "96b032a2",
   "metadata": {},
   "source": [
    "La fonction **image_prep_fct** prépare les images en effectuant les étapes de prétraitement nécessaires pour les utiliser comme entrée dans un modèle de réseau de neurones convolutif"
   ]
  },
  {
   "cell_type": "code",
   "execution_count": 6,
   "id": "32c98234",
   "metadata": {},
   "outputs": [
    {
     "name": "stderr",
     "output_type": "stream",
     "text": [
      "C:\\Users\\dmedc\\anaconda3\\lib\\site-packages\\PIL\\Image.py:2896: DecompressionBombWarning: Image size (93680328 pixels) exceeds limit of 89478485 pixels, could be decompression bomb DOS attack.\n",
      "  warnings.warn(\n"
     ]
    },
    {
     "name": "stdout",
     "output_type": "stream",
     "text": [
      "(1050, 224, 224, 3)\n"
     ]
    }
   ],
   "source": [
    "def image_prep_fct(data) :\n",
    "    prepared_images = []\n",
    "\n",
    "    # Boucle pour extraire les caractéristiques de chaque image\n",
    "    for image_file in data[\"nouveau_nom\"]:\n",
    "        img_path = \"./Flipkart/images_renommees/\"\n",
    "        image = load_img(img_path + image_file, target_size=(224, 224)) # Charge l'image et redimensionne l'image \n",
    "        img = img_to_array(image) # Convertir l'image en un tableau numpy.\n",
    "       \n",
    "        img = img.reshape((img.shape[0], img.shape[1], img.shape[2])) # Réorganise les dimensions du tableau pour correspondre à la forme (hauteur, largeur, canaux) de l'image.\n",
    "        img = preprocess_input(img)\n",
    "        prepared_images.append(img)\n",
    "        prepared_images_np = np.array(prepared_images) #  Convertir la liste en un tableau numpy.\n",
    "    return prepared_images_np\n",
    "    \n",
    "images_np = image_prep_fct(data)\n",
    "\n",
    "X = images_np\n",
    "print(images_np.shape)"
   ]
  },
  {
   "cell_type": "markdown",
   "id": "a2615a35",
   "metadata": {},
   "source": [
    "La dimension (1050, 224, 224, 3) indique qu'il y a un tableau de 1050 éléments, chacun étant une grille de 224x224 pixels avec 3 canaux de couleur (Rouge, Vert et Bleu)"
   ]
  },
  {
   "cell_type": "code",
   "execution_count": 7,
   "id": "0ba36192",
   "metadata": {},
   "outputs": [
    {
     "data": {
      "text/plain": [
       "array([[0., 0., 0., ..., 0., 0., 1.],\n",
       "       [0., 0., 0., ..., 0., 1., 0.],\n",
       "       [0., 0., 0., ..., 1., 0., 0.],\n",
       "       ...,\n",
       "       [0., 0., 0., ..., 0., 1., 0.],\n",
       "       [0., 0., 0., ..., 1., 0., 0.],\n",
       "       [0., 0., 1., ..., 0., 0., 0.]], dtype=float32)"
      ]
     },
     "execution_count": 7,
     "metadata": {},
     "output_type": "execute_result"
    }
   ],
   "source": [
    "from tensorflow.keras.utils import to_categorical\n",
    "# effectue la conversion des étiquettes de classe en format catégoriel\n",
    "y = to_categorical(data['label'])\n",
    "y"
   ]
  },
  {
   "cell_type": "code",
   "execution_count": 8,
   "id": "018b3264",
   "metadata": {},
   "outputs": [
    {
     "data": {
      "text/plain": [
       "(840, 224, 224, 3)"
      ]
     },
     "execution_count": 8,
     "metadata": {},
     "output_type": "execute_result"
    }
   ],
   "source": [
    "from sklearn.model_selection import train_test_split\n",
    "\n",
    "#  Diviser les données en ensembles d'entraînement et de test \n",
    "X_train, X_test, y_train, y_test = train_test_split(X, y, stratify=y, test_size=0.25, random_state=42)\n",
    "X_train, X_val, y_train, y_val = train_test_split(X, y, stratify=y, test_size=0.20, random_state=42)\n",
    "\n",
    "X_train.shape"
   ]
  },
  {
   "cell_type": "markdown",
   "id": "cdf6043f",
   "metadata": {},
   "source": [
    "**train_test_split** : fonction est utilisée pour diviser les données en ensembles de formation et de test.\n",
    "\n",
    "+ **stratify = y**: ce paramètre est utilisé pour garantir que le processus de fractionnement maintient la même distribution de la variable cible ( y) dans les ensembles d'entraînement et de test\n",
    "\n",
    "+ **test_size = 0.25**: Ce paramètre définit toujours la proportion de l'ensemble de données à utiliser pour les tests à 25 %, laissant 75 % pour la formation.\n",
    "\n",
    "+ **random_state = 42**: Ce paramètre définit la graine aléatoire pour la reproductibilité, garantissant que si vous exécutez le code plusieurs fois avec la même graine, vous obtiendrez la même répartition."
   ]
  },
  {
   "cell_type": "markdown",
   "id": "9bbbc0c6",
   "metadata": {},
   "source": [
    "### <a name=\"C412\"> 4.1.2) Création du modèle <a/>"
   ]
  },
  {
   "cell_type": "markdown",
   "id": "860ef2f1",
   "metadata": {},
   "source": [
    "La fonction **create_model_fct** crée et renvoie un modèle de réseau de neurones convolutif avec une architecture basée sur le modèle pré-entraîné VGG16"
   ]
  },
  {
   "cell_type": "code",
   "execution_count": 9,
   "id": "d505cb23",
   "metadata": {},
   "outputs": [],
   "source": [
    "def create_model_fct() :\n",
    "    # Récupération modèle pré-entraîné\n",
    "    model0 = VGG16(include_top=False, weights=\"imagenet\", input_shape=(224, 224, 3))\n",
    "\n",
    "    # Layer non entraînables = on garde les poids du modèle pré-entraîné\n",
    "    for layer in model0.layers:\n",
    "        layer.trainable = False\n",
    "\n",
    "   \n",
    "    x = model0.output  # Récupérer la sortie de ce réseau\n",
    "    x = GlobalAveragePooling2D()(x) # réduit les dimensions spatiales de la sortie \n",
    "    x = Dense(256, activation='relu')(x) # Ajoute une couche dense entièrement connectée avec 256 neurones.\n",
    "    x = Dropout(0.5)(x) # prévenir le surapprentissage en introduisant du bruit et en améliorant la généralisation du modèle.\n",
    "    predictions = Dense(7, activation='softmax')(x)\n",
    "\n",
    "    # Définir le nouveau modèle\n",
    "    model = Model(inputs=model0.input, outputs=predictions)\n",
    "    # compilation du modèle \n",
    "    model.compile(loss=\"categorical_crossentropy\", optimizer='rmsprop', metrics=[\"accuracy\"])\n",
    "\n",
    "    print(model.summary())\n",
    "    \n",
    "    return model"
   ]
  },
  {
   "cell_type": "markdown",
   "id": "17778dbd",
   "metadata": {},
   "source": [
    "#### Création du modèle"
   ]
  },
  {
   "cell_type": "code",
   "execution_count": 10,
   "id": "1507fdd2",
   "metadata": {
    "scrolled": true
   },
   "outputs": [
    {
     "name": "stdout",
     "output_type": "stream",
     "text": [
      "Model: \"model\"\n",
      "_________________________________________________________________\n",
      " Layer (type)                Output Shape              Param #   \n",
      "=================================================================\n",
      " input_1 (InputLayer)        [(None, 224, 224, 3)]     0         \n",
      "                                                                 \n",
      " block1_conv1 (Conv2D)       (None, 224, 224, 64)      1792      \n",
      "                                                                 \n",
      " block1_conv2 (Conv2D)       (None, 224, 224, 64)      36928     \n",
      "                                                                 \n",
      " block1_pool (MaxPooling2D)  (None, 112, 112, 64)      0         \n",
      "                                                                 \n",
      " block2_conv1 (Conv2D)       (None, 112, 112, 128)     73856     \n",
      "                                                                 \n",
      " block2_conv2 (Conv2D)       (None, 112, 112, 128)     147584    \n",
      "                                                                 \n",
      " block2_pool (MaxPooling2D)  (None, 56, 56, 128)       0         \n",
      "                                                                 \n",
      " block3_conv1 (Conv2D)       (None, 56, 56, 256)       295168    \n",
      "                                                                 \n",
      " block3_conv2 (Conv2D)       (None, 56, 56, 256)       590080    \n",
      "                                                                 \n",
      " block3_conv3 (Conv2D)       (None, 56, 56, 256)       590080    \n",
      "                                                                 \n",
      " block3_pool (MaxPooling2D)  (None, 28, 28, 256)       0         \n",
      "                                                                 \n",
      " block4_conv1 (Conv2D)       (None, 28, 28, 512)       1180160   \n",
      "                                                                 \n",
      " block4_conv2 (Conv2D)       (None, 28, 28, 512)       2359808   \n",
      "                                                                 \n",
      " block4_conv3 (Conv2D)       (None, 28, 28, 512)       2359808   \n",
      "                                                                 \n",
      " block4_pool (MaxPooling2D)  (None, 14, 14, 512)       0         \n",
      "                                                                 \n",
      " block5_conv1 (Conv2D)       (None, 14, 14, 512)       2359808   \n",
      "                                                                 \n",
      " block5_conv2 (Conv2D)       (None, 14, 14, 512)       2359808   \n",
      "                                                                 \n",
      " block5_conv3 (Conv2D)       (None, 14, 14, 512)       2359808   \n",
      "                                                                 \n",
      " block5_pool (MaxPooling2D)  (None, 7, 7, 512)         0         \n",
      "                                                                 \n",
      " global_average_pooling2d (G  (None, 512)              0         \n",
      " lobalAveragePooling2D)                                          \n",
      "                                                                 \n",
      " dense (Dense)               (None, 256)               131328    \n",
      "                                                                 \n",
      " dropout (Dropout)           (None, 256)               0         \n",
      "                                                                 \n",
      " dense_1 (Dense)             (None, 7)                 1799      \n",
      "                                                                 \n",
      "=================================================================\n",
      "Total params: 14,847,815\n",
      "Trainable params: 133,127\n",
      "Non-trainable params: 14,714,688\n",
      "_________________________________________________________________\n",
      "None\n"
     ]
    }
   ],
   "source": [
    "from tensorflow.keras.layers import GlobalAveragePooling2D, GlobalAveragePooling1D, Flatten, Dense, Dropout\n",
    "from tensorflow.keras.callbacks import EarlyStopping, ModelCheckpoint\n",
    "from glob import glob\n",
    "\n",
    "# Création du modèle\n",
    "with tf.device('/gpu:0'): # Accélérer le calcul si un GPU est disponible\n",
    "    model1 = create_model_fct()\n",
    "\n",
    "# Création du callback\n",
    "\n",
    "# Définir le chemin d'enregistrement pour les poids du modèle\n",
    "model1_save_path1 = \"./model1_best_weights.h5\"\n",
    "# Définir un callback de sauvegarde des poids du modèle pendant l'entraînement\n",
    "checkpoint = ModelCheckpoint(model1_save_path1, monitor='val_loss', verbose=1, save_best_only=True, mode='min')\n",
    "# Définir un callback d'arrêt précoce pendant l'entraînement\n",
    "es = EarlyStopping(monitor='val_loss', mode='min', verbose=1, patience=5)\n",
    "# Créer une liste de callbacks en regroupant les callbacks de sauvegarde et d'arrêt précoce\n",
    "callbacks_list = [checkpoint, es] "
   ]
  },
  {
   "cell_type": "markdown",
   "id": "2c2d2cd7",
   "metadata": {},
   "source": [
    "### <a name=\"C413\"> 4.1.3) Entrainement des données <a/>"
   ]
  },
  {
   "cell_type": "code",
   "execution_count": 11,
   "id": "7629826e",
   "metadata": {
    "scrolled": true
   },
   "outputs": [
    {
     "name": "stdout",
     "output_type": "stream",
     "text": [
      "Epoch 1/50\n",
      "14/14 [==============================] - ETA: 0s - loss: 5.0691 - accuracy: 0.4560 \n",
      "Epoch 1: val_loss improved from inf to 1.42866, saving model to .\\model1_best_weights.h5\n",
      "14/14 [==============================] - 192s 14s/step - loss: 5.0691 - accuracy: 0.4560 - val_loss: 1.4287 - val_accuracy: 0.7476\n",
      "Epoch 2/50\n",
      "14/14 [==============================] - ETA: 0s - loss: 1.9277 - accuracy: 0.6774 \n",
      "Epoch 2: val_loss improved from 1.42866 to 0.98851, saving model to .\\model1_best_weights.h5\n",
      "14/14 [==============================] - 190s 14s/step - loss: 1.9277 - accuracy: 0.6774 - val_loss: 0.9885 - val_accuracy: 0.7667\n",
      "Epoch 3/50\n",
      "14/14 [==============================] - ETA: 0s - loss: 1.1239 - accuracy: 0.7417 \n",
      "Epoch 3: val_loss improved from 0.98851 to 0.91247, saving model to .\\model1_best_weights.h5\n",
      "14/14 [==============================] - 184s 13s/step - loss: 1.1239 - accuracy: 0.7417 - val_loss: 0.9125 - val_accuracy: 0.8048\n",
      "Epoch 4/50\n",
      "14/14 [==============================] - ETA: 0s - loss: 0.7880 - accuracy: 0.7940 \n",
      "Epoch 4: val_loss improved from 0.91247 to 0.83698, saving model to .\\model1_best_weights.h5\n",
      "14/14 [==============================] - 198s 14s/step - loss: 0.7880 - accuracy: 0.7940 - val_loss: 0.8370 - val_accuracy: 0.8095\n",
      "Epoch 5/50\n",
      "14/14 [==============================] - ETA: 0s - loss: 0.4874 - accuracy: 0.8429 \n",
      "Epoch 5: val_loss did not improve from 0.83698\n",
      "14/14 [==============================] - 188s 14s/step - loss: 0.4874 - accuracy: 0.8429 - val_loss: 0.9122 - val_accuracy: 0.7952\n",
      "Epoch 6/50\n",
      "14/14 [==============================] - ETA: 0s - loss: 0.4297 - accuracy: 0.8631 \n",
      "Epoch 6: val_loss improved from 0.83698 to 0.77710, saving model to .\\model1_best_weights.h5\n",
      "14/14 [==============================] - 189s 14s/step - loss: 0.4297 - accuracy: 0.8631 - val_loss: 0.7771 - val_accuracy: 0.8095\n",
      "Epoch 7/50\n",
      "14/14 [==============================] - ETA: 0s - loss: 0.3772 - accuracy: 0.8857 \n",
      "Epoch 7: val_loss did not improve from 0.77710\n",
      "14/14 [==============================] - 180s 13s/step - loss: 0.3772 - accuracy: 0.8857 - val_loss: 0.8304 - val_accuracy: 0.8143\n",
      "Epoch 8/50\n",
      "14/14 [==============================] - ETA: 0s - loss: 0.3173 - accuracy: 0.8952 \n",
      "Epoch 8: val_loss did not improve from 0.77710\n",
      "14/14 [==============================] - 186s 13s/step - loss: 0.3173 - accuracy: 0.8952 - val_loss: 0.8391 - val_accuracy: 0.8238\n",
      "Epoch 9/50\n",
      "14/14 [==============================] - ETA: 0s - loss: 0.2727 - accuracy: 0.9167 \n",
      "Epoch 9: val_loss did not improve from 0.77710\n",
      "14/14 [==============================] - 180s 13s/step - loss: 0.2727 - accuracy: 0.9167 - val_loss: 0.9003 - val_accuracy: 0.8048\n",
      "Epoch 10/50\n",
      "14/14 [==============================] - ETA: 0s - loss: 0.1866 - accuracy: 0.9381 \n",
      "Epoch 10: val_loss did not improve from 0.77710\n",
      "14/14 [==============================] - 180s 13s/step - loss: 0.1866 - accuracy: 0.9381 - val_loss: 0.8885 - val_accuracy: 0.8095\n",
      "Epoch 11/50\n",
      "14/14 [==============================] - ETA: 0s - loss: 0.1487 - accuracy: 0.9476 \n",
      "Epoch 11: val_loss did not improve from 0.77710\n",
      "14/14 [==============================] - 179s 13s/step - loss: 0.1487 - accuracy: 0.9476 - val_loss: 0.9704 - val_accuracy: 0.8143\n",
      "Epoch 11: early stopping\n"
     ]
    }
   ],
   "source": [
    "# Entraîner sur les données d'entraînement (X_train, y_train)\n",
    "\n",
    "with tf.device('/gpu:0'): \n",
    "    history1 = model1.fit(X_train, y_train, epochs=50, batch_size=64, \n",
    "                       callbacks=callbacks_list, validation_data=(X_val, y_val), verbose=1)"
   ]
  },
  {
   "cell_type": "markdown",
   "id": "4aa6a0eb",
   "metadata": {},
   "source": [
    "**with tf.device('/gpu:0'):**: Ce gestionnaire de contexte spécifie que les opérations qu'il contient doivent être exécutées sur le GPU avec l'index 0. Si vous disposez de plusieurs GPU, vous pouvez spécifier un index différent ou l'utiliser /gpupour sélectionner automatiquement un GPU disponible.\n",
    "\n",
    "**history1 = model1.fit(...):** Cette ligne entraîne votre modèle ( model1) à l'aide des données d'entraînement ( X_trainet y_train). La formation est effectuée pendant 50 époques avec une taille de lot de 64. La fitméthode renvoie un objet historique ( history1) qui contient des informations sur le processus de formation, telles que la perte et la précision de la formation et de la validation.\n",
    "\n",
    "+ callbacks = callbacks_list: Ce paramètre permet d'utiliser des rappels pendant l'entraînement. Les rappels sont des fonctions exécutées à des moments spécifiques pendant la formation. Dans ce cas, vous semblez avoir une liste de rappels ( callbacks_list) qui seront appliqués lors de la formation. Les rappels peuvent être utilisés à diverses fins, telles que l'enregistrement du modèle, l'arrêt anticipé ou la journalisation.\n",
    "\n",
    "+ validation_data = (X_val, y_val): Ce paramètre précise les données de validation à utiliser lors de la formation. Les performances du modèle sur ces données seront surveillées et vous pourrez l'utiliser pour observer dans quelle mesure le modèle se généralise aux données qu'il n'a pas vues pendant l'entraînement.\n",
    "\n",
    "+ verbose=1: Ce paramètre définit la verbosité pendant l'entraînement. Le définir sur 1 signifie que vous verrez des barres de progression pour chaque époque."
   ]
  },
  {
   "cell_type": "markdown",
   "id": "4f9bd4ab",
   "metadata": {},
   "source": [
    "#### Score du dernier epoch"
   ]
  },
  {
   "cell_type": "code",
   "execution_count": 12,
   "id": "6489b0cc",
   "metadata": {},
   "outputs": [
    {
     "name": "stdout",
     "output_type": "stream",
     "text": [
      "27/27 [==============================] - 143s 5s/step - loss: 0.0293 - accuracy: 0.9917\n",
      "Training Accuracy: 0.9917\n",
      "\n",
      "7/7 [==============================] - 36s 5s/step - loss: 0.9704 - accuracy: 0.8143\n",
      "Validation Accuracy:  0.8143\n"
     ]
    }
   ],
   "source": [
    "# Evaluer le modele sur le training set\n",
    "loss, accuracy = model1.evaluate(X_train, y_train, verbose=True)\n",
    "print(\"Training Accuracy: {:.4f}\".format(accuracy))\n",
    "print()\n",
    "\n",
    "# Evaluer le modele sur le testing set\n",
    "loss, accuracy = model1.evaluate(X_val, y_val, verbose=True)\n",
    "print(\"Validation Accuracy:  {:.4f}\".format(accuracy))"
   ]
  },
  {
   "cell_type": "markdown",
   "id": "a52c4cfd",
   "metadata": {},
   "source": [
    "####  Score de l'epoch optimal"
   ]
  },
  {
   "cell_type": "code",
   "execution_count": 13,
   "id": "84c82e50",
   "metadata": {},
   "outputs": [
    {
     "name": "stdout",
     "output_type": "stream",
     "text": [
      "Validation Accuracy :  0.8095\n",
      "Test Accuracy       :  0.8631\n"
     ]
    }
   ],
   "source": [
    "# Charger le modèle pré-entraîné pour faire des évaluer ses performances.\n",
    "model1.load_weights(model1_save_path1)\n",
    "\n",
    "loss, accuracy = model1.evaluate(X_val, y_val, verbose=False)\n",
    "print(\"Validation Accuracy :  {:.4f}\".format(accuracy))\n",
    "\n",
    "loss, accuracy = model1.evaluate(X_test, y_test, verbose=False)\n",
    "print(\"Test Accuracy       :  {:.4f}\".format(accuracy))"
   ]
  },
  {
   "cell_type": "markdown",
   "id": "e4e1081b",
   "metadata": {},
   "source": [
    "####   Visualisation de l'historique de formation du modèle "
   ]
  },
  {
   "cell_type": "code",
   "execution_count": 14,
   "id": "996b5bec",
   "metadata": {
    "scrolled": true
   },
   "outputs": [
    {
     "name": "stdout",
     "output_type": "stream",
     "text": [
      "Requirement already satisfied: plot_keras_history in c:\\users\\dmedc\\anaconda3\\lib\\site-packages (1.1.38)\n",
      "Requirement already satisfied: matplotlib in c:\\users\\dmedc\\anaconda3\\lib\\site-packages (from plot_keras_history) (3.5.1)\n",
      "Requirement already satisfied: scipy in c:\\users\\dmedc\\anaconda3\\lib\\site-packages (from plot_keras_history) (1.7.3)\n",
      "Requirement already satisfied: sanitize-ml-labels>=1.0.48 in c:\\users\\dmedc\\anaconda3\\lib\\site-packages (from plot_keras_history) (1.0.51)\n",
      "Requirement already satisfied: support-developer>=1.0.2 in c:\\users\\dmedc\\anaconda3\\lib\\site-packages (from plot_keras_history) (1.0.5)\n",
      "Requirement already satisfied: pandas in c:\\users\\dmedc\\anaconda3\\lib\\site-packages (from plot_keras_history) (1.4.2)\n",
      "Requirement already satisfied: compress-json in c:\\users\\dmedc\\anaconda3\\lib\\site-packages (from sanitize-ml-labels>=1.0.48->plot_keras_history) (1.0.8)\n",
      "Requirement already satisfied: python-dateutil>=2.7 in c:\\users\\dmedc\\anaconda3\\lib\\site-packages (from matplotlib->plot_keras_history) (2.8.2)\n",
      "Requirement already satisfied: pillow>=6.2.0 in c:\\users\\dmedc\\anaconda3\\lib\\site-packages (from matplotlib->plot_keras_history) (9.0.1)\n",
      "Requirement already satisfied: pyparsing>=2.2.1 in c:\\users\\dmedc\\anaconda3\\lib\\site-packages (from matplotlib->plot_keras_history) (3.0.4)\n",
      "Requirement already satisfied: packaging>=20.0 in c:\\users\\dmedc\\anaconda3\\lib\\site-packages (from matplotlib->plot_keras_history) (21.3)\n",
      "Requirement already satisfied: fonttools>=4.22.0 in c:\\users\\dmedc\\anaconda3\\lib\\site-packages (from matplotlib->plot_keras_history) (4.25.0)\n",
      "Requirement already satisfied: kiwisolver>=1.0.1 in c:\\users\\dmedc\\anaconda3\\lib\\site-packages (from matplotlib->plot_keras_history) (1.3.2)\n",
      "Requirement already satisfied: numpy>=1.17 in c:\\users\\dmedc\\anaconda3\\lib\\site-packages (from matplotlib->plot_keras_history) (1.22.4)\n",
      "Requirement already satisfied: cycler>=0.10 in c:\\users\\dmedc\\anaconda3\\lib\\site-packages (from matplotlib->plot_keras_history) (0.11.0)\n",
      "Requirement already satisfied: six>=1.5 in c:\\users\\dmedc\\anaconda3\\lib\\site-packages (from python-dateutil>=2.7->matplotlib->plot_keras_history) (1.16.0)\n",
      "Requirement already satisfied: pytz>=2020.1 in c:\\users\\dmedc\\anaconda3\\lib\\site-packages (from pandas->plot_keras_history) (2021.3)\n",
      "Note: you may need to restart the kernel to use updated packages.\n"
     ]
    }
   ],
   "source": [
    "pip install plot_keras_history"
   ]
  },
  {
   "cell_type": "code",
   "execution_count": 15,
   "id": "a34b9970",
   "metadata": {
    "scrolled": true
   },
   "outputs": [
    {
     "data": {
      "image/png": "[encoded data removed]",
      "text/plain": [
       "<Figure size 1000x500 with 2 Axes>"
      ]
     },
     "metadata": {
      "needs_background": "light"
     },
     "output_type": "display_data"
    }
   ],
   "source": [
    "from plot_keras_history import show_history, plot_history\n",
    "import matplotlib.pyplot as plt\n",
    "\n",
    "# Affiche le tracé interactif de l'historique de l'entraînement \n",
    "show_history(history1)\n",
    "plot_history(history1, path=\"standard.png\")\n",
    "plt.close() #  ferme le tracé interactif"
   ]
  },
  {
   "cell_type": "markdown",
   "id": "ee12e794",
   "metadata": {},
   "source": [
    "### <a name=\"C414\"> 4.1.4) Evaluation du modèle <a/>"
   ]
  },
  {
   "cell_type": "markdown",
   "id": "80de3cab",
   "metadata": {},
   "source": [
    "Evaluer les performances de notre modèle en comparant les étiquettes réelles  avec les étiquettes prédites"
   ]
  },
  {
   "cell_type": "markdown",
   "id": "79edb27e",
   "metadata": {},
   "source": [
    "### a.) Conversion des Labels en Labels numérique\n",
    "\n",
    "la fonction **np.argmax** convertiT des vecteurs de variables catégorielles (one-hot encoded) en variables numériques en récupérant l'indice de la valeur maximale dans chaque vecteur."
   ]
  },
  {
   "cell_type": "markdown",
   "id": "e7996724",
   "metadata": {},
   "source": [
    "y_train, y_val et y_test sont des vecteurs de variables catégorielles"
   ]
  },
  {
   "cell_type": "code",
   "execution_count": 16,
   "id": "9427854b",
   "metadata": {
    "scrolled": true
   },
   "outputs": [],
   "source": [
    "# Convertir en variables numériques\n",
    "y_train_num = np.argmax(y_train, axis=1)\n",
    "y_val_num = np.argmax(y_val, axis=1)\n",
    "y_test_num = np.argmax(y_test, axis=1)"
   ]
  },
  {
   "cell_type": "code",
   "execution_count": 17,
   "id": "dc8c66d6",
   "metadata": {},
   "outputs": [
    {
     "name": "stdout",
     "output_type": "stream",
     "text": [
      "27/27 [==============================] - 1251s 48s/step\n",
      "7/7 [==============================] - 40s 6s/step\n",
      "9/9 [==============================] - 48s 5s/step\n"
     ]
    }
   ],
   "source": [
    "# Prédire les étiquettes\n",
    "y_train_pred = np.argmax(model1.predict(X_train), axis=1)\n",
    "y_val_pred = np.argmax(model1.predict(X_val), axis=1)\n",
    "y_test_pred = np.argmax(model1.predict(X_test), axis=1)"
   ]
  },
  {
   "cell_type": "code",
   "execution_count": null,
   "id": "5c79ada8",
   "metadata": {},
   "outputs": [],
   "source": []
  },
  {
   "cell_type": "markdown",
   "id": "92a7ed10",
   "metadata": {},
   "source": [
    "### b.) Analyse de similarité (ARI)"
   ]
  },
  {
   "cell_type": "code",
   "execution_count": 18,
   "id": "839fe6fe",
   "metadata": {},
   "outputs": [
    {
     "name": "stdout",
     "output_type": "stream",
     "text": [
      "Le Score ARI pour data_train est de :  0.9319162698492308\n",
      "------------------------------------------------------------\n",
      "Le Score ARI pour data_train est de :  0.7078951476659227\n"
     ]
    }
   ],
   "source": [
    "from sklearn import cluster, metrics\n",
    "\n",
    "print(\"Le Score ARI pour data_train est de : \", metrics.adjusted_rand_score(y_train_num, y_train_pred))\n",
    "print(60*\"-\")\n",
    "print(\"Le Score ARI pour data_test est de : \", metrics.adjusted_rand_score(y_test_num, y_test_pred))"
   ]
  },
  {
   "cell_type": "markdown",
   "id": "db3f9fcd",
   "metadata": {},
   "source": [
    "### c.) Analyse de précision (Accuracy)"
   ]
  },
  {
   "cell_type": "markdown",
   "id": "a1d9c463",
   "metadata": {},
   "source": [
    "#### Matrice de confusion\n",
    "\n",
    "La matrice de confusion permet d'analyser les erreurs de classification commises par le modèle. En examinant les valeurs hors de la diagonale (les valeurs d'erreur), vous pouvez identifier quelles classes sont souvent confondues entre elles. Cela peut vous donner des indications sur les améliorations potentielles à apporter au modèle ou aux données pour améliorer les performances de classification."
   ]
  },
  {
   "cell_type": "code",
   "execution_count": 19,
   "id": "c652e2bb",
   "metadata": {},
   "outputs": [
    {
     "name": "stdout",
     "output_type": "stream",
     "text": [
      "Donnée validation\n",
      "[[22  1  0  2  2  2  1]\n",
      " [ 0 27  1  1  0  1  0]\n",
      " [ 1  0 27  1  0  1  0]\n",
      " [ 4  1  1 20  1  2  1]\n",
      " [ 7  0  1  1 21  0  0]\n",
      " [ 1  1  0  2  0 26  0]\n",
      " [ 0  2  0  0  0  1 27]]\n",
      "---------------------------------------------------------------------------------------\n",
      "Donnée test\n",
      "[[30  1  0  2  2  2  1]\n",
      " [ 0 33  1  1  0  1  1]\n",
      " [ 1  0 35  1  0  1  0]\n",
      " [ 3  2  1 28  1  2  1]\n",
      " [ 6  0  0  0 32  0  0]\n",
      " [ 1  1  0  1  0 34  0]\n",
      " [ 0  1  0  0  0  1 35]]\n"
     ]
    }
   ],
   "source": [
    "# Matrice de confusion\n",
    "from sklearn import cluster, metrics\n",
    "\n",
    "conf_mat_val = metrics.confusion_matrix(y_val_num, y_val_pred)\n",
    "print(\"Donnée validation\")\n",
    "print(conf_mat_val)\n",
    "\n",
    "print(\"---------------------------------------------------------------------------------------\")\n",
    "\n",
    "conf_mat_test = metrics.confusion_matrix(y_test_num, y_test_pred)\n",
    "print(\"Donnée test\")\n",
    "print(conf_mat_test)"
   ]
  },
  {
   "cell_type": "markdown",
   "id": "2f24e340",
   "metadata": {},
   "source": [
    "La fonction **conf_mat_transform()** utilise une matrice de confusion pour attribuer une correspondance entre les valeurs prédites et les classes réelles, puis elle transforme les valeurs prédites en utilisant cette correspondance"
   ]
  },
  {
   "cell_type": "code",
   "execution_count": 20,
   "id": "da4396e3",
   "metadata": {},
   "outputs": [],
   "source": [
    "def conf_mat_transform(y_true,y_pred) :\n",
    "    conf_mat = metrics.confusion_matrix(y_true, y_pred)\n",
    "    \n",
    "    # Trouver l'indice maximum dans chaque colonne de la matrice de confusion\n",
    "    corresp = np.argmax(conf_mat, axis=0)\n",
    "    print (\"Correspondance des clusters : \", corresp)\n",
    "    #  créer un objet Series à partir des valeurs réelles y_true et le trasforme en dataframe\n",
    "    labels = pd.Series(y_true, name=\"y_true\").to_frame()\n",
    "    # ajouter une colonne \"y_pred\" au DataFrame labels et y assigner les valeurs prédites y_pred\n",
    "    labels['y_pred'] = y_pred\n",
    "    # remplacer la valeur prédite par sa correspondance trouvée dans le tableau corresp\n",
    "    labels['y_pred_transform'] = labels['y_pred'].apply(lambda x : corresp[x]) \n",
    "    \n",
    "    return labels['y_pred_transform']"
   ]
  },
  {
   "cell_type": "markdown",
   "id": "292fc4de",
   "metadata": {},
   "source": [
    "#### c1.) Evaluation Data Validation"
   ]
  },
  {
   "cell_type": "code",
   "execution_count": 21,
   "id": "00efbda7",
   "metadata": {},
   "outputs": [
    {
     "name": "stdout",
     "output_type": "stream",
     "text": [
      "Correspondance des clusters :  [0 1 2 3 4 5 6]\n",
      "[[22  1  0  2  2  2  1]\n",
      " [ 0 27  1  1  0  1  0]\n",
      " [ 1  0 27  1  0  1  0]\n",
      " [ 4  1  1 20  1  2  1]\n",
      " [ 7  0  1  1 21  0  0]\n",
      " [ 1  1  0  2  0 26  0]\n",
      " [ 0  2  0  0  0  1 27]]\n",
      "\n",
      "              precision    recall  f1-score   support\n",
      "\n",
      "           0       0.63      0.73      0.68        30\n",
      "           1       0.84      0.90      0.87        30\n",
      "           2       0.90      0.90      0.90        30\n",
      "           3       0.74      0.67      0.70        30\n",
      "           4       0.88      0.70      0.78        30\n",
      "           5       0.79      0.87      0.83        30\n",
      "           6       0.93      0.90      0.92        30\n",
      "\n",
      "    accuracy                           0.81       210\n",
      "   macro avg       0.82      0.81      0.81       210\n",
      "weighted avg       0.82      0.81      0.81       210\n",
      "\n"
     ]
    }
   ],
   "source": [
    "y_val_pred_transform = conf_mat_transform(y_val_num, y_val_pred)\n",
    "conf_mat = metrics.confusion_matrix(y_val_num, y_val_pred_transform)\n",
    "print(conf_mat)\n",
    "print()\n",
    "print(metrics.classification_report(y_val_num, y_val_pred_transform))"
   ]
  },
  {
   "cell_type": "code",
   "execution_count": 22,
   "id": "e32b66d9",
   "metadata": {},
   "outputs": [
    {
     "data": {
      "text/plain": [
       "<AxesSubplot:>"
      ]
     },
     "execution_count": 22,
     "metadata": {},
     "output_type": "execute_result"
    },
    {
     "data": {
      "image/png": "[encoded data removed]",
      "text/plain": [
       "<Figure size 432x288 with 2 Axes>"
      ]
     },
     "metadata": {
      "needs_background": "light"
     },
     "output_type": "display_data"
    }
   ],
   "source": [
    "df_cm = pd.DataFrame(conf_mat, index = [label for label in list_labels],\n",
    "                  columns = [i for i in \"0123456\"])\n",
    "plt.figure(figsize = (6,4))\n",
    "sns.heatmap(df_cm, annot=True, cmap=\"Greens\")"
   ]
  },
  {
   "cell_type": "markdown",
   "id": "82e92358",
   "metadata": {},
   "source": [
    "#### c2.) Evaluation Data Test"
   ]
  },
  {
   "cell_type": "code",
   "execution_count": 23,
   "id": "475b2cd3",
   "metadata": {},
   "outputs": [
    {
     "name": "stdout",
     "output_type": "stream",
     "text": [
      "Correspondance des clusters :  [0 1 2 3 4 5 6]\n",
      "[[30  1  0  2  2  2  1]\n",
      " [ 0 33  1  1  0  1  1]\n",
      " [ 1  0 35  1  0  1  0]\n",
      " [ 3  2  1 28  1  2  1]\n",
      " [ 6  0  0  0 32  0  0]\n",
      " [ 1  1  0  1  0 34  0]\n",
      " [ 0  1  0  0  0  1 35]]\n",
      "-----------------------------------------------------------------------\n",
      "              precision    recall  f1-score   support\n",
      "\n",
      "           0       0.73      0.79      0.76        38\n",
      "           1       0.87      0.89      0.88        37\n",
      "           2       0.95      0.92      0.93        38\n",
      "           3       0.85      0.74      0.79        38\n",
      "           4       0.91      0.84      0.88        38\n",
      "           5       0.83      0.92      0.87        37\n",
      "           6       0.92      0.95      0.93        37\n",
      "\n",
      "    accuracy                           0.86       263\n",
      "   macro avg       0.87      0.86      0.86       263\n",
      "weighted avg       0.87      0.86      0.86       263\n",
      "\n"
     ]
    }
   ],
   "source": [
    "y_test_pred_transform = conf_mat_transform(y_test_num, y_test_pred)\n",
    "conf_mat = metrics.confusion_matrix(y_test_num, y_test_pred_transform)\n",
    "print(conf_mat)\n",
    "print(\"-----------------------------------------------------------------------\")\n",
    "print(metrics.classification_report(y_test_num, y_test_pred_transform))"
   ]
  },
  {
   "cell_type": "code",
   "execution_count": 24,
   "id": "e92d55f5",
   "metadata": {},
   "outputs": [
    {
     "data": {
      "text/plain": [
       "<AxesSubplot:>"
      ]
     },
     "execution_count": 24,
     "metadata": {},
     "output_type": "execute_result"
    },
    {
     "data": {
      "image/png": "[encoded data removed]",
      "text/plain": [
       "<Figure size 432x288 with 2 Axes>"
      ]
     },
     "metadata": {
      "needs_background": "light"
     },
     "output_type": "display_data"
    }
   ],
   "source": [
    "df_cm = pd.DataFrame(conf_mat, index = [label for label in list_labels],\n",
    "                  columns = [i for i in \"0123456\"])\n",
    "plt.figure(figsize = (6,4))\n",
    "sns.heatmap(df_cm, annot=True, cmap=\"Reds\")"
   ]
  },
  {
   "cell_type": "code",
   "execution_count": null,
   "id": "12f06e92",
   "metadata": {},
   "outputs": [],
   "source": []
  },
  {
   "cell_type": "markdown",
   "id": "14989995",
   "metadata": {},
   "source": [
    "## <a name=\"C42\"> 4.2) Approche avec data augmentation intégrée au modèle <a/>\n",
    "\n",
    "Elle combine le chargement des données et les techniques d'augmentation de données directement dans le modèle d'apprentissage automatique. Cela simplifie le processus de prétraitement des données, augmente la diversité des exemples d'entraînement et améliore les performances du modèle.\n",
    "    \n",
    "######  <a href=\"#C\"> Retour Sommaire <a/>"
   ]
  },
  {
   "cell_type": "markdown",
   "id": "2a3fb098",
   "metadata": {},
   "source": [
    "# Importation des librairies"
   ]
  },
  {
   "cell_type": "code",
   "execution_count": 25,
   "id": "d74e868f",
   "metadata": {},
   "outputs": [],
   "source": [
    "import pandas as pd\n",
    "import numpy as np\n",
    "import os\n",
    "\n",
    "import matplotlib.pyplot as plt\n",
    "import seaborn as sns\n",
    "%matplotlib inline\n",
    "\n",
    "import cv2\n",
    "from tensorflow.keras.applications.vgg16 import VGG16, preprocess_input\n",
    "from tensorflow.keras.preprocessing.image import load_img, img_to_array\n",
    "\n",
    "import tensorflow as tf\n",
    "from tensorflow.keras.applications import VGG16\n",
    "from tensorflow.keras.models import Model, Sequential"
   ]
  },
  {
   "cell_type": "markdown",
   "id": "c94285e1",
   "metadata": {},
   "source": [
    "# Importation de dataset"
   ]
  },
  {
   "cell_type": "code",
   "execution_count": 26,
   "id": "d61a036d",
   "metadata": {},
   "outputs": [
    {
     "name": "stdout",
     "output_type": "stream",
     "text": [
      "1050\n"
     ]
    }
   ],
   "source": [
    "from PIL import Image\n",
    "from os import listdir\n",
    "\n",
    "# Chemin vers le dossier contenant les images\n",
    "repertoire_destination = \"./Flipkart/images_renommees/\"\n",
    "\n",
    "# Compter le nombre fichier image dans le dossier\n",
    "list_photos_nouv = [file for file in listdir(repertoire_destination)]\n",
    "print(len(list_photos_nouv))"
   ]
  },
  {
   "cell_type": "code",
   "execution_count": 27,
   "id": "b300e42a",
   "metadata": {},
   "outputs": [
    {
     "data": {
      "text/html": [
       "<div>\n",
       "<style scoped>\n",
       "    .dataframe tbody tr th:only-of-type {\n",
       "        vertical-align: middle;\n",
       "    }\n",
       "\n",
       "    .dataframe tbody tr th {\n",
       "        vertical-align: top;\n",
       "    }\n",
       "\n",
       "    .dataframe thead th {\n",
       "        text-align: right;\n",
       "    }\n",
       "</style>\n",
       "<table border=\"1\" class=\"dataframe\">\n",
       "  <thead>\n",
       "    <tr style=\"text-align: right;\">\n",
       "      <th></th>\n",
       "      <th>image</th>\n",
       "      <th>nouveau_nom</th>\n",
       "      <th>category</th>\n",
       "      <th>label</th>\n",
       "    </tr>\n",
       "  </thead>\n",
       "  <tbody>\n",
       "    <tr>\n",
       "      <th>0</th>\n",
       "      <td>009099b1f6e1e8f893ec29a7023153c4.jpg</td>\n",
       "      <td>image_0.jpg</td>\n",
       "      <td>Watches</td>\n",
       "      <td>6</td>\n",
       "    </tr>\n",
       "    <tr>\n",
       "      <th>1</th>\n",
       "      <td>0096e89cc25a8b96fb9808716406fe94.jpg</td>\n",
       "      <td>image_1.jpg</td>\n",
       "      <td>Kitchen &amp; Dining</td>\n",
       "      <td>5</td>\n",
       "    </tr>\n",
       "    <tr>\n",
       "      <th>2</th>\n",
       "      <td>00cbbc837d340fa163d11e169fbdb952.jpg</td>\n",
       "      <td>image_2.jpg</td>\n",
       "      <td>Home Furnishing</td>\n",
       "      <td>4</td>\n",
       "    </tr>\n",
       "    <tr>\n",
       "      <th>3</th>\n",
       "      <td>00d84a518e0550612fcfcba3b02b6255.jpg</td>\n",
       "      <td>image_3.jpg</td>\n",
       "      <td>Beauty and Personal Care</td>\n",
       "      <td>1</td>\n",
       "    </tr>\n",
       "    <tr>\n",
       "      <th>4</th>\n",
       "      <td>00e966a5049a262cfc72e6bbf68b80e7.jpg</td>\n",
       "      <td>image_4.jpg</td>\n",
       "      <td>Computers</td>\n",
       "      <td>2</td>\n",
       "    </tr>\n",
       "  </tbody>\n",
       "</table>\n",
       "</div>"
      ],
      "text/plain": [
       "                                  image  nouveau_nom  \\\n",
       "0  009099b1f6e1e8f893ec29a7023153c4.jpg  image_0.jpg   \n",
       "1  0096e89cc25a8b96fb9808716406fe94.jpg  image_1.jpg   \n",
       "2  00cbbc837d340fa163d11e169fbdb952.jpg  image_2.jpg   \n",
       "3  00d84a518e0550612fcfcba3b02b6255.jpg  image_3.jpg   \n",
       "4  00e966a5049a262cfc72e6bbf68b80e7.jpg  image_4.jpg   \n",
       "\n",
       "                    category  label  \n",
       "0                   Watches       6  \n",
       "1          Kitchen & Dining       5  \n",
       "2           Home Furnishing       4  \n",
       "3  Beauty and Personal Care       1  \n",
       "4                 Computers       2  "
      ]
     },
     "execution_count": 27,
     "metadata": {},
     "output_type": "execute_result"
    }
   ],
   "source": [
    "data = pd.read_csv('data')\n",
    "data.head()"
   ]
  },
  {
   "cell_type": "code",
   "execution_count": 28,
   "id": "1421519f",
   "metadata": {},
   "outputs": [],
   "source": [
    "list_labels = ['Home Furnishing ', 'Baby Care ', 'Watches ','Home Decor & Festive Needs ', 'Kitchen & Dining ',\n",
    "               'Beauty and Personal Care ', 'Computers ']"
   ]
  },
  {
   "cell_type": "markdown",
   "id": "0a29076b",
   "metadata": {},
   "source": [
    "### <a name=\"C421\"> 4.2.1) Création des sous répertoire <a/>"
   ]
  },
  {
   "cell_type": "markdown",
   "id": "e20d8121",
   "metadata": {},
   "source": [
    "La fonction vérifie l'existence du répertoire, ainsi que celle des sous-dossiers **\"dataset_train et dataset_test**. Elle  supprime egalement tous les fichiers contenus dans deux sous-dossiers; Elle invite ainsi, l'ajout supplémentaire de fichier au delà de la prportion indiquée"
   ]
  },
  {
   "cell_type": "code",
   "execution_count": 29,
   "id": "b7dd1a34",
   "metadata": {},
   "outputs": [],
   "source": [
    "def delete_files_in_subdirectories(parent_directory, subdirectory1, subdirectory2):\n",
    "    \n",
    "    # Vérifier si le répertoire parent existe\n",
    "    if os.path.exists(parent_directory):\n",
    "        # Chemin complet des sous-dossiers\n",
    "        path_subdirectory1 = os.path.join(parent_directory, subdirectory1)\n",
    "        path_subdirectory2 = os.path.join(parent_directory, subdirectory2)\n",
    "        \n",
    "        # Vérifier si les sous-dossiers existent\n",
    "        if os.path.exists(path_subdirectory1) and os.path.exists(path_subdirectory2):\n",
    "            # Vérifier si le premier sous-dossier contient des fichiers\n",
    "            file_list1 = os.listdir(path_subdirectory1)\n",
    "            if len(file_list1) > 0:\n",
    "                # Supprimer les fichiers du premier sous-dossier\n",
    "                for file_name1 in file_list1:\n",
    "                    file_path1 = os.path.join(path_subdirectory1, file_name1)\n",
    "                    if os.path.isfile(file_path1):\n",
    "                        os.remove(file_path1)\n",
    "                print(\"fichiers initiaux supprimés dans le dataset_train.\")\n",
    "            else:\n",
    "                print(\"Pas de fichiers dans le dataset_train.\")\n",
    "            \n",
    "            # Vérifier si le deuxième sous-dossier contient des fichiers\n",
    "            file_list2 = os.listdir(path_subdirectory2)\n",
    "            if len(file_list2) > 0:\n",
    "                # Supprimer les fichiers du deuxième sous-dossier\n",
    "                for file_name2 in file_list2:\n",
    "                    file_path2 = os.path.join(path_subdirectory2, file_name2)\n",
    "                    if os.path.isfile(file_path2):\n",
    "                        os.remove(file_path2)\n",
    "                print(\"fichiers initiaux supprimés dans le dataset_test.\")\n",
    "            else:\n",
    "                print(\"Pas de fichiers dans le dataset_test.\")\n",
    "        else:\n",
    "            print(\"Les sous-dossiers spécifiés n'existent pas.\")\n",
    "    else:\n",
    "        print(\"Le répertoire parent spécifié n'existe pas.\")\n",
    "\n",
    "parent_directory_path = \"./Flipkart/images_renommees_split/\"\n",
    "subdirectory1_name = \"dataset_train\"\n",
    "subdirectory2_name = \"dataset_test\""
   ]
  },
  {
   "cell_type": "markdown",
   "id": "ca777187",
   "metadata": {},
   "source": [
    "La fonction qui alimente les sous-dossiers : **dataset_train et dataset_test** de fichier, à partir du répertoire source."
   ]
  },
  {
   "cell_type": "code",
   "execution_count": 30,
   "id": "85da203f",
   "metadata": {},
   "outputs": [],
   "source": [
    "import os\n",
    "import random\n",
    "import shutil\n",
    "\n",
    "def create_datasets(source_dir, train_ratio, test_ratio, output_dir):\n",
    "    # Création des dossiers de sortie\n",
    "    os.makedirs(output_dir, exist_ok=True)\n",
    "    train_dir = os.path.join(output_dir, 'dataset_train')\n",
    "    test_dir = os.path.join(output_dir, 'dataset_test')\n",
    "    os.makedirs(train_dir, exist_ok=True)\n",
    "    os.makedirs(test_dir, exist_ok=True)\n",
    "\n",
    "    # Obtention de la liste de tous les fichiers dans le répertoire source\n",
    "    file_list = os.listdir(source_dir)\n",
    "    num_files = len(file_list)\n",
    "\n",
    "    # Calcul du nombre d'échantillons pour chaque ensemble\n",
    "    num_train = int(train_ratio * num_files)\n",
    "    num_test = int(test_ratio * num_files)\n",
    "\n",
    "    # Mélange aléatoire de la liste des fichiers\n",
    "    random.shuffle(file_list)\n",
    "\n",
    "    # Copie des fichiers dans les dossiers d'ensemble correspondants\n",
    "    for i, file_name in enumerate(file_list):\n",
    "        source_file = os.path.join(source_dir, file_name)\n",
    "        if i < num_train:\n",
    "            destination_file = os.path.join(train_dir, file_name)\n",
    "        else:\n",
    "            destination_file = os.path.join(test_dir, file_name)\n",
    "        shutil.copyfile(source_file, destination_file)\n",
    "\n",
    "    print(\"Ensembles de données créés avec succès !\")\n",
    "\n",
    "# Exemple d'utilisation de la fonction\n",
    "source_directory = \"./Flipkart/images_renommees/\"\n",
    "output_directory = \"./Flipkart/images_renommees_split/\"\n",
    "train_ratio = 0.75  # Ratio des données d'entraînement\n",
    "test_ratio = 0.25  # Ratio des données de test"
   ]
  },
  {
   "cell_type": "code",
   "execution_count": 31,
   "id": "8cd564f0",
   "metadata": {},
   "outputs": [
    {
     "name": "stdout",
     "output_type": "stream",
     "text": [
      "Le répertoire parent spécifié n'existe pas.\n",
      "Ensembles de données créés avec succès !\n"
     ]
    }
   ],
   "source": [
    "# Fonction pour reset les sous-dossier\n",
    "delete_files_in_subdirectories(parent_directory_path, subdirectory1_name, subdirectory2_name)\n",
    "# Fonction pour alimenter les sous-dossier\n",
    "create_datasets(source_directory, train_ratio, test_ratio, output_directory)"
   ]
  },
  {
   "cell_type": "markdown",
   "id": "17b9a01c",
   "metadata": {},
   "source": [
    "### a.) Les données d'entrainement\n",
    "Nous allons renommer les image en utilisant les noms initiaux et la catégorie des images"
   ]
  },
  {
   "cell_type": "code",
   "execution_count": 32,
   "id": "b753617a",
   "metadata": {},
   "outputs": [
    {
     "data": {
      "text/html": [
       "<div>\n",
       "<style scoped>\n",
       "    .dataframe tbody tr th:only-of-type {\n",
       "        vertical-align: middle;\n",
       "    }\n",
       "\n",
       "    .dataframe tbody tr th {\n",
       "        vertical-align: top;\n",
       "    }\n",
       "\n",
       "    .dataframe thead th {\n",
       "        text-align: right;\n",
       "    }\n",
       "</style>\n",
       "<table border=\"1\" class=\"dataframe\">\n",
       "  <thead>\n",
       "    <tr style=\"text-align: right;\">\n",
       "      <th></th>\n",
       "      <th>nouveau_nom</th>\n",
       "    </tr>\n",
       "  </thead>\n",
       "  <tbody>\n",
       "    <tr>\n",
       "      <th>0</th>\n",
       "      <td>image_0.jpg</td>\n",
       "    </tr>\n",
       "    <tr>\n",
       "      <th>1</th>\n",
       "      <td>image_1.jpg</td>\n",
       "    </tr>\n",
       "    <tr>\n",
       "      <th>2</th>\n",
       "      <td>image_100.jpg</td>\n",
       "    </tr>\n",
       "    <tr>\n",
       "      <th>3</th>\n",
       "      <td>image_1000.jpg</td>\n",
       "    </tr>\n",
       "    <tr>\n",
       "      <th>4</th>\n",
       "      <td>image_1001.jpg</td>\n",
       "    </tr>\n",
       "  </tbody>\n",
       "</table>\n",
       "</div>"
      ],
      "text/plain": [
       "      nouveau_nom\n",
       "0     image_0.jpg\n",
       "1     image_1.jpg\n",
       "2   image_100.jpg\n",
       "3  image_1000.jpg\n",
       "4  image_1001.jpg"
      ]
     },
     "execution_count": 32,
     "metadata": {},
     "output_type": "execute_result"
    }
   ],
   "source": [
    "from PIL import Image\n",
    "from os import listdir\n",
    "\n",
    "# Chemin vers le dossier contenant les images\n",
    "dossier_images = \"./Flipkart/images_renommees_split/dataset_train/\"\n",
    "\n",
    "# Mettre la liste sous forme de dataframe\n",
    "list_photos = [file for file in listdir(dossier_images)]\n",
    "df_train = pd.DataFrame({\"nouveau_nom\": list_photos})\n",
    "df_train.head()"
   ]
  },
  {
   "cell_type": "markdown",
   "id": "a3519030",
   "metadata": {},
   "source": [
    "##### Fusionner les deux(2) dataframes : \"data\" et \"df_train\""
   ]
  },
  {
   "cell_type": "code",
   "execution_count": 33,
   "id": "cbb639e4",
   "metadata": {},
   "outputs": [
    {
     "data": {
      "text/html": [
       "<div>\n",
       "<style scoped>\n",
       "    .dataframe tbody tr th:only-of-type {\n",
       "        vertical-align: middle;\n",
       "    }\n",
       "\n",
       "    .dataframe tbody tr th {\n",
       "        vertical-align: top;\n",
       "    }\n",
       "\n",
       "    .dataframe thead th {\n",
       "        text-align: right;\n",
       "    }\n",
       "</style>\n",
       "<table border=\"1\" class=\"dataframe\">\n",
       "  <thead>\n",
       "    <tr style=\"text-align: right;\">\n",
       "      <th></th>\n",
       "      <th>nouveau_nom</th>\n",
       "      <th>image</th>\n",
       "      <th>category</th>\n",
       "      <th>label</th>\n",
       "    </tr>\n",
       "  </thead>\n",
       "  <tbody>\n",
       "    <tr>\n",
       "      <th>0</th>\n",
       "      <td>image_0.jpg</td>\n",
       "      <td>009099b1f6e1e8f893ec29a7023153c4.jpg</td>\n",
       "      <td>Watches</td>\n",
       "      <td>6</td>\n",
       "    </tr>\n",
       "    <tr>\n",
       "      <th>1</th>\n",
       "      <td>image_1.jpg</td>\n",
       "      <td>0096e89cc25a8b96fb9808716406fe94.jpg</td>\n",
       "      <td>Kitchen &amp; Dining</td>\n",
       "      <td>5</td>\n",
       "    </tr>\n",
       "    <tr>\n",
       "      <th>2</th>\n",
       "      <td>image_100.jpg</td>\n",
       "      <td>19a570b6717955a8c48e5f280617ef24.jpg</td>\n",
       "      <td>Watches</td>\n",
       "      <td>6</td>\n",
       "    </tr>\n",
       "    <tr>\n",
       "      <th>3</th>\n",
       "      <td>image_1000.jpg</td>\n",
       "      <td>f3dec6a97225941bf9c3213e73943bd3.jpg</td>\n",
       "      <td>Home Furnishing</td>\n",
       "      <td>4</td>\n",
       "    </tr>\n",
       "    <tr>\n",
       "      <th>4</th>\n",
       "      <td>image_1001.jpg</td>\n",
       "      <td>f41761a931135c6c043c7e04abda41b0.jpg</td>\n",
       "      <td>Home Furnishing</td>\n",
       "      <td>4</td>\n",
       "    </tr>\n",
       "  </tbody>\n",
       "</table>\n",
       "</div>"
      ],
      "text/plain": [
       "      nouveau_nom                                 image           category  \\\n",
       "0     image_0.jpg  009099b1f6e1e8f893ec29a7023153c4.jpg           Watches    \n",
       "1     image_1.jpg  0096e89cc25a8b96fb9808716406fe94.jpg  Kitchen & Dining    \n",
       "2   image_100.jpg  19a570b6717955a8c48e5f280617ef24.jpg           Watches    \n",
       "3  image_1000.jpg  f3dec6a97225941bf9c3213e73943bd3.jpg   Home Furnishing    \n",
       "4  image_1001.jpg  f41761a931135c6c043c7e04abda41b0.jpg   Home Furnishing    \n",
       "\n",
       "   label  \n",
       "0      6  \n",
       "1      5  \n",
       "2      6  \n",
       "3      4  \n",
       "4      4  "
      ]
     },
     "execution_count": 33,
     "metadata": {},
     "output_type": "execute_result"
    }
   ],
   "source": [
    "# Fusionner les dataframe\n",
    "data_train = pd.merge(df_train, data, on= 'nouveau_nom' )\n",
    "data_train.head()"
   ]
  },
  {
   "cell_type": "markdown",
   "id": "a1eb6a7a",
   "metadata": {},
   "source": [
    "##### Renommage des images\n",
    "\n",
    "La fonction ajoute aux noms des images leurs catégories"
   ]
  },
  {
   "cell_type": "code",
   "execution_count": 34,
   "id": "175929db",
   "metadata": {},
   "outputs": [
    {
     "name": "stdout",
     "output_type": "stream",
     "text": [
      "Fichiers renommés !\n"
     ]
    }
   ],
   "source": [
    "import os\n",
    "import pandas as pd\n",
    "\n",
    "def renommer_images(repertoire_images, repertoire_destination):\n",
    "    \n",
    "    os.makedirs(repertoire_destination, exist_ok=True)\n",
    "\n",
    "    # Parcourir chaque ligne du DataFrame des catégories\n",
    "    for index, row in data_train.iterrows():\n",
    "        nom_image = row['nouveau_nom']\n",
    "        \n",
    "        # Extraire la catégorie de la colonne correspondante dans le DataFrame\n",
    "        category = row['category']\n",
    "\n",
    "        # Construire le nouveau nom de l'image\n",
    "        nouveau_nom = f\"{category}_{nom_image}\"\n",
    "\n",
    "        # Chemin d'accès à l'image source\n",
    "        chemin_source = os.path.join(repertoire_images, nom_image) # construire le chemin d'accès complet au fichier en joignant le répertoire source et le nom du fichier\n",
    "        repertoire_destination_finale = repertoire_destination + category +\"/\" # ( /) : est utilisé pour séparer les répertoires dans un chemin d'accès\n",
    "        repertoire_destination_finale = repertoire_destination_finale.replace(\" \",\"_\")\n",
    "        os.makedirs( repertoire_destination_finale, exist_ok=True) # créer le répertoire spécifié avec une option permettant d'ignorer l'erreur si le répertoire existe déjà\n",
    "\n",
    "        # Chemin d'accès à l'image de destination\n",
    "        chemin_destination = os.path.join(repertoire_destination_finale, nouveau_nom)\n",
    "\n",
    "        # Renommer et déplacer l'image\n",
    "        shutil.copy(chemin_source, chemin_destination)\n",
    "        \n",
    "    print(\"Fichiers renommés !\")\n",
    "\n",
    "# Exemple d'utilisation\n",
    "repertoire_images = \"./Flipkart/images_renommees_split/dataset_train/\"\n",
    "repertoire_destination = \"./Flipkart/path_train/\"\n",
    "renommer_images(repertoire_images, repertoire_destination)"
   ]
  },
  {
   "cell_type": "markdown",
   "id": "429bba3a",
   "metadata": {},
   "source": [
    "### b.) Les données test"
   ]
  },
  {
   "cell_type": "code",
   "execution_count": 35,
   "id": "d87175ab",
   "metadata": {},
   "outputs": [
    {
     "data": {
      "text/html": [
       "<div>\n",
       "<style scoped>\n",
       "    .dataframe tbody tr th:only-of-type {\n",
       "        vertical-align: middle;\n",
       "    }\n",
       "\n",
       "    .dataframe tbody tr th {\n",
       "        vertical-align: top;\n",
       "    }\n",
       "\n",
       "    .dataframe thead th {\n",
       "        text-align: right;\n",
       "    }\n",
       "</style>\n",
       "<table border=\"1\" class=\"dataframe\">\n",
       "  <thead>\n",
       "    <tr style=\"text-align: right;\">\n",
       "      <th></th>\n",
       "      <th>nouveau_nom</th>\n",
       "      <th>image</th>\n",
       "      <th>category</th>\n",
       "      <th>label</th>\n",
       "    </tr>\n",
       "  </thead>\n",
       "  <tbody>\n",
       "    <tr>\n",
       "      <th>0</th>\n",
       "      <td>image_10.jpg</td>\n",
       "      <td>025a85a3d1cddc6307f7dc075d8d2132.jpg</td>\n",
       "      <td>Kitchen &amp; Dining</td>\n",
       "      <td>5</td>\n",
       "    </tr>\n",
       "    <tr>\n",
       "      <th>1</th>\n",
       "      <td>image_1002.jpg</td>\n",
       "      <td>f4d4c2eec77732f56e47722d7a355f2b.jpg</td>\n",
       "      <td>Home Decor &amp; Festive Needs</td>\n",
       "      <td>3</td>\n",
       "    </tr>\n",
       "    <tr>\n",
       "      <th>2</th>\n",
       "      <td>image_1007.jpg</td>\n",
       "      <td>f69bef5db54cb4c83b2aa8d0ce829d4e.jpg</td>\n",
       "      <td>Kitchen &amp; Dining</td>\n",
       "      <td>5</td>\n",
       "    </tr>\n",
       "    <tr>\n",
       "      <th>3</th>\n",
       "      <td>image_1008.jpg</td>\n",
       "      <td>f6fbce5fffb82a83d7529815c4be9a72.jpg</td>\n",
       "      <td>Beauty and Personal Care</td>\n",
       "      <td>1</td>\n",
       "    </tr>\n",
       "    <tr>\n",
       "      <th>4</th>\n",
       "      <td>image_1009.jpg</td>\n",
       "      <td>f74476ba64365d97a5be7d375cbf4c7a.jpg</td>\n",
       "      <td>Watches</td>\n",
       "      <td>6</td>\n",
       "    </tr>\n",
       "  </tbody>\n",
       "</table>\n",
       "</div>"
      ],
      "text/plain": [
       "      nouveau_nom                                 image  \\\n",
       "0    image_10.jpg  025a85a3d1cddc6307f7dc075d8d2132.jpg   \n",
       "1  image_1002.jpg  f4d4c2eec77732f56e47722d7a355f2b.jpg   \n",
       "2  image_1007.jpg  f69bef5db54cb4c83b2aa8d0ce829d4e.jpg   \n",
       "3  image_1008.jpg  f6fbce5fffb82a83d7529815c4be9a72.jpg   \n",
       "4  image_1009.jpg  f74476ba64365d97a5be7d375cbf4c7a.jpg   \n",
       "\n",
       "                      category  label  \n",
       "0            Kitchen & Dining       5  \n",
       "1  Home Decor & Festive Needs       3  \n",
       "2            Kitchen & Dining       5  \n",
       "3    Beauty and Personal Care       1  \n",
       "4                     Watches       6  "
      ]
     },
     "execution_count": 35,
     "metadata": {},
     "output_type": "execute_result"
    }
   ],
   "source": [
    "# Conversion de la liste d'image en dataframe\n",
    "dossier_images = \"./Flipkart/images_renommees_split/dataset_test/\"\n",
    "# Mettre la liste sous forme de dataframe\n",
    "list_photos = [file for file in listdir(dossier_images)]\n",
    "df_test = pd.DataFrame({\"nouveau_nom\": list_photos})\n",
    "\n",
    "# Fusionner les deux(2) dataframes\n",
    "data_test = pd.merge(df_test, data, on= 'nouveau_nom' )\n",
    "data_test.head()"
   ]
  },
  {
   "cell_type": "code",
   "execution_count": 36,
   "id": "2f0fe4b8",
   "metadata": {},
   "outputs": [
    {
     "name": "stdout",
     "output_type": "stream",
     "text": [
      "Fichiers renommés !\n"
     ]
    }
   ],
   "source": [
    "import os\n",
    "import pandas as pd\n",
    "\n",
    "def renommer_images(repertoire_images, repertoire_destination):\n",
    "    \n",
    "    os.makedirs(repertoire_destination, exist_ok=True)\n",
    "     \n",
    "    # Parcourir chaque ligne du DataFrame des catégories\n",
    "    for index, row in data_test.iterrows():\n",
    "        nom_image = row['nouveau_nom']\n",
    "        \n",
    "        # Extraire la catégorie de la colonne correspondante dans le DataFrame\n",
    "        category = row['category']\n",
    "\n",
    "        # Construire le nouveau nom de l'image\n",
    "        nouveau_nom = f\"{category}_{nom_image}\"\n",
    "\n",
    "        # Chemin d'accès à l'image source\n",
    "        chemin_source = os.path.join(repertoire_images, nom_image) # construire le chemin d'accès complet au fichier en joignant le répertoire source et le nom du fichier\n",
    "        repertoire_destination_finale = repertoire_destination + category + \"/\" # ( /) : est utilisé pour séparer les répertoires dans un chemin d'accès\n",
    "        repertoire_destination_finale = repertoire_destination_finale.replace(\" \",\"_\")\n",
    "        os.makedirs( repertoire_destination_finale, exist_ok=True) # créer le répertoire spécifié avec une option permettant d'ignorer l'erreur si le répertoire existe déjà\n",
    "\n",
    "        # Chemin d'accès à l'image de destination\n",
    "        chemin_destination = os.path.join(repertoire_destination_finale, nouveau_nom)\n",
    "\n",
    "        # Renommer et déplacer l'image\n",
    "        shutil.copy(chemin_source, chemin_destination)\n",
    "        \n",
    "    print(\"Fichiers renommés !\")\n",
    "\n",
    "# Exemple d'utilisation\n",
    "repertoire_images =  \"./Flipkart/images_renommees_split/dataset_test/\"\n",
    "repertoire_destination = \"./Flipkart/path_tests/\"\n",
    "renommer_images(repertoire_images, repertoire_destination)"
   ]
  },
  {
   "cell_type": "markdown",
   "id": "e06d185d",
   "metadata": {},
   "source": [
    "### <a name=\"C422\"> 4.2.2) Préparation des données <a/>"
   ]
  },
  {
   "cell_type": "code",
   "execution_count": 37,
   "id": "e13b24a6",
   "metadata": {},
   "outputs": [],
   "source": [
    "path_train = \"./Flipkart/path_train/\"\n",
    "path_test = \"./Flipkart/path_tests/\""
   ]
  },
  {
   "cell_type": "markdown",
   "id": "3720f69b",
   "metadata": {},
   "source": [
    "La fonction **dataset_fct** est une fonction qui utilise la méthode image_dataset_from_directory de TensorFlow pour charger les données d'un répertoire spécifié."
   ]
  },
  {
   "cell_type": "code",
   "execution_count": 38,
   "id": "63a5c999",
   "metadata": {},
   "outputs": [],
   "source": [
    "batch_size = 32\n",
    "\n",
    "def dataset_fct(path, validation_split=0, data_type=None) :\n",
    "    dataset = tf.keras.utils.image_dataset_from_directory(\n",
    "                    path, labels='inferred', label_mode='categorical',\n",
    "                    class_names=None, batch_size=batch_size, image_size=(224, 224), shuffle=True, seed=42,\n",
    "                    validation_split=validation_split, subset=data_type\n",
    "                    )\n",
    "    return dataset"
   ]
  },
  {
   "cell_type": "markdown",
   "id": "a26c0eeb",
   "metadata": {},
   "source": [
    "Voici une explication ligne par ligne :\n",
    "\n",
    " **batch_size = 32** est utilisé pour spécifier la taille des mini-lots (ou batch) dans le jeu de données. Le mini-lot est un groupe d'échantillons qui est traité simultanément lors de l'entraînement du modèle.\n",
    "\n",
    "1. La fonction **dataset_fct** prend en paramètre path, qui est le chemin du répertoire contenant les images à charger. Elle prend également en compte deux paramètres optionnels : validation_split qui spécifie la fraction de données à utiliser pour la validation, et data_type qui permet de spécifier si les données sont destinées à l'entraînement ou à la validation.\n",
    "\n",
    "2. dataset est une variable dans laquelle nous allons stocker le jeu de données chargé à partir du répertoire spécifié.\n",
    "\n",
    "3. **tf.keras.utils.image_dataset_from_directory** est une méthode de TensorFlow qui permet de créer un jeu de données à partir d'un répertoire contenant des images. Elle prend plusieurs paramètres pour personnaliser le chargement des données :\n",
    "  + labels='inferred': déduit les étiquettes de classe à partir de la structure de répertoires.\n",
    "  + label_mode='categorical': Représente les étiquettes sous forme de tableaux catégoriels codés à chaud.\n",
    "  + image_size=(224, 224): redimensionne les images à une taille cible de 224 x 224 pixels.\n",
    "  + shuffle=True : Mélange l'ensemble de données pour l'entraînement.\n",
    "  + seed=42: Définit la graine pour la reproductibilité.\n",
    "  + validation_split : La fraction des données à utiliser pour la validation. Si validation_split est défini sur 0, aucune donnée de validation ne sera générée.\n",
    "  + subset : Spécifie si les données sont destinées à l'entraînement ou à la validation."
   ]
  },
  {
   "cell_type": "code",
   "execution_count": 39,
   "id": "7829c333",
   "metadata": {},
   "outputs": [
    {
     "name": "stdout",
     "output_type": "stream",
     "text": [
      "Found 787 files belonging to 7 classes.\n",
      "Using 591 files for training.\n",
      "Found 787 files belonging to 7 classes.\n",
      "Using 259 files for validation.\n",
      "Found 263 files belonging to 7 classes.\n"
     ]
    }
   ],
   "source": [
    "dataset_train = dataset_fct(path_train, validation_split=0.25, data_type='training')\n",
    "dataset_val = dataset_fct(path_train, validation_split=0.33, data_type='validation')\n",
    "dataset_test = dataset_fct(path_test, validation_split=0, data_type=None)"
   ]
  },
  {
   "cell_type": "markdown",
   "id": "daa65a6c",
   "metadata": {},
   "source": [
    "une fonction \"**resize_and_rescale**\" qui prend en entrée une image et une étiquette (label) et effectue deux transformations sur l'image"
   ]
  },
  {
   "cell_type": "code",
   "execution_count": 40,
   "id": "19859de4",
   "metadata": {},
   "outputs": [],
   "source": [
    "def resize_and_rescale(image, label):\n",
    "    # convertir le type de données de l'image en vue d'effectuer des opération math\n",
    "    image = tf.cast(image, tf.float32)\n",
    "    \n",
    "    # ajuster la taille de l'image en préservant son aspect ratio.\n",
    "    image = tf.image.resize(image, [IMG_SIZE, IMG_SIZE]) \n",
    "    image = (image / 255.0)\n",
    "    return image, label"
   ]
  },
  {
   "cell_type": "markdown",
   "id": "3b37af31",
   "metadata": {},
   "source": [
    "### <a name=\"C423\"> 4.2.3) Création du modèle de classification <a/>"
   ]
  },
  {
   "cell_type": "markdown",
   "id": "da876ac8",
   "metadata": {},
   "source": [
    "La fonction **create_model_fct2** crée et renvoie un modèle de réseau de neurones convolutif avec une architecture basée sur le modèle pré-entraîné VGG16"
   ]
  },
  {
   "cell_type": "code",
   "execution_count": 41,
   "id": "8a571d72",
   "metadata": {},
   "outputs": [],
   "source": [
    "import tensorflow as tf\n",
    "from tensorflow.keras.layers import Dense, GlobalAveragePooling2D, Dropout\n",
    "from tensorflow.keras.callbacks import ModelCheckpoint, EarlyStopping\n",
    "\n",
    "def create_model_fct2() :\n",
    "    # Data augmentation\n",
    "    data_augmentation = Sequential([RandomFlip(\"horizontal\", input_shape=(224, 224, 3)),RandomRotation(0.1), RandomZoom(0.1),\n",
    "        # Rescaling(1./127.5, offset=-1.0)\n",
    "      ])\n",
    "    \n",
    "    # Récupération modèle pré-entraîné\n",
    "    model_base = VGG16(include_top=False, weights=\"imagenet\", input_shape=(224, 224, 3))\n",
    "    for layer in model_base.layers:\n",
    "        layer.trainable = False\n",
    "\n",
    "    # Définition du nouveau modèle\n",
    "    model = Sequential([data_augmentation, Rescaling(1./127.5, offset=-1), model_base, GlobalAveragePooling2D(),\n",
    "                Dense(256, activation='relu'), Dropout(0.5), Dense(7, activation='softmax')\n",
    "                ])\n",
    "\n",
    "    # compilation du modèle \n",
    "    model.compile(loss=\"categorical_crossentropy\", optimizer='adam', metrics=[\"accuracy\"])\n",
    "\n",
    "    print(model.summary())\n",
    "    \n",
    "    return model"
   ]
  },
  {
   "cell_type": "markdown",
   "id": "adf9f5c4",
   "metadata": {},
   "source": [
    "#### Création du modèle"
   ]
  },
  {
   "cell_type": "code",
   "execution_count": 42,
   "id": "068e4b41",
   "metadata": {
    "scrolled": true
   },
   "outputs": [
    {
     "name": "stdout",
     "output_type": "stream",
     "text": [
      "Model: \"sequential_1\"\n",
      "_________________________________________________________________\n",
      " Layer (type)                Output Shape              Param #   \n",
      "=================================================================\n",
      " sequential (Sequential)     (None, 224, 224, 3)       0         \n",
      "                                                                 \n",
      " rescaling (Rescaling)       (None, 224, 224, 3)       0         \n",
      "                                                                 \n",
      " vgg16 (Functional)          (None, 7, 7, 512)         14714688  \n",
      "                                                                 \n",
      " global_average_pooling2d_1   (None, 512)              0         \n",
      " (GlobalAveragePooling2D)                                        \n",
      "                                                                 \n",
      " dense_2 (Dense)             (None, 256)               131328    \n",
      "                                                                 \n",
      " dropout_1 (Dropout)         (None, 256)               0         \n",
      "                                                                 \n",
      " dense_3 (Dense)             (None, 7)                 1799      \n",
      "                                                                 \n",
      "=================================================================\n",
      "Total params: 14,847,815\n",
      "Trainable params: 133,127\n",
      "Non-trainable params: 14,714,688\n",
      "_________________________________________________________________\n",
      "None\n"
     ]
    }
   ],
   "source": [
    "from tensorflow.keras.layers import Rescaling, RandomFlip, RandomRotation, RandomZoom\n",
    "\n",
    "# Création du modèle\n",
    "with tf.device('/gpu:0'): \n",
    "    model4 = create_model_fct2()\n",
    "\n",
    "# Création du callback\n",
    "model4_save_path = \"./model4_best_weights.h5\"\n",
    "checkpoint = ModelCheckpoint(model4_save_path, monitor='val_loss', verbose=1, save_best_only=True, mode='min')\n",
    "es = EarlyStopping(monitor='val_loss', mode='min', verbose=1, patience=5)\n",
    "callbacks_list = [checkpoint]"
   ]
  },
  {
   "cell_type": "markdown",
   "id": "e5e6d6c2",
   "metadata": {},
   "source": [
    "### <a name=\"C424\"> 4.2.4) Entrainement des données <a/>"
   ]
  },
  {
   "cell_type": "code",
   "execution_count": 43,
   "id": "dcfe5f3c",
   "metadata": {},
   "outputs": [
    {
     "name": "stdout",
     "output_type": "stream",
     "text": [
      "Num GPUs Available:  0\n"
     ]
    }
   ],
   "source": [
    "print(\"Num GPUs Available: \", len(tf.config.list_physical_devices('GPU')))"
   ]
  },
  {
   "cell_type": "code",
   "execution_count": 44,
   "id": "39dd6455",
   "metadata": {
    "scrolled": true
   },
   "outputs": [
    {
     "name": "stdout",
     "output_type": "stream",
     "text": [
      "Epoch 1/50\n",
      "19/19 [==============================] - ETA: 0s - loss: 1.8934 - accuracy: 0.2234\n",
      "Epoch 1: val_loss improved from inf to 1.46153, saving model to .\\model4_best_weights.h5\n",
      "19/19 [==============================] - 156s 8s/step - loss: 1.8934 - accuracy: 0.2234 - val_loss: 1.4615 - val_accuracy: 0.5097\n",
      "Epoch 2/50\n",
      "19/19 [==============================] - ETA: 0s - loss: 1.4346 - accuracy: 0.5313\n",
      "Epoch 2: val_loss improved from 1.46153 to 1.12871, saving model to .\\model4_best_weights.h5\n",
      "19/19 [==============================] - 151s 8s/step - loss: 1.4346 - accuracy: 0.5313 - val_loss: 1.1287 - val_accuracy: 0.6950\n",
      "Epoch 3/50\n",
      "19/19 [==============================] - ETA: 0s - loss: 1.2138 - accuracy: 0.6193\n",
      "Epoch 3: val_loss improved from 1.12871 to 0.96548, saving model to .\\model4_best_weights.h5\n",
      "19/19 [==============================] - 155s 8s/step - loss: 1.2138 - accuracy: 0.6193 - val_loss: 0.9655 - val_accuracy: 0.7375\n",
      "Epoch 4/50\n",
      "19/19 [==============================] - ETA: 0s - loss: 1.0567 - accuracy: 0.6785\n",
      "Epoch 4: val_loss improved from 0.96548 to 0.86097, saving model to .\\model4_best_weights.h5\n",
      "19/19 [==============================] - 152s 8s/step - loss: 1.0567 - accuracy: 0.6785 - val_loss: 0.8610 - val_accuracy: 0.7375\n",
      "Epoch 5/50\n",
      "19/19 [==============================] - ETA: 0s - loss: 0.9525 - accuracy: 0.6920\n",
      "Epoch 5: val_loss improved from 0.86097 to 0.78884, saving model to .\\model4_best_weights.h5\n",
      "19/19 [==============================] - 156s 8s/step - loss: 0.9525 - accuracy: 0.6920 - val_loss: 0.7888 - val_accuracy: 0.7568\n",
      "Epoch 6/50\n",
      "19/19 [==============================] - ETA: 0s - loss: 0.9255 - accuracy: 0.7005\n",
      "Epoch 6: val_loss improved from 0.78884 to 0.75107, saving model to .\\model4_best_weights.h5\n",
      "19/19 [==============================] - 153s 8s/step - loss: 0.9255 - accuracy: 0.7005 - val_loss: 0.7511 - val_accuracy: 0.7606\n",
      "Epoch 7/50\n",
      "19/19 [==============================] - ETA: 0s - loss: 0.8947 - accuracy: 0.7090\n",
      "Epoch 7: val_loss improved from 0.75107 to 0.72515, saving model to .\\model4_best_weights.h5\n",
      "19/19 [==============================] - 171s 9s/step - loss: 0.8947 - accuracy: 0.7090 - val_loss: 0.7252 - val_accuracy: 0.7683\n",
      "Epoch 8/50\n",
      "19/19 [==============================] - ETA: 0s - loss: 0.8172 - accuracy: 0.7445\n",
      "Epoch 8: val_loss improved from 0.72515 to 0.70323, saving model to .\\model4_best_weights.h5\n",
      "19/19 [==============================] - 184s 10s/step - loss: 0.8172 - accuracy: 0.7445 - val_loss: 0.7032 - val_accuracy: 0.7645\n",
      "Epoch 9/50\n",
      "19/19 [==============================] - ETA: 0s - loss: 0.8116 - accuracy: 0.7445\n",
      "Epoch 9: val_loss improved from 0.70323 to 0.68015, saving model to .\\model4_best_weights.h5\n",
      "19/19 [==============================] - 185s 10s/step - loss: 0.8116 - accuracy: 0.7445 - val_loss: 0.6802 - val_accuracy: 0.7606\n",
      "Epoch 10/50\n",
      "19/19 [==============================] - ETA: 0s - loss: 0.7801 - accuracy: 0.7648\n",
      "Epoch 10: val_loss improved from 0.68015 to 0.66323, saving model to .\\model4_best_weights.h5\n",
      "19/19 [==============================] - 171s 9s/step - loss: 0.7801 - accuracy: 0.7648 - val_loss: 0.6632 - val_accuracy: 0.7722\n",
      "Epoch 11/50\n",
      "19/19 [==============================] - ETA: 0s - loss: 0.7282 - accuracy: 0.7665\n",
      "Epoch 11: val_loss improved from 0.66323 to 0.63823, saving model to .\\model4_best_weights.h5\n",
      "19/19 [==============================] - 179s 9s/step - loss: 0.7282 - accuracy: 0.7665 - val_loss: 0.6382 - val_accuracy: 0.7683\n",
      "Epoch 12/50\n",
      "19/19 [==============================] - ETA: 0s - loss: 0.7245 - accuracy: 0.7597\n",
      "Epoch 12: val_loss improved from 0.63823 to 0.63470, saving model to .\\model4_best_weights.h5\n",
      "19/19 [==============================] - 183s 10s/step - loss: 0.7245 - accuracy: 0.7597 - val_loss: 0.6347 - val_accuracy: 0.7799\n",
      "Epoch 13/50\n",
      "19/19 [==============================] - ETA: 0s - loss: 0.6849 - accuracy: 0.7851\n",
      "Epoch 13: val_loss did not improve from 0.63470\n",
      "19/19 [==============================] - 176s 9s/step - loss: 0.6849 - accuracy: 0.7851 - val_loss: 0.6364 - val_accuracy: 0.7799\n",
      "Epoch 14/50\n",
      "19/19 [==============================] - ETA: 0s - loss: 0.6650 - accuracy: 0.7919\n",
      "Epoch 14: val_loss improved from 0.63470 to 0.60902, saving model to .\\model4_best_weights.h5\n",
      "19/19 [==============================] - 178s 9s/step - loss: 0.6650 - accuracy: 0.7919 - val_loss: 0.6090 - val_accuracy: 0.7876\n",
      "Epoch 15/50\n",
      "19/19 [==============================] - ETA: 0s - loss: 0.6482 - accuracy: 0.7817\n",
      "Epoch 15: val_loss improved from 0.60902 to 0.60364, saving model to .\\model4_best_weights.h5\n",
      "19/19 [==============================] - 174s 9s/step - loss: 0.6482 - accuracy: 0.7817 - val_loss: 0.6036 - val_accuracy: 0.7876\n",
      "Epoch 16/50\n",
      "19/19 [==============================] - ETA: 0s - loss: 0.6091 - accuracy: 0.8105\n",
      "Epoch 16: val_loss improved from 0.60364 to 0.58673, saving model to .\\model4_best_weights.h5\n",
      "19/19 [==============================] - 172s 9s/step - loss: 0.6091 - accuracy: 0.8105 - val_loss: 0.5867 - val_accuracy: 0.7915\n",
      "Epoch 17/50\n",
      "19/19 [==============================] - ETA: 0s - loss: 0.6090 - accuracy: 0.8037\n",
      "Epoch 17: val_loss improved from 0.58673 to 0.58194, saving model to .\\model4_best_weights.h5\n",
      "19/19 [==============================] - 171s 9s/step - loss: 0.6090 - accuracy: 0.8037 - val_loss: 0.5819 - val_accuracy: 0.7954\n",
      "Epoch 18/50\n",
      "19/19 [==============================] - ETA: 0s - loss: 0.5898 - accuracy: 0.8308\n",
      "Epoch 18: val_loss did not improve from 0.58194\n",
      "19/19 [==============================] - 167s 9s/step - loss: 0.5898 - accuracy: 0.8308 - val_loss: 0.5884 - val_accuracy: 0.8031\n",
      "Epoch 19/50\n",
      "19/19 [==============================] - ETA: 0s - loss: 0.5896 - accuracy: 0.8088\n",
      "Epoch 19: val_loss improved from 0.58194 to 0.56171, saving model to .\\model4_best_weights.h5\n",
      "19/19 [==============================] - 157s 8s/step - loss: 0.5896 - accuracy: 0.8088 - val_loss: 0.5617 - val_accuracy: 0.7992\n",
      "Epoch 20/50\n",
      "19/19 [==============================] - ETA: 0s - loss: 0.5837 - accuracy: 0.8156\n",
      "Epoch 20: val_loss did not improve from 0.56171\n",
      "19/19 [==============================] - 158s 8s/step - loss: 0.5837 - accuracy: 0.8156 - val_loss: 0.5621 - val_accuracy: 0.7915\n",
      "Epoch 21/50\n",
      "19/19 [==============================] - ETA: 0s - loss: 0.5322 - accuracy: 0.8342\n",
      "Epoch 21: val_loss improved from 0.56171 to 0.55607, saving model to .\\model4_best_weights.h5\n",
      "19/19 [==============================] - 176s 9s/step - loss: 0.5322 - accuracy: 0.8342 - val_loss: 0.5561 - val_accuracy: 0.8147\n",
      "Epoch 22/50\n",
      "19/19 [==============================] - ETA: 0s - loss: 0.5319 - accuracy: 0.8477\n",
      "Epoch 22: val_loss did not improve from 0.55607\n",
      "19/19 [==============================] - 176s 9s/step - loss: 0.5319 - accuracy: 0.8477 - val_loss: 0.5562 - val_accuracy: 0.7954\n",
      "Epoch 23/50\n",
      "19/19 [==============================] - ETA: 0s - loss: 0.5314 - accuracy: 0.8240\n",
      "Epoch 23: val_loss improved from 0.55607 to 0.54223, saving model to .\\model4_best_weights.h5\n",
      "19/19 [==============================] - 174s 9s/step - loss: 0.5314 - accuracy: 0.8240 - val_loss: 0.5422 - val_accuracy: 0.8108\n",
      "Epoch 24/50\n",
      "19/19 [==============================] - ETA: 0s - loss: 0.5162 - accuracy: 0.8409\n",
      "Epoch 24: val_loss improved from 0.54223 to 0.52972, saving model to .\\model4_best_weights.h5\n",
      "19/19 [==============================] - 179s 9s/step - loss: 0.5162 - accuracy: 0.8409 - val_loss: 0.5297 - val_accuracy: 0.8147\n",
      "Epoch 25/50\n",
      "19/19 [==============================] - ETA: 0s - loss: 0.4806 - accuracy: 0.8613\n",
      "Epoch 25: val_loss improved from 0.52972 to 0.52556, saving model to .\\model4_best_weights.h5\n",
      "19/19 [==============================] - 173s 9s/step - loss: 0.4806 - accuracy: 0.8613 - val_loss: 0.5256 - val_accuracy: 0.8069\n",
      "Epoch 26/50\n",
      "19/19 [==============================] - ETA: 0s - loss: 0.4680 - accuracy: 0.8376\n",
      "Epoch 26: val_loss did not improve from 0.52556\n",
      "19/19 [==============================] - 174s 9s/step - loss: 0.4680 - accuracy: 0.8376 - val_loss: 0.5334 - val_accuracy: 0.8301\n",
      "Epoch 27/50\n",
      "19/19 [==============================] - ETA: 0s - loss: 0.4718 - accuracy: 0.8511\n",
      "Epoch 27: val_loss did not improve from 0.52556\n",
      "19/19 [==============================] - 188s 10s/step - loss: 0.4718 - accuracy: 0.8511 - val_loss: 0.5395 - val_accuracy: 0.8108\n"
     ]
    },
    {
     "name": "stdout",
     "output_type": "stream",
     "text": [
      "Epoch 28/50\n",
      "19/19 [==============================] - ETA: 0s - loss: 0.4452 - accuracy: 0.8629\n",
      "Epoch 28: val_loss improved from 0.52556 to 0.51903, saving model to .\\model4_best_weights.h5\n",
      "19/19 [==============================] - 173s 9s/step - loss: 0.4452 - accuracy: 0.8629 - val_loss: 0.5190 - val_accuracy: 0.8263\n",
      "Epoch 29/50\n",
      "19/19 [==============================] - ETA: 0s - loss: 0.4401 - accuracy: 0.8613\n",
      "Epoch 29: val_loss improved from 0.51903 to 0.51070, saving model to .\\model4_best_weights.h5\n",
      "19/19 [==============================] - 172s 9s/step - loss: 0.4401 - accuracy: 0.8613 - val_loss: 0.5107 - val_accuracy: 0.8185\n",
      "Epoch 30/50\n",
      "19/19 [==============================] - ETA: 0s - loss: 0.4146 - accuracy: 0.8528\n",
      "Epoch 30: val_loss improved from 0.51070 to 0.50527, saving model to .\\model4_best_weights.h5\n",
      "19/19 [==============================] - 171s 9s/step - loss: 0.4146 - accuracy: 0.8528 - val_loss: 0.5053 - val_accuracy: 0.8263\n",
      "Epoch 31/50\n",
      "19/19 [==============================] - ETA: 0s - loss: 0.4034 - accuracy: 0.8883\n",
      "Epoch 31: val_loss improved from 0.50527 to 0.49845, saving model to .\\model4_best_weights.h5\n",
      "19/19 [==============================] - 170s 9s/step - loss: 0.4034 - accuracy: 0.8883 - val_loss: 0.4985 - val_accuracy: 0.8340\n",
      "Epoch 32/50\n",
      "19/19 [==============================] - ETA: 0s - loss: 0.4199 - accuracy: 0.8680\n",
      "Epoch 32: val_loss did not improve from 0.49845\n",
      "19/19 [==============================] - 172s 9s/step - loss: 0.4199 - accuracy: 0.8680 - val_loss: 0.5139 - val_accuracy: 0.8069\n",
      "Epoch 33/50\n",
      "19/19 [==============================] - ETA: 0s - loss: 0.3991 - accuracy: 0.8714\n",
      "Epoch 33: val_loss improved from 0.49845 to 0.49626, saving model to .\\model4_best_weights.h5\n",
      "19/19 [==============================] - 171s 9s/step - loss: 0.3991 - accuracy: 0.8714 - val_loss: 0.4963 - val_accuracy: 0.8224\n",
      "Epoch 34/50\n",
      "19/19 [==============================] - ETA: 0s - loss: 0.3886 - accuracy: 0.8731\n",
      "Epoch 34: val_loss did not improve from 0.49626\n",
      "19/19 [==============================] - 167s 9s/step - loss: 0.3886 - accuracy: 0.8731 - val_loss: 0.4996 - val_accuracy: 0.8108\n",
      "Epoch 35/50\n",
      "19/19 [==============================] - ETA: 0s - loss: 0.3849 - accuracy: 0.8646\n",
      "Epoch 35: val_loss did not improve from 0.49626\n",
      "19/19 [==============================] - 162s 9s/step - loss: 0.3849 - accuracy: 0.8646 - val_loss: 0.4984 - val_accuracy: 0.8185\n",
      "Epoch 36/50\n",
      "19/19 [==============================] - ETA: 0s - loss: 0.3651 - accuracy: 0.8816\n",
      "Epoch 36: val_loss improved from 0.49626 to 0.49348, saving model to .\\model4_best_weights.h5\n",
      "19/19 [==============================] - 196s 10s/step - loss: 0.3651 - accuracy: 0.8816 - val_loss: 0.4935 - val_accuracy: 0.8301\n",
      "Epoch 37/50\n",
      "19/19 [==============================] - ETA: 0s - loss: 0.3750 - accuracy: 0.8782\n",
      "Epoch 37: val_loss did not improve from 0.49348\n",
      "19/19 [==============================] - 168s 9s/step - loss: 0.3750 - accuracy: 0.8782 - val_loss: 0.4954 - val_accuracy: 0.8224\n",
      "Epoch 38/50\n",
      "19/19 [==============================] - ETA: 0s - loss: 0.3495 - accuracy: 0.8832\n",
      "Epoch 38: val_loss improved from 0.49348 to 0.48683, saving model to .\\model4_best_weights.h5\n",
      "19/19 [==============================] - 173s 9s/step - loss: 0.3495 - accuracy: 0.8832 - val_loss: 0.4868 - val_accuracy: 0.8417\n",
      "Epoch 39/50\n",
      "19/19 [==============================] - ETA: 0s - loss: 0.3575 - accuracy: 0.8900\n",
      "Epoch 39: val_loss did not improve from 0.48683\n",
      "19/19 [==============================] - 183s 10s/step - loss: 0.3575 - accuracy: 0.8900 - val_loss: 0.5021 - val_accuracy: 0.8263\n",
      "Epoch 40/50\n",
      "19/19 [==============================] - ETA: 0s - loss: 0.3475 - accuracy: 0.8832\n",
      "Epoch 40: val_loss did not improve from 0.48683\n",
      "19/19 [==============================] - 182s 10s/step - loss: 0.3475 - accuracy: 0.8832 - val_loss: 0.4930 - val_accuracy: 0.8185\n",
      "Epoch 41/50\n",
      "19/19 [==============================] - ETA: 0s - loss: 0.3380 - accuracy: 0.8900\n",
      "Epoch 41: val_loss improved from 0.48683 to 0.48105, saving model to .\\model4_best_weights.h5\n",
      "19/19 [==============================] - 200s 11s/step - loss: 0.3380 - accuracy: 0.8900 - val_loss: 0.4811 - val_accuracy: 0.8456\n",
      "Epoch 42/50\n",
      "19/19 [==============================] - ETA: 0s - loss: 0.3143 - accuracy: 0.9103\n",
      "Epoch 42: val_loss improved from 0.48105 to 0.47432, saving model to .\\model4_best_weights.h5\n",
      "19/19 [==============================] - 156s 8s/step - loss: 0.3143 - accuracy: 0.9103 - val_loss: 0.4743 - val_accuracy: 0.8417\n",
      "Epoch 43/50\n",
      "19/19 [==============================] - ETA: 0s - loss: 0.3227 - accuracy: 0.8917\n",
      "Epoch 43: val_loss did not improve from 0.47432\n",
      "19/19 [==============================] - 154s 8s/step - loss: 0.3227 - accuracy: 0.8917 - val_loss: 0.4772 - val_accuracy: 0.8185\n",
      "Epoch 44/50\n",
      "19/19 [==============================] - ETA: 0s - loss: 0.3216 - accuracy: 0.8934\n",
      "Epoch 44: val_loss did not improve from 0.47432\n",
      "19/19 [==============================] - 168s 9s/step - loss: 0.3216 - accuracy: 0.8934 - val_loss: 0.4872 - val_accuracy: 0.8340\n",
      "Epoch 45/50\n",
      "19/19 [==============================] - ETA: 0s - loss: 0.2933 - accuracy: 0.9171\n",
      "Epoch 45: val_loss did not improve from 0.47432\n",
      "19/19 [==============================] - 178s 9s/step - loss: 0.2933 - accuracy: 0.9171 - val_loss: 0.4825 - val_accuracy: 0.8340\n",
      "Epoch 46/50\n",
      "19/19 [==============================] - ETA: 0s - loss: 0.2999 - accuracy: 0.9120\n",
      "Epoch 46: val_loss did not improve from 0.47432\n",
      "19/19 [==============================] - 169s 9s/step - loss: 0.2999 - accuracy: 0.9120 - val_loss: 0.4789 - val_accuracy: 0.8378\n",
      "Epoch 47/50\n",
      "19/19 [==============================] - ETA: 0s - loss: 0.2724 - accuracy: 0.9323\n",
      "Epoch 47: val_loss did not improve from 0.47432\n",
      "19/19 [==============================] - 169s 9s/step - loss: 0.2724 - accuracy: 0.9323 - val_loss: 0.4903 - val_accuracy: 0.8340\n",
      "Epoch 48/50\n",
      "19/19 [==============================] - ETA: 0s - loss: 0.2926 - accuracy: 0.9306\n",
      "Epoch 48: val_loss did not improve from 0.47432\n",
      "19/19 [==============================] - 156s 8s/step - loss: 0.2926 - accuracy: 0.9306 - val_loss: 0.4884 - val_accuracy: 0.8263\n",
      "Epoch 49/50\n",
      "19/19 [==============================] - ETA: 0s - loss: 0.2813 - accuracy: 0.9069\n",
      "Epoch 49: val_loss did not improve from 0.47432\n",
      "19/19 [==============================] - 154s 8s/step - loss: 0.2813 - accuracy: 0.9069 - val_loss: 0.4831 - val_accuracy: 0.8456\n",
      "Epoch 50/50\n",
      "19/19 [==============================] - ETA: 0s - loss: 0.2549 - accuracy: 0.9272\n",
      "Epoch 50: val_loss did not improve from 0.47432\n",
      "19/19 [==============================] - 152s 8s/step - loss: 0.2549 - accuracy: 0.9272 - val_loss: 0.4862 - val_accuracy: 0.8494\n"
     ]
    }
   ],
   "source": [
    "with tf.device('/gpu:0'): \n",
    "    history4 = model4.fit(dataset_train,\n",
    "                    validation_data=dataset_val,\n",
    "                    batch_size=batch_size, epochs=50, callbacks=callbacks_list, verbose=1)"
   ]
  },
  {
   "cell_type": "markdown",
   "id": "014850c6",
   "metadata": {},
   "source": [
    "#### Score du dernier epoch"
   ]
  },
  {
   "cell_type": "code",
   "execution_count": 45,
   "id": "dd103d99",
   "metadata": {},
   "outputs": [
    {
     "name": "stdout",
     "output_type": "stream",
     "text": [
      "19/19 [==============================] - 108s 6s/step - loss: 0.1813 - accuracy: 0.9374\n",
      "Training Accuracy   : 0.9374\n",
      "\n",
      "9/9 [==============================] - 46s 5s/step - loss: 0.4862 - accuracy: 0.8494\n",
      "Validation Accuracy :  0.8494\n"
     ]
    }
   ],
   "source": [
    "# Score du dernier epoch\n",
    "\n",
    "loss, accuracy = model4.evaluate(dataset_train, verbose=True)\n",
    "print(\"Training Accuracy   : {:.4f}\".format(accuracy))\n",
    "print()\n",
    "loss, accuracy = model4.evaluate(dataset_val, verbose=True)\n",
    "print(\"Validation Accuracy :  {:.4f}\".format(accuracy))"
   ]
  },
  {
   "cell_type": "markdown",
   "id": "2214566d",
   "metadata": {},
   "source": [
    "####  Score de l'epoch optimal"
   ]
  },
  {
   "cell_type": "code",
   "execution_count": 46,
   "id": "fb4579e1",
   "metadata": {},
   "outputs": [
    {
     "name": "stdout",
     "output_type": "stream",
     "text": [
      "Validation Accuracy :  0.8417\n",
      "Test Accuracy       :  0.7947\n"
     ]
    }
   ],
   "source": [
    "# Score de l'epoch optimal\n",
    "\n",
    "model4.load_weights(model4_save_path)\n",
    "\n",
    "loss, accuracy = model4.evaluate(dataset_val, verbose=False)\n",
    "print(\"Validation Accuracy :  {:.4f}\".format(accuracy))\n",
    "\n",
    "loss, accuracy = model4.evaluate(dataset_test, verbose=False)\n",
    "print(\"Test Accuracy       :  {:.4f}\".format(accuracy))# # Score de l'epoch optimal"
   ]
  },
  {
   "cell_type": "markdown",
   "id": "83adea42",
   "metadata": {},
   "source": [
    "#### Visualisation de l'historique de formation du modèle"
   ]
  },
  {
   "cell_type": "code",
   "execution_count": 47,
   "id": "da195a07",
   "metadata": {},
   "outputs": [
    {
     "data": {
      "image/png": "[encoded data removed]",
      "text/plain": [
       "<Figure size 1000x500 with 2 Axes>"
      ]
     },
     "metadata": {
      "needs_background": "light"
     },
     "output_type": "display_data"
    }
   ],
   "source": [
    "from plot_keras_history import show_history, plot_history\n",
    "import matplotlib.pyplot as plt\n",
    "\n",
    "show_history(history4)\n",
    "plot_history(history4, path=\"standard.png\")\n",
    "plt.close()"
   ]
  },
  {
   "cell_type": "markdown",
   "id": "376cac8d",
   "metadata": {},
   "source": [
    "### <a name=\"C425\"> 4.2.5) Evaluation du modèle <a/>"
   ]
  },
  {
   "cell_type": "markdown",
   "id": "c29d9ebc",
   "metadata": {},
   "source": [
    "### a.) Conversion des Labels en Labels numérique"
   ]
  },
  {
   "cell_type": "markdown",
   "id": "d330f1c5",
   "metadata": {},
   "source": [
    "##### Data Train"
   ]
  },
  {
   "cell_type": "code",
   "execution_count": 48,
   "id": "3ab98366",
   "metadata": {},
   "outputs": [
    {
     "name": "stderr",
     "output_type": "stream",
     "text": [
      "C:\\Users\\dmedc\\anaconda3\\lib\\site-packages\\PIL\\Image.py:2896: DecompressionBombWarning: Image size (93680328 pixels) exceeds limit of 89478485 pixels, could be decompression bomb DOS attack.\n",
      "  warnings.warn(\n"
     ]
    }
   ],
   "source": [
    "def image_prep_fct(data) :\n",
    "    prepared_images = []\n",
    "\n",
    "    # Boucle pour extraire les caractéristiques de chaque image\n",
    "    for image_file in data_train[\"nouveau_nom\"]:\n",
    "        img_path = \"./Flipkart/images_renommees_split/dataset_train/\"\n",
    "        image = load_img(img_path + image_file, target_size=(224, 224)) # Charge l'image et redimensionne l'image \n",
    "        img = img_to_array(image) # Convertir l'image en un tableau numpy.\n",
    "       \n",
    "        img = img.reshape((img.shape[0], img.shape[1], img.shape[2])) # Réorganise les dimensions du tableau pour correspondre à la forme (hauteur, largeur, canaux) de l'image.\n",
    "        img = preprocess_input(img)\n",
    "        prepared_images.append(img)\n",
    "        prepared_images_np = np.array(prepared_images) #  Convertir la liste en un tableau numpy.\n",
    "    return prepared_images_np\n",
    "    \n",
    "images_np = image_prep_fct(data_train)\n",
    "X_train = images_np"
   ]
  },
  {
   "cell_type": "code",
   "execution_count": 49,
   "id": "8b622540",
   "metadata": {},
   "outputs": [],
   "source": [
    "from tensorflow.keras.utils import to_categorical\n",
    "# effectue la conversion des étiquettes de classe en format catégoriel\n",
    "y_train = to_categorical(data_train['label'])\n",
    "\n",
    "# Convertir avec one-hot encoded labels en labels numérique\n",
    "y_train_num = np.argmax(y_train, axis=1)"
   ]
  },
  {
   "cell_type": "code",
   "execution_count": 50,
   "id": "27104c01",
   "metadata": {
    "scrolled": true
   },
   "outputs": [
    {
     "name": "stdout",
     "output_type": "stream",
     "text": [
      "25/25 [==============================] - 144s 6s/step\n",
      "[6 5 6 4 4 0 4 6 4 2 1 0 0 5 4 1 3 0 1 5 1 1 4 0 2 4 4 5 5 1 4 2 2 2 5 2 3\n",
      " 1 0 6 3 0 1 5 5 2 1 6 1 2 1 6 5 5 2 3 5 6 3 0 0 5 6 1 0 2 4 1 2 0 4 1 2 3\n",
      " 3 5 4 4 4 3 2 6 5 3 2 3 1 4 6 4 0 2 0 6 1 3 3 6 5 4 3 3 5 3 6 4 0 2 0 0 0\n",
      " 6 0 4 4 5 6 3 2 3 6 6 4 6 1 3 5 6 0 0 4 1 2 6 0 1 0 1 5 3 0 1 5 6 0 4 0 1\n",
      " 4 4 5 6 3 6 3 3 6 3 4 1 4 2 5 0 3 1 1 4 5 0 6 2 1 3 2 3 4 1 6 3 2 2 4 3 1\n",
      " 0 3 5 3 6 4 6 6 1 1 0 5 1 1 1 5 6 0 1 3 2 4 2 1 2 5 1 0 6 6 6 3 5 4 1 0 1\n",
      " 6 6 2 6 2 3 6 2 6 5 5 3 5 6 4 3 2 1 3 3 5 0 4 4 4 4 5 1 2 5 3 0 3 2 3 1 4\n",
      " 6 5 5 1 0 6 3 0 4 2 2 5 2 3 2 4 6 0 4 0 2 0 0 3 5 1 2 3 6 6 2 0 2 6 4 1 6\n",
      " 3 1 5 6 4 3 4 0 5 5 4 3 5 6 1 1 5 2 3 6 1 0 5 3 2 3 0 4 0 5 6 6 6 0 1 0 0\n",
      " 6 6 4 5 0 1 1 5 6 0 5 6 5 5 5 5 4 4 4 5 3 0 6 6 0 1 2 2 1 0 5 6 5 4 5 6 3\n",
      " 5 5 1 4 0 2 0 1 0 3 1 4 5 2 3 1 4 5 0 3 3 5 4 3 0 2 2 2 4 5 5 2 2 3 4 5 2\n",
      " 6 3 2 2 4 4 2 5 0 1 2 6 2 0 6 5 0 0 2 4 2 1 1 6 6 3 1 6 6 0 3 6 5 6 5 0 5\n",
      " 6 3 2 6 4 1 2 4 4 3 6 4 6 0 2 5 4 6 3 5 3 4 0 5 1 1 3 5 1 6 3 6 2 6 2 0 0\n",
      " 1 2 1 1 0 2 3 0 1 5 2 0 3 6 3 4 2 3 6 4 4 1 0 6 3 2 2 2 2 1 5 3 4 1 4 3 1\n",
      " 3 3 3 6 6 2 2 3 4 0 0 2 2 6 0 4 3 1 6 3 4 1 5 1 5 4 0 5 2 0 3 5 0 0 3 4 1\n",
      " 2 4 3 4 4 1 6 1 2 0 5 3 5 5 4 6 2 4 6 2 0 2 5 1 3 6 1 1 2 4 3 4 1 0 5 1 5\n",
      " 6 4 6 1 0 6 0 2 5 4 3 4 5 4 1 0 5 1 5 2 4 6 0 4 2 4 4 2 0 0 3 0 5 0 6 4 0\n",
      " 6 2 0 6 6 0 4 4 2 2 1 3 1 6 6 2 5 3 6 2 5 4 6 5 0 6 4 3 1 2 4 4 3 1 2 4 5\n",
      " 5 4 4 6 0 6 0 3 2 5 1 3 3 6 4 2 1 1 2 3 5 2 1 0 4 0 3 6 4 6 2 2 6 0 6 5 4\n",
      " 2 1 0 6 0 4 4 3 1 0 4 3 3 5 5 1 1 4 2 4 0 3 0 5 4 3 3 6 2 6 1 2 2 0 5 3 2\n",
      " 1 3 4 6 0 4 3 5 3 5 2 5 1 6 1 0 5 5 5 1 3 3 3 0 6 2 2 5 5 3 1 4 3 5 0 6 2\n",
      " 3 5 3 6 0 1 2 6 1 2]\n",
      "----------------------------------------------------------------------------------\n",
      "[6 5 6 4 4 0 4 6 4 2 1 0 3 5 4 2 3 0 1 5 1 1 4 4 2 4 4 5 5 3 4 2 2 2 5 2 3\n",
      " 1 0 6 3 1 1 5 5 2 1 6 1 2 1 6 5 5 2 3 5 6 3 0 0 5 6 2 0 2 0 1 2 0 4 1 2 3\n",
      " 3 5 4 4 4 3 2 6 5 5 2 3 1 0 6 4 0 2 0 6 1 3 3 6 5 4 3 3 5 3 6 0 0 3 0 0 0\n",
      " 6 0 2 4 5 6 3 2 4 6 6 4 6 1 3 2 6 0 0 4 1 2 6 4 1 2 3 5 3 0 1 5 6 0 4 0 1\n",
      " 0 4 5 6 3 6 3 3 6 3 4 1 4 2 5 0 3 3 1 3 5 0 3 2 1 3 2 3 4 1 6 3 2 2 4 3 1\n",
      " 0 3 5 3 6 4 6 6 2 1 0 5 1 1 1 5 6 0 1 3 2 4 2 1 2 5 1 0 6 6 6 3 5 3 1 0 1\n",
      " 6 6 2 6 2 3 6 2 1 5 5 3 5 6 4 3 2 1 3 3 5 0 4 4 4 0 5 1 2 0 3 0 3 2 3 1 4\n",
      " 6 2 5 1 0 6 3 4 4 2 2 5 2 3 5 4 6 0 4 5 2 0 0 3 5 2 2 3 6 6 2 4 2 6 0 1 6\n",
      " 3 1 5 6 4 3 0 0 5 5 4 3 5 6 1 1 5 2 3 6 1 0 5 3 2 2 0 4 0 5 6 6 6 0 1 0 3\n",
      " 6 6 4 5 0 1 5 5 6 0 5 1 5 5 5 5 0 3 4 5 3 0 6 6 0 1 2 2 0 0 5 6 5 4 5 6 3\n",
      " 5 5 1 4 4 2 1 1 0 3 1 0 5 2 3 1 4 5 0 3 3 5 0 3 0 2 2 2 4 5 5 2 2 3 4 5 2\n",
      " 6 2 2 2 4 4 2 5 0 1 1 6 2 1 6 3 0 0 2 4 2 1 1 6 6 3 1 2 6 0 3 6 5 6 5 0 5\n",
      " 6 3 2 6 4 1 1 4 4 3 6 4 6 0 2 2 4 6 3 5 3 3 0 5 1 1 3 5 1 6 3 6 2 6 2 4 0\n",
      " 1 2 1 1 0 2 3 0 0 1 2 0 3 6 3 4 2 3 6 4 4 1 0 6 0 2 2 2 2 1 5 3 4 1 0 3 1\n",
      " 3 1 3 6 6 5 2 3 4 0 0 2 2 6 0 4 3 1 6 3 4 1 5 1 5 4 0 5 2 3 3 5 3 0 4 4 1\n",
      " 2 4 3 4 0 1 6 2 2 0 5 3 5 3 0 6 2 0 6 2 0 6 1 4 3 6 1 3 2 4 3 4 1 0 5 1 5\n",
      " 6 0 6 1 0 6 4 2 5 0 3 4 5 4 1 0 5 1 5 2 4 6 0 4 2 4 1 2 0 0 3 0 5 0 6 4 0\n",
      " 1 2 0 6 6 1 4 4 2 2 1 3 1 6 6 2 5 3 6 2 5 4 6 5 0 6 4 3 1 2 4 0 3 1 2 4 5\n",
      " 5 4 4 6 2 6 4 3 2 5 1 3 3 6 4 2 1 1 2 3 5 2 1 0 0 0 3 6 4 6 1 2 6 0 6 5 4\n",
      " 3 1 0 6 0 4 4 3 1 3 4 3 3 5 5 1 1 4 2 0 0 3 0 5 0 3 3 6 2 3 1 2 2 0 5 3 2\n",
      " 1 2 4 1 0 0 5 5 3 5 2 5 1 6 1 0 5 5 3 3 3 3 3 0 6 2 2 5 5 3 3 0 3 5 0 6 2\n",
      " 3 5 3 6 0 1 2 6 1 2]\n"
     ]
    }
   ],
   "source": [
    "# Prédire les étiquettes\n",
    "y_train_pred = np.argmax(model4.predict(X_train), axis=1)\n",
    "y_train_num = np.argmax(y_train, axis=1)\n",
    "\n",
    "print(y_train_num)\n",
    "print(\"----------------------------------------------------------------------------------\")\n",
    "print(y_train_pred)"
   ]
  },
  {
   "cell_type": "markdown",
   "id": "314511fd",
   "metadata": {},
   "source": [
    "#### Data Test"
   ]
  },
  {
   "cell_type": "code",
   "execution_count": 51,
   "id": "36f2f33b",
   "metadata": {},
   "outputs": [],
   "source": [
    "def image_prep_fct(data) :\n",
    "    prepared_images = []\n",
    "\n",
    "    # Boucle pour extraire les caractéristiques de chaque image\n",
    "    for image_file in data_test[\"nouveau_nom\"]:\n",
    "        img_path = \"./Flipkart/images_renommees_split/dataset_test/\"\n",
    "        image = load_img(img_path + image_file, target_size=(224, 224)) # Charge l'image et redimensionne l'image \n",
    "        img = img_to_array(image) # Convertir l'image en un tableau numpy.\n",
    "       \n",
    "        img = img.reshape((img.shape[0], img.shape[1], img.shape[2])) # Réorganise les dimensions du tableau pour correspondre à la forme (hauteur, largeur, canaux) de l'image.\n",
    "        img = preprocess_input(img)\n",
    "        prepared_images.append(img)\n",
    "        prepared_images_np = np.array(prepared_images) #  Convertir la liste en un tableau numpy.\n",
    "    return prepared_images_np\n",
    "    \n",
    "images_np = image_prep_fct(data_test)\n",
    "X_test = images_np"
   ]
  },
  {
   "cell_type": "code",
   "execution_count": 52,
   "id": "4a312882",
   "metadata": {},
   "outputs": [],
   "source": [
    "# effectue la conversion des étiquettes de classe en format catégoriel\n",
    "y_test = to_categorical(data_test['label'])\n",
    "\n",
    "# Convertir avec one-hot encoded labels en labels numérique\n",
    "y_test_num = np.argmax(y_test, axis=1)"
   ]
  },
  {
   "cell_type": "code",
   "execution_count": 53,
   "id": "36b3de06",
   "metadata": {
    "scrolled": true
   },
   "outputs": [
    {
     "name": "stdout",
     "output_type": "stream",
     "text": [
      "9/9 [==============================] - 51s 6s/step\n",
      "[5 3 5 1 6 0 5 6 0 0 4 4 1 1 6 2 3 2 4 3 6 5 0 2 3 0 2 3 2 6 0 5 1 1 3 3 5\n",
      " 0 2 3 4 6 2 5 5 0 1 5 3 3 2 6 5 0 0 5 4 6 6 2 4 3 3 2 3 0 2 6 1 1 0 1 1 3\n",
      " 1 0 1 0 6 4 1 4 3 1 1 2 4 2 4 3 5 2 0 0 5 5 6 4 5 1 2 3 0 4 0 5 6 1 0 5 4\n",
      " 4 2 4 0 1 4 3 5 1 6 3 4 6 2 6 0 1 5 6 4 2 2 0 0 1 4 0 6 5 5 5 6 6 0 3 2 0\n",
      " 0 1 0 0 2 6 3 6 1 1 0 3 1 0 2 3 6 5 4 2 4 3 0 5 1 6 2 1 5 2 0 1 5 1 1 5 4\n",
      " 2 3 3 5 0 6 3 4 2 1 2 2 6 1 2 5 4 6 1 1 2 3 2 5 3 5 0 3 5 5 3 0 6 6 5 1 4\n",
      " 1 5 4 3 3 1 4 1 4 2 4 6 0 5 2 6 4 5 2 6 2 6 0 1 0 3 4 5 2 2 1 1 1 4 0 4 3\n",
      " 4 4 1 3]\n",
      "----------------------------------------------------------------------------------\n",
      "[2 3 5 1 6 0 5 6 3 0 4 4 1 1 6 2 2 2 0 1 6 5 0 2 3 0 2 3 2 6 0 5 1 1 2 3 5\n",
      " 0 2 4 0 6 2 5 5 0 1 5 5 3 2 6 0 0 4 5 4 6 6 2 0 3 4 2 3 0 2 6 1 2 0 1 1 3\n",
      " 1 5 1 3 6 0 1 0 3 1 1 2 4 2 4 3 5 2 0 0 5 5 6 0 5 1 2 0 0 4 0 5 6 1 0 5 0\n",
      " 4 2 4 0 1 4 2 5 5 6 3 4 6 5 6 4 1 5 6 4 2 2 0 0 1 4 0 6 5 5 5 6 5 3 3 2 3\n",
      " 0 1 0 0 2 6 3 6 1 1 0 3 1 0 5 3 6 5 4 1 4 3 4 1 1 6 2 1 5 2 0 1 5 1 1 5 4\n",
      " 2 3 3 5 4 6 3 4 2 1 2 3 6 4 1 0 4 2 2 1 2 3 1 5 3 5 3 1 5 5 3 0 6 6 5 1 4\n",
      " 1 5 4 3 3 3 4 1 0 2 4 6 0 2 2 6 4 5 2 6 2 6 0 1 3 3 0 5 2 1 1 4 1 4 0 4 3\n",
      " 0 4 1 1]\n"
     ]
    }
   ],
   "source": [
    "# Prédire les étiquettes\n",
    "y_test_pred = np.argmax(model4.predict(X_test), axis=1)\n",
    "y_test_num = np.argmax(y_test, axis=1)\n",
    "\n",
    "print(y_test_num)\n",
    "print(\"----------------------------------------------------------------------------------\")\n",
    "print(y_test_pred)"
   ]
  },
  {
   "cell_type": "markdown",
   "id": "6fdcf265",
   "metadata": {},
   "source": [
    "### b.) Analyse de similarité (ARI)"
   ]
  },
  {
   "cell_type": "code",
   "execution_count": 54,
   "id": "bab60031",
   "metadata": {},
   "outputs": [
    {
     "name": "stdout",
     "output_type": "stream",
     "text": [
      "Le Score ARI pour data_train est de :  0.7438646879894292\n",
      "------------------------------------------------------------\n",
      "Le Score ARI pour data_train est de :  0.6109088670434935\n"
     ]
    }
   ],
   "source": [
    "from sklearn import cluster, metrics\n",
    "\n",
    "print(\"Le Score ARI pour data_train est de : \", metrics.adjusted_rand_score(y_train_num, y_train_pred))\n",
    "print(60*\"-\")\n",
    "print(\"Le Score ARI pour data_test est de : \", metrics.adjusted_rand_score(y_test_num, y_test_pred))"
   ]
  },
  {
   "cell_type": "markdown",
   "id": "86c8e527",
   "metadata": {},
   "source": [
    "### c.) Analyse de précision (Accuracy)"
   ]
  },
  {
   "cell_type": "markdown",
   "id": "da3c231d",
   "metadata": {},
   "source": [
    "####  Matrice de confusion"
   ]
  },
  {
   "cell_type": "markdown",
   "id": "d71b8ade",
   "metadata": {},
   "source": [
    "La matrice de confusion permet d'analyser les erreurs de classification commises par le modèle. En examinant les valeurs hors de la diagonale (les valeurs d'erreur), vous pouvez identifier quelles classes sont souvent confondues entre elles. Cela peut vous donner des indications sur les améliorations potentielles à apporter au modèle ou aux données pour améliorer les performances de classification."
   ]
  },
  {
   "cell_type": "code",
   "execution_count": 55,
   "id": "34ac12dc",
   "metadata": {},
   "outputs": [
    {
     "name": "stdout",
     "output_type": "stream",
     "text": [
      "Donnée d'entrainement\n",
      "[[ 90   4   2   5   8   1   0]\n",
      " [  2  92   5   6   1   1   0]\n",
      " [  0   3 104   2   0   2   1]\n",
      " [  1   1   3 105   2   2   0]\n",
      " [ 22   1   1   4  87   0   0]\n",
      " [  1   2   3   3   0 103   0]\n",
      " [  0   4   1   2   0   0 110]]\n",
      "---------------------------------------------------------------------------------------\n",
      "Donnée test\n",
      "[[29  0  0  6  4  1  0]\n",
      " [ 0 37  2  1  2  1  0]\n",
      " [ 0  4 31  1  0  2  0]\n",
      " [ 1  3  3 26  2  1  0]\n",
      " [10  0  0  0 25  0  0]\n",
      " [ 2  1  2  0  0 33  0]\n",
      " [ 0  0  1  0  0  1 31]]\n"
     ]
    }
   ],
   "source": [
    "# Matrice de confusion\n",
    "from sklearn import cluster, metrics\n",
    "\n",
    "conf_mat_train = metrics.confusion_matrix(y_train_num, y_train_pred)\n",
    "print(\"Donnée d'entrainement\")\n",
    "print(conf_mat_train)\n",
    "\n",
    "print(\"---------------------------------------------------------------------------------------\")\n",
    "\n",
    "conf_mat_test = metrics.confusion_matrix(y_test_num, y_test_pred)\n",
    "print(\"Donnée test\")\n",
    "print(conf_mat_test)"
   ]
  },
  {
   "cell_type": "markdown",
   "id": "b3fa2fa6",
   "metadata": {},
   "source": [
    "La fonction **conf_mat_transform()** utilise une matrice de confusion pour attribuer une correspondance entre les valeurs prédites et les classes réelles, puis elle transforme les valeurs prédites en utilisant cette correspondance"
   ]
  },
  {
   "cell_type": "code",
   "execution_count": 56,
   "id": "c1ab3b23",
   "metadata": {},
   "outputs": [],
   "source": [
    "def conf_mat_transform(y_true,y_pred) :\n",
    "    conf_mat = metrics.confusion_matrix(y_true,y_pred)\n",
    "    \n",
    "    # Trouver l'indice maximum dans chaque colonne de la matrice de confusion\n",
    "    corresp = np.argmax(conf_mat, axis=0)\n",
    "    print (\"Correspondance des clusters : \", corresp)\n",
    "    #  créer un objet Series à partir des valeurs réelles y_true et le trasforme en dataframe\n",
    "    labels = pd.Series(y_true, name=\"y_true\").to_frame()\n",
    "    # ajouter une colonne \"y_pred\" au DataFrame labels et y assigner les valeurs prédites y_pred\n",
    "    labels['y_pred'] = y_pred\n",
    "    # remplacer la valeur prédite par sa correspondance trouvée dans le tableau corresp\n",
    "    labels['y_pred_transform'] = labels['y_pred'].apply(lambda x : corresp[x]) \n",
    "    \n",
    "    return labels['y_pred_transform']"
   ]
  },
  {
   "cell_type": "markdown",
   "id": "cfb78da9",
   "metadata": {},
   "source": [
    "#### c1.) Evaluation Data Train"
   ]
  },
  {
   "cell_type": "code",
   "execution_count": 57,
   "id": "5631a5a5",
   "metadata": {},
   "outputs": [
    {
     "name": "stdout",
     "output_type": "stream",
     "text": [
      "Correspondance des clusters :  [0 1 2 3 4 5 6]\n",
      "[[ 90   4   2   5   8   1   0]\n",
      " [  2  92   5   6   1   1   0]\n",
      " [  0   3 104   2   0   2   1]\n",
      " [  1   1   3 105   2   2   0]\n",
      " [ 22   1   1   4  87   0   0]\n",
      " [  1   2   3   3   0 103   0]\n",
      " [  0   4   1   2   0   0 110]]\n",
      "-----------------------------------------------------------------------\n",
      "              precision    recall  f1-score   support\n",
      "\n",
      "           0       0.78      0.82      0.80       110\n",
      "           1       0.86      0.86      0.86       107\n",
      "           2       0.87      0.93      0.90       112\n",
      "           3       0.83      0.92      0.87       114\n",
      "           4       0.89      0.76      0.82       115\n",
      "           5       0.94      0.92      0.93       112\n",
      "           6       0.99      0.94      0.96       117\n",
      "\n",
      "    accuracy                           0.88       787\n",
      "   macro avg       0.88      0.88      0.88       787\n",
      "weighted avg       0.88      0.88      0.88       787\n",
      "\n"
     ]
    }
   ],
   "source": [
    "y_train_pred_transform = conf_mat_transform(y_train_num, y_train_pred)\n",
    "conf_mat = metrics.confusion_matrix(y_train_num, y_train_pred_transform)\n",
    "print(conf_mat)\n",
    "print(\"-----------------------------------------------------------------------\")\n",
    "print(metrics.classification_report(y_train_num, y_train_pred_transform))"
   ]
  },
  {
   "cell_type": "code",
   "execution_count": 58,
   "id": "bb41c65e",
   "metadata": {},
   "outputs": [
    {
     "data": {
      "text/plain": [
       "<AxesSubplot:>"
      ]
     },
     "execution_count": 58,
     "metadata": {},
     "output_type": "execute_result"
    },
    {
     "data": {
      "image/png": "[encoded data removed]",
      "text/plain": [
       "<Figure size 432x288 with 2 Axes>"
      ]
     },
     "metadata": {
      "needs_background": "light"
     },
     "output_type": "display_data"
    }
   ],
   "source": [
    "df_cm = pd.DataFrame(conf_mat, index = [label for label in list_labels],\n",
    "                  columns = [i for i in \"0123456\"])\n",
    "plt.figure(figsize = (6,4))\n",
    "sns.heatmap(df_cm, annot=True, cmap=\"Reds\")"
   ]
  },
  {
   "cell_type": "markdown",
   "id": "c42344f0",
   "metadata": {},
   "source": [
    "#### c2.) Evaluation Data Test"
   ]
  },
  {
   "cell_type": "code",
   "execution_count": 59,
   "id": "04dd57a8",
   "metadata": {},
   "outputs": [
    {
     "name": "stdout",
     "output_type": "stream",
     "text": [
      "Correspondance des clusters :  [0 1 2 3 4 5 6]\n",
      "[[29  0  0  6  4  1  0]\n",
      " [ 0 37  2  1  2  1  0]\n",
      " [ 0  4 31  1  0  2  0]\n",
      " [ 1  3  3 26  2  1  0]\n",
      " [10  0  0  0 25  0  0]\n",
      " [ 2  1  2  0  0 33  0]\n",
      " [ 0  0  1  0  0  1 31]]\n",
      "-----------------------------------------------------------------------\n",
      "              precision    recall  f1-score   support\n",
      "\n",
      "           0       0.69      0.72      0.71        40\n",
      "           1       0.82      0.86      0.84        43\n",
      "           2       0.79      0.82      0.81        38\n",
      "           3       0.76      0.72      0.74        36\n",
      "           4       0.76      0.71      0.74        35\n",
      "           5       0.85      0.87      0.86        38\n",
      "           6       1.00      0.94      0.97        33\n",
      "\n",
      "    accuracy                           0.81       263\n",
      "   macro avg       0.81      0.81      0.81       263\n",
      "weighted avg       0.81      0.81      0.81       263\n",
      "\n"
     ]
    }
   ],
   "source": [
    "y_test_pred_transform = conf_mat_transform(y_test_num, y_test_pred)\n",
    "conf_mat = metrics.confusion_matrix(y_test_num, y_test_pred_transform)\n",
    "print(conf_mat)\n",
    "print(\"-----------------------------------------------------------------------\")\n",
    "print(metrics.classification_report(y_test_num, y_test_pred_transform))"
   ]
  },
  {
   "cell_type": "code",
   "execution_count": 60,
   "id": "19dacfef",
   "metadata": {
    "scrolled": true
   },
   "outputs": [
    {
     "data": {
      "text/plain": [
       "<AxesSubplot:>"
      ]
     },
     "execution_count": 60,
     "metadata": {},
     "output_type": "execute_result"
    },
    {
     "data": {
      "image/png": "[encoded data removed]",
      "text/plain": [
       "<Figure size 432x288 with 2 Axes>"
      ]
     },
     "metadata": {
      "needs_background": "light"
     },
     "output_type": "display_data"
    }
   ],
   "source": [
    "df_cm = pd.DataFrame(conf_mat, index = [label for label in list_labels],\n",
    "                  columns = [i for i in \"0123456\"])\n",
    "plt.figure(figsize = (6,4))\n",
    "sns.heatmap(df_cm, annot=True, cmap=\"Greens\")"
   ]
  },
  {
   "cell_type": "markdown",
   "id": "99b810c6",
   "metadata": {},
   "source": [
    "######  <a href=\"#C\"> Retour Sommaire <a/>"
   ]
  }
 ],
 "metadata": {
  "kernelspec": {
   "display_name": "Python 3 (ipykernel)",
   "language": "python",
   "name": "python3"
  },
  "language_info": {
   "codemirror_mode": {
    "name": "ipython",
    "version": 3
   },
   "file_extension": ".py",
   "mimetype": "text/x-python",
   "name": "python",
   "nbconvert_exporter": "python",
   "pygments_lexer": "ipython3",
   "version": "3.9.12"
  }
 },
 "nbformat": 4,
 "nbformat_minor": 5
}
