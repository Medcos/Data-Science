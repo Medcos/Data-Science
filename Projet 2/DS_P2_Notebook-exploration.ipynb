{
 "cells": [
  {
   "cell_type": "markdown",
   "id": "8b0212d5",
   "metadata": {},
   "source": [
    "# Sommaire :\n",
    " <a href=\"#C1\">Importation des données</a>\n",
    " \n",
    "**Partie 1 : <a href=\"#P1\">Analyse Univariée</a>**\n",
    " - <a href=\"#P1C1\"> P1C1 - Représentez la distribution empirique d'une variable</a>\n",
    " - <a href=\"#P1C2\"> P1C2 - Les mesures de tendance centrale</a>\n",
    " - <a href=\"#P1C3\"> P1C3 - Les mesures de dispersion</a>\n",
    " - <a href=\"#P1C4\"> P1C4 - Les mesures de forme</a>\n",
    " \n",
    "**Partie 2 : <a href=\"#P2\">Analyse Bivariée</a>**\n",
    " - <a href=\"#P2C1\"> P2C1 - Analyse de la corrélation entre deux variables quantitatives</a>\n",
    " - <a href=\"#P2C2\"> P2C2 - Analyse de deux variables quantitatives par régression linéaire</a>\n",
    "\n",
    "**Partie 3 : <a href=\"#P3\">Analyse Exploratoire</a>**\n",
    " - <a href=\"#P3C1\"> P3C1 - Analyse en Composantes Principales</a>\n",
    " \n",
    "    <a href =\"#P3C11\"> 1.Centrer et réduire les données </a>\n",
    "    \n",
    "    <a href =\"#P3C12\"> 2.Variance expliquée </a>\n",
    "    \n",
    "    <a href =\"#P3C13\"> 3.Représentation des individus </a>\n",
    "    \n",
    "    <a href =\"#P3C14\"> 4.Représentation des variables </a>\n"
   ]
  },
  {
   "cell_type": "markdown",
   "id": "f471159e",
   "metadata": {},
   "source": [
    "# <a name=\"C1\">Importation des données</a>\n",
    "\n",
    "Nous allons importer le fichier données traitées. "
   ]
  },
  {
   "cell_type": "code",
   "execution_count": 1,
   "id": "02f1102c",
   "metadata": {},
   "outputs": [
    {
     "name": "stderr",
     "output_type": "stream",
     "text": [
      "C:\\Users\\dmedc\\AppData\\Local\\Temp\\ipykernel_37468\\3038505472.py:8: DtypeWarning: Columns (1) have mixed types. Specify dtype option on import or set low_memory=False.\n",
      "  data = pd.read_csv('Product_Clean.csv')\n"
     ]
    },
    {
     "data": {
      "text/html": [
       "<div>\n",
       "<style scoped>\n",
       "    .dataframe tbody tr th:only-of-type {\n",
       "        vertical-align: middle;\n",
       "    }\n",
       "\n",
       "    .dataframe tbody tr th {\n",
       "        vertical-align: top;\n",
       "    }\n",
       "\n",
       "    .dataframe thead th {\n",
       "        text-align: right;\n",
       "    }\n",
       "</style>\n",
       "<table border=\"1\" class=\"dataframe\">\n",
       "  <thead>\n",
       "    <tr style=\"text-align: right;\">\n",
       "      <th></th>\n",
       "      <th>Unnamed: 0</th>\n",
       "      <th>code</th>\n",
       "      <th>product_name</th>\n",
       "      <th>origins</th>\n",
       "      <th>categories</th>\n",
       "      <th>additives_n</th>\n",
       "      <th>ingredients_from_palm_oil_n</th>\n",
       "      <th>fat_100g</th>\n",
       "      <th>saturated-fat_100g</th>\n",
       "      <th>sugars_100g</th>\n",
       "      <th>omega-3-fat_100g</th>\n",
       "      <th>fiber_100g</th>\n",
       "      <th>carbohydrates_100g</th>\n",
       "      <th>nutrition-score-fr_100g</th>\n",
       "      <th>nutrition_grade_fr</th>\n",
       "    </tr>\n",
       "  </thead>\n",
       "  <tbody>\n",
       "    <tr>\n",
       "      <th>0</th>\n",
       "      <td>0</td>\n",
       "      <td>3087</td>\n",
       "      <td>Farine de blé noir</td>\n",
       "      <td>Aucune</td>\n",
       "      <td>Aucune</td>\n",
       "      <td>0.0</td>\n",
       "      <td>0.0</td>\n",
       "      <td>12.264135</td>\n",
       "      <td>4.827212</td>\n",
       "      <td>16.003369</td>\n",
       "      <td>3.182103</td>\n",
       "      <td>2.862013</td>\n",
       "      <td>32.073621</td>\n",
       "      <td>0.0</td>\n",
       "      <td>b</td>\n",
       "    </tr>\n",
       "    <tr>\n",
       "      <th>1</th>\n",
       "      <td>1</td>\n",
       "      <td>4530</td>\n",
       "      <td>Banana Chips Sweetened (Whole)</td>\n",
       "      <td>Aucune</td>\n",
       "      <td>Aucune</td>\n",
       "      <td>0.0</td>\n",
       "      <td>0.0</td>\n",
       "      <td>28.570000</td>\n",
       "      <td>28.570000</td>\n",
       "      <td>14.290000</td>\n",
       "      <td>3.182103</td>\n",
       "      <td>3.600000</td>\n",
       "      <td>64.290000</td>\n",
       "      <td>14.0</td>\n",
       "      <td>d</td>\n",
       "    </tr>\n",
       "    <tr>\n",
       "      <th>2</th>\n",
       "      <td>2</td>\n",
       "      <td>4559</td>\n",
       "      <td>Peanuts</td>\n",
       "      <td>Aucune</td>\n",
       "      <td>Aucune</td>\n",
       "      <td>0.0</td>\n",
       "      <td>0.0</td>\n",
       "      <td>17.860000</td>\n",
       "      <td>0.000000</td>\n",
       "      <td>17.860000</td>\n",
       "      <td>3.182103</td>\n",
       "      <td>7.100000</td>\n",
       "      <td>60.710000</td>\n",
       "      <td>0.0</td>\n",
       "      <td>b</td>\n",
       "    </tr>\n",
       "    <tr>\n",
       "      <th>3</th>\n",
       "      <td>3</td>\n",
       "      <td>16087</td>\n",
       "      <td>Organic Salted Nut Mix</td>\n",
       "      <td>Aucune</td>\n",
       "      <td>Aucune</td>\n",
       "      <td>0.0</td>\n",
       "      <td>0.0</td>\n",
       "      <td>57.140000</td>\n",
       "      <td>5.360000</td>\n",
       "      <td>3.570000</td>\n",
       "      <td>3.182103</td>\n",
       "      <td>7.100000</td>\n",
       "      <td>17.860000</td>\n",
       "      <td>12.0</td>\n",
       "      <td>d</td>\n",
       "    </tr>\n",
       "    <tr>\n",
       "      <th>4</th>\n",
       "      <td>4</td>\n",
       "      <td>16094</td>\n",
       "      <td>Organic Polenta</td>\n",
       "      <td>Aucune</td>\n",
       "      <td>Aucune</td>\n",
       "      <td>0.0</td>\n",
       "      <td>0.0</td>\n",
       "      <td>1.430000</td>\n",
       "      <td>1.430000</td>\n",
       "      <td>16.003369</td>\n",
       "      <td>3.182103</td>\n",
       "      <td>5.700000</td>\n",
       "      <td>77.140000</td>\n",
       "      <td>3.0</td>\n",
       "      <td>c</td>\n",
       "    </tr>\n",
       "  </tbody>\n",
       "</table>\n",
       "</div>"
      ],
      "text/plain": [
       "   Unnamed: 0   code                    product_name origins categories  \\\n",
       "0           0   3087              Farine de blé noir  Aucune     Aucune   \n",
       "1           1   4530  Banana Chips Sweetened (Whole)  Aucune     Aucune   \n",
       "2           2   4559                         Peanuts  Aucune     Aucune   \n",
       "3           3  16087          Organic Salted Nut Mix  Aucune     Aucune   \n",
       "4           4  16094                 Organic Polenta  Aucune     Aucune   \n",
       "\n",
       "   additives_n  ingredients_from_palm_oil_n   fat_100g  saturated-fat_100g  \\\n",
       "0          0.0                          0.0  12.264135            4.827212   \n",
       "1          0.0                          0.0  28.570000           28.570000   \n",
       "2          0.0                          0.0  17.860000            0.000000   \n",
       "3          0.0                          0.0  57.140000            5.360000   \n",
       "4          0.0                          0.0   1.430000            1.430000   \n",
       "\n",
       "   sugars_100g  omega-3-fat_100g  fiber_100g  carbohydrates_100g  \\\n",
       "0    16.003369          3.182103    2.862013           32.073621   \n",
       "1    14.290000          3.182103    3.600000           64.290000   \n",
       "2    17.860000          3.182103    7.100000           60.710000   \n",
       "3     3.570000          3.182103    7.100000           17.860000   \n",
       "4    16.003369          3.182103    5.700000           77.140000   \n",
       "\n",
       "   nutrition-score-fr_100g nutrition_grade_fr  \n",
       "0                      0.0                  b  \n",
       "1                     14.0                  d  \n",
       "2                      0.0                  b  \n",
       "3                     12.0                  d  \n",
       "4                      3.0                  c  "
      ]
     },
     "execution_count": 1,
     "metadata": {},
     "output_type": "execute_result"
    }
   ],
   "source": [
    "import pandas as pd\n",
    "import numpy as np\n",
    "import matplotlib.pyplot as plt\n",
    "import seaborn as sns\n",
    "import datetime as dt\n",
    "import scipy.stats as st\n",
    "\n",
    "data = pd.read_csv('Product_Clean.csv')\n",
    "data.head()"
   ]
  },
  {
   "cell_type": "code",
   "execution_count": 2,
   "id": "44baf5af",
   "metadata": {},
   "outputs": [],
   "source": [
    "#Supprimer la colonne \"Unnamed: 0\"\n",
    "data = data.drop([\"Unnamed: 0\"],axis=1)"
   ]
  },
  {
   "cell_type": "markdown",
   "id": "18ecbce7",
   "metadata": {},
   "source": [
    "# <a name=\"P1\"> P1 - Analyse Univariée</a>"
   ]
  },
  {
   "cell_type": "markdown",
   "id": "c097a786",
   "metadata": {},
   "source": [
    "## <a name=\"P1C1\"> P1C1 - Représentez la distribution empirique d'une variable</a>\n",
    "\n",
    "**1. variables qualitatives**\n",
    "\n",
    "**a.) Representation en tableau**\n",
    "\n",
    "Nous allons faire la represantation de la distribution de la variable **\"origins\"**"
   ]
  },
  {
   "cell_type": "code",
   "execution_count": 3,
   "id": "4400d082",
   "metadata": {},
   "outputs": [
    {
     "data": {
      "text/html": [
       "<div>\n",
       "<style scoped>\n",
       "    .dataframe tbody tr th:only-of-type {\n",
       "        vertical-align: middle;\n",
       "    }\n",
       "\n",
       "    .dataframe tbody tr th {\n",
       "        vertical-align: top;\n",
       "    }\n",
       "\n",
       "    .dataframe thead th {\n",
       "        text-align: right;\n",
       "    }\n",
       "</style>\n",
       "<table border=\"1\" class=\"dataframe\">\n",
       "  <thead>\n",
       "    <tr style=\"text-align: right;\">\n",
       "      <th></th>\n",
       "      <th>origins</th>\n",
       "      <th>n</th>\n",
       "      <th>f</th>\n",
       "      <th>F</th>\n",
       "    </tr>\n",
       "  </thead>\n",
       "  <tbody>\n",
       "    <tr>\n",
       "      <th>0</th>\n",
       "      <td>Aucune</td>\n",
       "      <td>298565</td>\n",
       "      <td>0.930886</td>\n",
       "      <td>0.930886</td>\n",
       "    </tr>\n",
       "    <tr>\n",
       "      <th>1</th>\n",
       "      <td>France</td>\n",
       "      <td>5171</td>\n",
       "      <td>0.016122</td>\n",
       "      <td>0.947009</td>\n",
       "    </tr>\n",
       "    <tr>\n",
       "      <th>2</th>\n",
       "      <td>España</td>\n",
       "      <td>569</td>\n",
       "      <td>0.001774</td>\n",
       "      <td>0.948783</td>\n",
       "    </tr>\n",
       "    <tr>\n",
       "      <th>3</th>\n",
       "      <td>Italie</td>\n",
       "      <td>473</td>\n",
       "      <td>0.001475</td>\n",
       "      <td>0.950258</td>\n",
       "    </tr>\n",
       "    <tr>\n",
       "      <th>4</th>\n",
       "      <td>Australia</td>\n",
       "      <td>434</td>\n",
       "      <td>0.001353</td>\n",
       "      <td>0.951611</td>\n",
       "    </tr>\n",
       "    <tr>\n",
       "      <th>...</th>\n",
       "      <td>...</td>\n",
       "      <td>...</td>\n",
       "      <td>...</td>\n",
       "      <td>...</td>\n",
       "    </tr>\n",
       "    <tr>\n",
       "      <th>4814</th>\n",
       "      <td>pomme de terre (Allemagne France Pays-Bas)</td>\n",
       "      <td>1</td>\n",
       "      <td>0.000003</td>\n",
       "      <td>0.999988</td>\n",
       "    </tr>\n",
       "    <tr>\n",
       "      <th>4815</th>\n",
       "      <td>Nouvelle zélande</td>\n",
       "      <td>1</td>\n",
       "      <td>0.000003</td>\n",
       "      <td>0.999991</td>\n",
       "    </tr>\n",
       "    <tr>\n",
       "      <th>4816</th>\n",
       "      <td>Nouvelle-Zélande,Union Européenne</td>\n",
       "      <td>1</td>\n",
       "      <td>0.000003</td>\n",
       "      <td>0.999994</td>\n",
       "    </tr>\n",
       "    <tr>\n",
       "      <th>4817</th>\n",
       "      <td>Emmental,France,Allemagne</td>\n",
       "      <td>1</td>\n",
       "      <td>0.000003</td>\n",
       "      <td>0.999997</td>\n",
       "    </tr>\n",
       "    <tr>\n",
       "      <th>4818</th>\n",
       "      <td>Flaxieu,Bugey,Ain</td>\n",
       "      <td>1</td>\n",
       "      <td>0.000003</td>\n",
       "      <td>1.000000</td>\n",
       "    </tr>\n",
       "  </tbody>\n",
       "</table>\n",
       "<p>4819 rows × 4 columns</p>\n",
       "</div>"
      ],
      "text/plain": [
       "                                         origins       n         f         F\n",
       "0                                         Aucune  298565  0.930886  0.930886\n",
       "1                                         France    5171  0.016122  0.947009\n",
       "2                                         España     569  0.001774  0.948783\n",
       "3                                         Italie     473  0.001475  0.950258\n",
       "4                                      Australia     434  0.001353  0.951611\n",
       "...                                          ...     ...       ...       ...\n",
       "4814  pomme de terre (Allemagne France Pays-Bas)       1  0.000003  0.999988\n",
       "4815                            Nouvelle zélande       1  0.000003  0.999991\n",
       "4816           Nouvelle-Zélande,Union Européenne       1  0.000003  0.999994\n",
       "4817                   Emmental,France,Allemagne       1  0.000003  0.999997\n",
       "4818                           Flaxieu,Bugey,Ain       1  0.000003  1.000000\n",
       "\n",
       "[4819 rows x 4 columns]"
      ]
     },
     "metadata": {},
     "output_type": "display_data"
    },
    {
     "name": "stdout",
     "output_type": "stream",
     "text": [
      "CPU times: total: 31.2 ms\n",
      "Wall time: 24.9 ms\n"
     ]
    }
   ],
   "source": [
    "%%time\n",
    "effectifs = data[\"origins\"].value_counts()\n",
    "modalites = effectifs.index # l'index de effectifs contient les modalités\n",
    "\n",
    "tab_grade = pd.DataFrame(modalites, columns = [\"origins\"]) # création du tableau à partir des modalités\n",
    "tab_grade[\"n\"] = effectifs.values\n",
    "tab_grade[\"f\"] = tab_grade[\"n\"]/len(data) # len(data) renvoie la taille de l'échantillon\n",
    "tab_grade[\"F\"] = tab_grade[\"f\"].cumsum()\n",
    "\n",
    "display(tab_grade)"
   ]
  },
  {
   "cell_type": "markdown",
   "id": "fa5a4837",
   "metadata": {},
   "source": [
    "**95%** des produits sont originaires de quatre (4) pays et dont l'origine n'est connue. ci-dessous leur liste"
   ]
  },
  {
   "cell_type": "code",
   "execution_count": 4,
   "id": "704013d4",
   "metadata": {},
   "outputs": [
    {
     "data": {
      "text/plain": [
       "['Aucune', 'France', 'España', 'Italie', 'Australia']"
      ]
     },
     "execution_count": 4,
     "metadata": {},
     "output_type": "execute_result"
    }
   ],
   "source": [
    "origine = tab_grade.iloc[:5]\n",
    "List_origine = list(origine[\"origins\"])\n",
    "List_origine"
   ]
  },
  {
   "cell_type": "markdown",
   "id": "b3bb4183",
   "metadata": {},
   "source": [
    "Nous allons faire la represantation de la distribution de la variable **\"categories\"**"
   ]
  },
  {
   "cell_type": "code",
   "execution_count": 5,
   "id": "082fc391",
   "metadata": {},
   "outputs": [
    {
     "data": {
      "text/html": [
       "<div>\n",
       "<style scoped>\n",
       "    .dataframe tbody tr th:only-of-type {\n",
       "        vertical-align: middle;\n",
       "    }\n",
       "\n",
       "    .dataframe tbody tr th {\n",
       "        vertical-align: top;\n",
       "    }\n",
       "\n",
       "    .dataframe thead th {\n",
       "        text-align: right;\n",
       "    }\n",
       "</style>\n",
       "<table border=\"1\" class=\"dataframe\">\n",
       "  <thead>\n",
       "    <tr style=\"text-align: right;\">\n",
       "      <th></th>\n",
       "      <th>categories</th>\n",
       "      <th>n</th>\n",
       "      <th>f</th>\n",
       "      <th>F</th>\n",
       "    </tr>\n",
       "  </thead>\n",
       "  <tbody>\n",
       "    <tr>\n",
       "      <th>0</th>\n",
       "      <td>Aucune</td>\n",
       "      <td>236345</td>\n",
       "      <td>0.736892</td>\n",
       "      <td>0.736892</td>\n",
       "    </tr>\n",
       "    <tr>\n",
       "      <th>1</th>\n",
       "      <td>Snacks sucrés,Biscuits et gâteaux,Biscuits</td>\n",
       "      <td>301</td>\n",
       "      <td>0.000938</td>\n",
       "      <td>0.737831</td>\n",
       "    </tr>\n",
       "    <tr>\n",
       "      <th>2</th>\n",
       "      <td>Biscuits</td>\n",
       "      <td>287</td>\n",
       "      <td>0.000895</td>\n",
       "      <td>0.738726</td>\n",
       "    </tr>\n",
       "    <tr>\n",
       "      <th>3</th>\n",
       "      <td>Snacks sucrés,Biscuits et gâteaux,Biscuits,Bis...</td>\n",
       "      <td>247</td>\n",
       "      <td>0.000770</td>\n",
       "      <td>0.739496</td>\n",
       "    </tr>\n",
       "    <tr>\n",
       "      <th>4</th>\n",
       "      <td>Aliments et boissons à base de végétaux,Alimen...</td>\n",
       "      <td>222</td>\n",
       "      <td>0.000692</td>\n",
       "      <td>0.740188</td>\n",
       "    </tr>\n",
       "    <tr>\n",
       "      <th>...</th>\n",
       "      <td>...</td>\n",
       "      <td>...</td>\n",
       "      <td>...</td>\n",
       "      <td>...</td>\n",
       "    </tr>\n",
       "    <tr>\n",
       "      <th>36972</th>\n",
       "      <td>Conserves,Plats préparés,Plats préparés en con...</td>\n",
       "      <td>1</td>\n",
       "      <td>0.000003</td>\n",
       "      <td>0.999988</td>\n",
       "    </tr>\n",
       "    <tr>\n",
       "      <th>36973</th>\n",
       "      <td>Conserves,Plats préparés,Plats à base de viand...</td>\n",
       "      <td>1</td>\n",
       "      <td>0.000003</td>\n",
       "      <td>0.999991</td>\n",
       "    </tr>\n",
       "    <tr>\n",
       "      <th>36974</th>\n",
       "      <td>Conserves,Plats préparés,Plats à base de viand...</td>\n",
       "      <td>1</td>\n",
       "      <td>0.000003</td>\n",
       "      <td>0.999994</td>\n",
       "    </tr>\n",
       "    <tr>\n",
       "      <th>36975</th>\n",
       "      <td>Conserves,Plats préparés,Plats à base de viand...</td>\n",
       "      <td>1</td>\n",
       "      <td>0.000003</td>\n",
       "      <td>0.999997</td>\n",
       "    </tr>\n",
       "    <tr>\n",
       "      <th>36976</th>\n",
       "      <td>Viandes,Produits à tartiner,Charcuteries,Produ...</td>\n",
       "      <td>1</td>\n",
       "      <td>0.000003</td>\n",
       "      <td>1.000000</td>\n",
       "    </tr>\n",
       "  </tbody>\n",
       "</table>\n",
       "<p>36977 rows × 4 columns</p>\n",
       "</div>"
      ],
      "text/plain": [
       "                                              categories       n         f  \\\n",
       "0                                                 Aucune  236345  0.736892   \n",
       "1             Snacks sucrés,Biscuits et gâteaux,Biscuits     301  0.000938   \n",
       "2                                               Biscuits     287  0.000895   \n",
       "3      Snacks sucrés,Biscuits et gâteaux,Biscuits,Bis...     247  0.000770   \n",
       "4      Aliments et boissons à base de végétaux,Alimen...     222  0.000692   \n",
       "...                                                  ...     ...       ...   \n",
       "36972  Conserves,Plats préparés,Plats préparés en con...       1  0.000003   \n",
       "36973  Conserves,Plats préparés,Plats à base de viand...       1  0.000003   \n",
       "36974  Conserves,Plats préparés,Plats à base de viand...       1  0.000003   \n",
       "36975  Conserves,Plats préparés,Plats à base de viand...       1  0.000003   \n",
       "36976  Viandes,Produits à tartiner,Charcuteries,Produ...       1  0.000003   \n",
       "\n",
       "              F  \n",
       "0      0.736892  \n",
       "1      0.737831  \n",
       "2      0.738726  \n",
       "3      0.739496  \n",
       "4      0.740188  \n",
       "...         ...  \n",
       "36972  0.999988  \n",
       "36973  0.999991  \n",
       "36974  0.999994  \n",
       "36975  0.999997  \n",
       "36976  1.000000  \n",
       "\n",
       "[36977 rows x 4 columns]"
      ]
     },
     "metadata": {},
     "output_type": "display_data"
    }
   ],
   "source": [
    "effectifs = data[\"categories\"].value_counts()\n",
    "modalites = effectifs.index # l'index de effectifs contient les modalités\n",
    "\n",
    "tab_grade = pd.DataFrame(modalites, columns = [\"categories\"]) # création du tableau à partir des modalités\n",
    "tab_grade[\"n\"] = effectifs.values\n",
    "tab_grade[\"f\"] = tab_grade[\"n\"]/len(data) # len(data) renvoie la taille de l'échantillon\n",
    "tab_grade[\"F\"] = tab_grade[\"f\"].cumsum()\n",
    "\n",
    "display(tab_grade)"
   ]
  },
  {
   "cell_type": "markdown",
   "id": "9267f9a1",
   "metadata": {},
   "source": [
    "Nous avons **26%** des produits identifiés en **36.977** catégories"
   ]
  },
  {
   "cell_type": "markdown",
   "id": "387f7081",
   "metadata": {},
   "source": [
    "Nous allons faire la represantation de la distribution de la variable **\"nutrition_grade_fr\"**\n",
    "\n",
    "Il faut savoir que les lettres du nutrition_grade sont fonction de la la valeur de du nutrition_score du produit :\n",
    "\n",
    "- a = [-15 ; -1]\n",
    "- b = [0 ; 2]\n",
    "- c = [3 ; 10]\n",
    "- d = [11 ; 18]\n",
    "- e = [19 ; 40]\n",
    "\n",
    "**NB** : Plus la valeur du  nutrition_score est faible plus on a un produit de qualité."
   ]
  },
  {
   "cell_type": "code",
   "execution_count": 6,
   "id": "193e0787",
   "metadata": {},
   "outputs": [
    {
     "data": {
      "text/html": [
       "<div>\n",
       "<style scoped>\n",
       "    .dataframe tbody tr th:only-of-type {\n",
       "        vertical-align: middle;\n",
       "    }\n",
       "\n",
       "    .dataframe tbody tr th {\n",
       "        vertical-align: top;\n",
       "    }\n",
       "\n",
       "    .dataframe thead th {\n",
       "        text-align: right;\n",
       "    }\n",
       "</style>\n",
       "<table border=\"1\" class=\"dataframe\">\n",
       "  <thead>\n",
       "    <tr style=\"text-align: right;\">\n",
       "      <th></th>\n",
       "      <th>nutrition_grade_fr</th>\n",
       "      <th>n</th>\n",
       "      <th>f</th>\n",
       "    </tr>\n",
       "  </thead>\n",
       "  <tbody>\n",
       "    <tr>\n",
       "      <th>0</th>\n",
       "      <td>b</td>\n",
       "      <td>101065</td>\n",
       "      <td>0.315107</td>\n",
       "    </tr>\n",
       "    <tr>\n",
       "      <th>1</th>\n",
       "      <td>d</td>\n",
       "      <td>74983</td>\n",
       "      <td>0.233787</td>\n",
       "    </tr>\n",
       "    <tr>\n",
       "      <th>2</th>\n",
       "      <td>c</td>\n",
       "      <td>59460</td>\n",
       "      <td>0.185388</td>\n",
       "    </tr>\n",
       "    <tr>\n",
       "      <th>3</th>\n",
       "      <td>e</td>\n",
       "      <td>47409</td>\n",
       "      <td>0.147815</td>\n",
       "    </tr>\n",
       "    <tr>\n",
       "      <th>4</th>\n",
       "      <td>a</td>\n",
       "      <td>37815</td>\n",
       "      <td>0.117902</td>\n",
       "    </tr>\n",
       "  </tbody>\n",
       "</table>\n",
       "</div>"
      ],
      "text/plain": [
       "  nutrition_grade_fr       n         f\n",
       "0                  b  101065  0.315107\n",
       "1                  d   74983  0.233787\n",
       "2                  c   59460  0.185388\n",
       "3                  e   47409  0.147815\n",
       "4                  a   37815  0.117902"
      ]
     },
     "metadata": {},
     "output_type": "display_data"
    }
   ],
   "source": [
    "effectifs = data[\"nutrition_grade_fr\"].value_counts()\n",
    "modalites = effectifs.index # l'index de effectifs contient les modalités\n",
    "\n",
    "tab_grade = pd.DataFrame(modalites, columns = [\"nutrition_grade_fr\"]) # création du tableau à partir des modalités\n",
    "tab_grade[\"n\"] = effectifs.values\n",
    "tab_grade[\"f\"] = tab_grade[\"n\"] / len(data) # len(data) renvoie la taille de l'échantillon\n",
    "\n",
    "display(tab_grade)"
   ]
  },
  {
   "cell_type": "markdown",
   "id": "e5357706",
   "metadata": {},
   "source": [
    "**b.) Representation en graphique**\n",
    "\n",
    "variable : \"nutrition_grade_fr\""
   ]
  },
  {
   "cell_type": "code",
   "execution_count": 7,
   "id": "872882e4",
   "metadata": {
    "scrolled": false
   },
   "outputs": [
    {
     "data": {
      "image/png": "[encoded data removed]",
      "text/plain": [
       "<Figure size 432x288 with 1 Axes>"
      ]
     },
     "metadata": {},
     "output_type": "display_data"
    },
    {
     "data": {
      "image/png": "[encoded data removed]",
      "text/plain": [
       "<Figure size 432x288 with 1 Axes>"
      ]
     },
     "metadata": {
      "needs_background": "light"
     },
     "output_type": "display_data"
    }
   ],
   "source": [
    "# Diagramme en secteurs\n",
    "data[\"nutrition_grade_fr\"].value_counts(normalize=True).plot(kind='pie',autopct=\"%1.1f%%\")\n",
    "plt.axis('equal')\n",
    "plt.title(\"Camenbert\")\n",
    "plt.show() # Affiche le graphique\n",
    "\n",
    "# Diagramme en tuyaux d'orgues\n",
    "data[\"nutrition_grade_fr\"].value_counts(normalize=True).plot(kind='bar')\n",
    "plt.title(\"Graphique à barres\")\n",
    "plt.show()"
   ]
  },
  {
   "cell_type": "markdown",
   "id": "dfecc93f",
   "metadata": {},
   "source": [
    "Nous constatons que un tiers (1/3) des produits a un nutrition_grade egale **b**. Alors que nutrition_grade b à le plus petit intervalle de valeurs."
   ]
  },
  {
   "cell_type": "markdown",
   "id": "5f813c64",
   "metadata": {},
   "source": [
    "**2. variables quantitatives discrètes**\n",
    "\n",
    "Présentez les variables \"additives_n\" et \"ingredients_from_palm_oil_n\" sous forme de tableau"
   ]
  },
  {
   "cell_type": "code",
   "execution_count": 8,
   "id": "7b3981fd",
   "metadata": {
    "scrolled": true
   },
   "outputs": [
    {
     "data": {
      "text/html": [
       "<div>\n",
       "<style scoped>\n",
       "    .dataframe tbody tr th:only-of-type {\n",
       "        vertical-align: middle;\n",
       "    }\n",
       "\n",
       "    .dataframe tbody tr th {\n",
       "        vertical-align: top;\n",
       "    }\n",
       "\n",
       "    .dataframe thead th {\n",
       "        text-align: right;\n",
       "    }\n",
       "</style>\n",
       "<table border=\"1\" class=\"dataframe\">\n",
       "  <thead>\n",
       "    <tr style=\"text-align: right;\">\n",
       "      <th></th>\n",
       "      <th>additives_n</th>\n",
       "      <th>n</th>\n",
       "      <th>f</th>\n",
       "      <th>F</th>\n",
       "    </tr>\n",
       "  </thead>\n",
       "  <tbody>\n",
       "    <tr>\n",
       "      <th>0</th>\n",
       "      <td>0.0</td>\n",
       "      <td>166066</td>\n",
       "      <td>0.517772</td>\n",
       "      <td>0.517772</td>\n",
       "    </tr>\n",
       "    <tr>\n",
       "      <th>1</th>\n",
       "      <td>1.0</td>\n",
       "      <td>46505</td>\n",
       "      <td>0.144996</td>\n",
       "      <td>0.662768</td>\n",
       "    </tr>\n",
       "    <tr>\n",
       "      <th>2</th>\n",
       "      <td>2.0</td>\n",
       "      <td>36516</td>\n",
       "      <td>0.113852</td>\n",
       "      <td>0.776620</td>\n",
       "    </tr>\n",
       "    <tr>\n",
       "      <th>3</th>\n",
       "      <td>3.0</td>\n",
       "      <td>23679</td>\n",
       "      <td>0.073828</td>\n",
       "      <td>0.850448</td>\n",
       "    </tr>\n",
       "    <tr>\n",
       "      <th>4</th>\n",
       "      <td>4.0</td>\n",
       "      <td>15239</td>\n",
       "      <td>0.047513</td>\n",
       "      <td>0.897962</td>\n",
       "    </tr>\n",
       "    <tr>\n",
       "      <th>5</th>\n",
       "      <td>5.0</td>\n",
       "      <td>10935</td>\n",
       "      <td>0.034094</td>\n",
       "      <td>0.932055</td>\n",
       "    </tr>\n",
       "    <tr>\n",
       "      <th>6</th>\n",
       "      <td>6.0</td>\n",
       "      <td>7289</td>\n",
       "      <td>0.022726</td>\n",
       "      <td>0.954782</td>\n",
       "    </tr>\n",
       "    <tr>\n",
       "      <th>7</th>\n",
       "      <td>7.0</td>\n",
       "      <td>4702</td>\n",
       "      <td>0.014660</td>\n",
       "      <td>0.969442</td>\n",
       "    </tr>\n",
       "    <tr>\n",
       "      <th>8</th>\n",
       "      <td>8.0</td>\n",
       "      <td>3359</td>\n",
       "      <td>0.010473</td>\n",
       "      <td>0.979915</td>\n",
       "    </tr>\n",
       "    <tr>\n",
       "      <th>9</th>\n",
       "      <td>9.0</td>\n",
       "      <td>2194</td>\n",
       "      <td>0.006841</td>\n",
       "      <td>0.986755</td>\n",
       "    </tr>\n",
       "    <tr>\n",
       "      <th>10</th>\n",
       "      <td>10.0</td>\n",
       "      <td>1336</td>\n",
       "      <td>0.004165</td>\n",
       "      <td>0.990921</td>\n",
       "    </tr>\n",
       "    <tr>\n",
       "      <th>11</th>\n",
       "      <td>11.0</td>\n",
       "      <td>893</td>\n",
       "      <td>0.002784</td>\n",
       "      <td>0.993705</td>\n",
       "    </tr>\n",
       "    <tr>\n",
       "      <th>12</th>\n",
       "      <td>12.0</td>\n",
       "      <td>589</td>\n",
       "      <td>0.001836</td>\n",
       "      <td>0.995541</td>\n",
       "    </tr>\n",
       "    <tr>\n",
       "      <th>13</th>\n",
       "      <td>13.0</td>\n",
       "      <td>376</td>\n",
       "      <td>0.001172</td>\n",
       "      <td>0.996714</td>\n",
       "    </tr>\n",
       "    <tr>\n",
       "      <th>14</th>\n",
       "      <td>14.0</td>\n",
       "      <td>325</td>\n",
       "      <td>0.001013</td>\n",
       "      <td>0.997727</td>\n",
       "    </tr>\n",
       "    <tr>\n",
       "      <th>15</th>\n",
       "      <td>15.0</td>\n",
       "      <td>224</td>\n",
       "      <td>0.000698</td>\n",
       "      <td>0.998425</td>\n",
       "    </tr>\n",
       "    <tr>\n",
       "      <th>16</th>\n",
       "      <td>16.0</td>\n",
       "      <td>128</td>\n",
       "      <td>0.000399</td>\n",
       "      <td>0.998825</td>\n",
       "    </tr>\n",
       "    <tr>\n",
       "      <th>17</th>\n",
       "      <td>17.0</td>\n",
       "      <td>109</td>\n",
       "      <td>0.000340</td>\n",
       "      <td>0.999164</td>\n",
       "    </tr>\n",
       "    <tr>\n",
       "      <th>18</th>\n",
       "      <td>18.0</td>\n",
       "      <td>68</td>\n",
       "      <td>0.000212</td>\n",
       "      <td>0.999376</td>\n",
       "    </tr>\n",
       "    <tr>\n",
       "      <th>19</th>\n",
       "      <td>19.0</td>\n",
       "      <td>55</td>\n",
       "      <td>0.000171</td>\n",
       "      <td>0.999548</td>\n",
       "    </tr>\n",
       "    <tr>\n",
       "      <th>20</th>\n",
       "      <td>20.0</td>\n",
       "      <td>48</td>\n",
       "      <td>0.000150</td>\n",
       "      <td>0.999698</td>\n",
       "    </tr>\n",
       "    <tr>\n",
       "      <th>22</th>\n",
       "      <td>21.0</td>\n",
       "      <td>21</td>\n",
       "      <td>0.000065</td>\n",
       "      <td>0.999763</td>\n",
       "    </tr>\n",
       "    <tr>\n",
       "      <th>21</th>\n",
       "      <td>22.0</td>\n",
       "      <td>27</td>\n",
       "      <td>0.000084</td>\n",
       "      <td>0.999847</td>\n",
       "    </tr>\n",
       "    <tr>\n",
       "      <th>23</th>\n",
       "      <td>23.0</td>\n",
       "      <td>15</td>\n",
       "      <td>0.000047</td>\n",
       "      <td>0.999894</td>\n",
       "    </tr>\n",
       "    <tr>\n",
       "      <th>25</th>\n",
       "      <td>24.0</td>\n",
       "      <td>10</td>\n",
       "      <td>0.000031</td>\n",
       "      <td>0.999925</td>\n",
       "    </tr>\n",
       "    <tr>\n",
       "      <th>24</th>\n",
       "      <td>25.0</td>\n",
       "      <td>11</td>\n",
       "      <td>0.000034</td>\n",
       "      <td>0.999959</td>\n",
       "    </tr>\n",
       "    <tr>\n",
       "      <th>27</th>\n",
       "      <td>26.0</td>\n",
       "      <td>3</td>\n",
       "      <td>0.000009</td>\n",
       "      <td>0.999969</td>\n",
       "    </tr>\n",
       "    <tr>\n",
       "      <th>29</th>\n",
       "      <td>27.0</td>\n",
       "      <td>2</td>\n",
       "      <td>0.000006</td>\n",
       "      <td>0.999975</td>\n",
       "    </tr>\n",
       "    <tr>\n",
       "      <th>28</th>\n",
       "      <td>28.0</td>\n",
       "      <td>2</td>\n",
       "      <td>0.000006</td>\n",
       "      <td>0.999981</td>\n",
       "    </tr>\n",
       "    <tr>\n",
       "      <th>30</th>\n",
       "      <td>29.0</td>\n",
       "      <td>2</td>\n",
       "      <td>0.000006</td>\n",
       "      <td>0.999988</td>\n",
       "    </tr>\n",
       "    <tr>\n",
       "      <th>26</th>\n",
       "      <td>31.0</td>\n",
       "      <td>4</td>\n",
       "      <td>0.000012</td>\n",
       "      <td>1.000000</td>\n",
       "    </tr>\n",
       "  </tbody>\n",
       "</table>\n",
       "</div>"
      ],
      "text/plain": [
       "    additives_n       n         f         F\n",
       "0           0.0  166066  0.517772  0.517772\n",
       "1           1.0   46505  0.144996  0.662768\n",
       "2           2.0   36516  0.113852  0.776620\n",
       "3           3.0   23679  0.073828  0.850448\n",
       "4           4.0   15239  0.047513  0.897962\n",
       "5           5.0   10935  0.034094  0.932055\n",
       "6           6.0    7289  0.022726  0.954782\n",
       "7           7.0    4702  0.014660  0.969442\n",
       "8           8.0    3359  0.010473  0.979915\n",
       "9           9.0    2194  0.006841  0.986755\n",
       "10         10.0    1336  0.004165  0.990921\n",
       "11         11.0     893  0.002784  0.993705\n",
       "12         12.0     589  0.001836  0.995541\n",
       "13         13.0     376  0.001172  0.996714\n",
       "14         14.0     325  0.001013  0.997727\n",
       "15         15.0     224  0.000698  0.998425\n",
       "16         16.0     128  0.000399  0.998825\n",
       "17         17.0     109  0.000340  0.999164\n",
       "18         18.0      68  0.000212  0.999376\n",
       "19         19.0      55  0.000171  0.999548\n",
       "20         20.0      48  0.000150  0.999698\n",
       "22         21.0      21  0.000065  0.999763\n",
       "21         22.0      27  0.000084  0.999847\n",
       "23         23.0      15  0.000047  0.999894\n",
       "25         24.0      10  0.000031  0.999925\n",
       "24         25.0      11  0.000034  0.999959\n",
       "27         26.0       3  0.000009  0.999969\n",
       "29         27.0       2  0.000006  0.999975\n",
       "28         28.0       2  0.000006  0.999981\n",
       "30         29.0       2  0.000006  0.999988\n",
       "26         31.0       4  0.000012  1.000000"
      ]
     },
     "metadata": {},
     "output_type": "display_data"
    }
   ],
   "source": [
    "effectifs = data[\"additives_n\"].value_counts()\n",
    "modalites = effectifs.index # l'index de effectifs contient les modalités\n",
    "\n",
    "tab = pd.DataFrame(modalites, columns = [\"additives_n\"]) # création du tableau à partir des modalités\n",
    "tab[\"n\"] = effectifs.values\n",
    "tab[\"f\"] = tab[\"n\"] / len(data) # len(data) renvoie la taille de l'échantillon\n",
    "\n",
    "tab = tab.sort_values(\"additives_n\") # tri des valeurs de la variable X (croissant)\n",
    "tab[\"F\"] = tab[\"f\"].cumsum() # cumsum calcule la somme cumulée\n",
    "\n",
    "display(tab)"
   ]
  },
  {
   "cell_type": "markdown",
   "id": "181b220e",
   "metadata": {},
   "source": [
    "Plus de **90%** des produits ont moins de cinq (5) additifs."
   ]
  },
  {
   "cell_type": "code",
   "execution_count": 9,
   "id": "3343645e",
   "metadata": {},
   "outputs": [],
   "source": [
    "data_ad = data.loc[data['additives_n']<5,:]"
   ]
  },
  {
   "cell_type": "code",
   "execution_count": 10,
   "id": "a347b9b1",
   "metadata": {},
   "outputs": [
    {
     "data": {
      "text/html": [
       "<div>\n",
       "<style scoped>\n",
       "    .dataframe tbody tr th:only-of-type {\n",
       "        vertical-align: middle;\n",
       "    }\n",
       "\n",
       "    .dataframe tbody tr th {\n",
       "        vertical-align: top;\n",
       "    }\n",
       "\n",
       "    .dataframe thead th {\n",
       "        text-align: right;\n",
       "    }\n",
       "</style>\n",
       "<table border=\"1\" class=\"dataframe\">\n",
       "  <thead>\n",
       "    <tr style=\"text-align: right;\">\n",
       "      <th></th>\n",
       "      <th>ingredients_from_palm_oil_n</th>\n",
       "      <th>n</th>\n",
       "      <th>f</th>\n",
       "      <th>F</th>\n",
       "    </tr>\n",
       "  </thead>\n",
       "  <tbody>\n",
       "    <tr>\n",
       "      <th>0</th>\n",
       "      <td>0.0</td>\n",
       "      <td>315897</td>\n",
       "      <td>0.984925</td>\n",
       "      <td>0.984925</td>\n",
       "    </tr>\n",
       "    <tr>\n",
       "      <th>1</th>\n",
       "      <td>1.0</td>\n",
       "      <td>4776</td>\n",
       "      <td>0.014891</td>\n",
       "      <td>0.999816</td>\n",
       "    </tr>\n",
       "    <tr>\n",
       "      <th>2</th>\n",
       "      <td>2.0</td>\n",
       "      <td>59</td>\n",
       "      <td>0.000184</td>\n",
       "      <td>1.000000</td>\n",
       "    </tr>\n",
       "  </tbody>\n",
       "</table>\n",
       "</div>"
      ],
      "text/plain": [
       "   ingredients_from_palm_oil_n       n         f         F\n",
       "0                          0.0  315897  0.984925  0.984925\n",
       "1                          1.0    4776  0.014891  0.999816\n",
       "2                          2.0      59  0.000184  1.000000"
      ]
     },
     "metadata": {},
     "output_type": "display_data"
    }
   ],
   "source": [
    "effectifs = data[\"ingredients_from_palm_oil_n\"].value_counts()\n",
    "modalites = effectifs.index # l'index de effectifs contient les modalités\n",
    "\n",
    "tab = pd.DataFrame(modalites, columns = [\"ingredients_from_palm_oil_n\"]) # création du tableau à partir des modalités\n",
    "tab[\"n\"] = effectifs.values\n",
    "tab[\"f\"] = tab[\"n\"] / len(data) # len(data) renvoie la taille de l'échantillon\n",
    "\n",
    "tab = tab.sort_values(\"ingredients_from_palm_oil_n\") # tri des valeurs de la variable X (croissant)\n",
    "tab[\"F\"] = tab[\"f\"].cumsum() # cumsum calcule la somme cumulée\n",
    "\n",
    "display(tab)"
   ]
  },
  {
   "cell_type": "code",
   "execution_count": 11,
   "id": "504dfe33",
   "metadata": {},
   "outputs": [
    {
     "data": {
      "image/png": "[encoded data removed]",
      "text/plain": [
       "<Figure size 432x288 with 1 Axes>"
      ]
     },
     "metadata": {
      "needs_background": "light"
     },
     "output_type": "display_data"
    }
   ],
   "source": [
    "# Diagramme en bâtons\n",
    "data[\"ingredients_from_palm_oil_n\"].value_counts(normalize=True).plot(kind='bar',width=0.05)\n",
    "plt.show()"
   ]
  },
  {
   "cell_type": "markdown",
   "id": "eac3bd82",
   "metadata": {},
   "source": [
    "Environ **99%** des produits ne contient aucun ingrédient d'huile de palme"
   ]
  },
  {
   "cell_type": "markdown",
   "id": "4084f34c",
   "metadata": {},
   "source": [
    "**3. variables quantitatives Continues**\n",
    "\n",
    "La distribution graphique de trois nutriments déconseillés pour les diabétiques."
   ]
  },
  {
   "cell_type": "code",
   "execution_count": 12,
   "id": "82d48fe8",
   "metadata": {
    "scrolled": false
   },
   "outputs": [
    {
     "data": {
      "image/png": "[encoded data removed]",
      "text/plain": [
       "<Figure size 432x288 with 1 Axes>"
      ]
     },
     "metadata": {
      "needs_background": "light"
     },
     "output_type": "display_data"
    },
    {
     "data": {
      "image/png": "[encoded data removed]",
      "text/plain": [
       "<Figure size 432x288 with 1 Axes>"
      ]
     },
     "metadata": {
      "needs_background": "light"
     },
     "output_type": "display_data"
    },
    {
     "data": {
      "image/png": "[encoded data removed]",
      "text/plain": [
       "<Figure size 432x288 with 1 Axes>"
      ]
     },
     "metadata": {
      "needs_background": "light"
     },
     "output_type": "display_data"
    }
   ],
   "source": [
    "# Histogrammes\n",
    "\n",
    "data[\"fat_100g\"].hist(bins=20)\n",
    "plt.title(\"fat_100g\")\n",
    "plt.show()\n",
    "\n",
    "data[\"saturated-fat_100g\"].hist(bins=20)\n",
    "plt.title(\"saturated-fat_100g\")\n",
    "plt.show()\n",
    "\n",
    "data[\"sugars_100g\"].hist(bins=20)\n",
    "plt.title(\"sugars_100g\")\n",
    "plt.show()"
   ]
  },
  {
   "cell_type": "markdown",
   "id": "3dfbb647",
   "metadata": {},
   "source": [
    "La distribution graphique de trois nutriments conseillés pour les diabétiques."
   ]
  },
  {
   "cell_type": "code",
   "execution_count": 13,
   "id": "fa4d0f91",
   "metadata": {
    "scrolled": true
   },
   "outputs": [
    {
     "data": {
      "image/png": "[encoded data removed]",
      "text/plain": [
       "<Figure size 432x288 with 1 Axes>"
      ]
     },
     "metadata": {
      "needs_background": "light"
     },
     "output_type": "display_data"
    },
    {
     "data": {
      "image/png": "[encoded data removed]",
      "text/plain": [
       "<Figure size 432x288 with 1 Axes>"
      ]
     },
     "metadata": {
      "needs_background": "light"
     },
     "output_type": "display_data"
    },
    {
     "data": {
      "image/png": "[encoded data removed]",
      "text/plain": [
       "<Figure size 432x288 with 1 Axes>"
      ]
     },
     "metadata": {
      "needs_background": "light"
     },
     "output_type": "display_data"
    }
   ],
   "source": [
    "# Histogrammes\n",
    "\n",
    "data[\"omega-3-fat_100g\"].hist(bins=20)\n",
    "plt.title(\"omega-3-fat_100g\")\n",
    "plt.show()\n",
    "\n",
    "data[\"fiber_100g\"].hist(bins=20)\n",
    "plt.title(\"fiber_100g\")\n",
    "plt.show()\n",
    "\n",
    "data[\"carbohydrates_100g\"].hist(bins=20)\n",
    "plt.title(\"carbohydrates_100g\")\n",
    "plt.show()"
   ]
  },
  {
   "cell_type": "markdown",
   "id": "be8aea8c",
   "metadata": {},
   "source": [
    "La majorité des produits ont des proportions de ces six (6) nutriments étudiés, inférieures à 10%\n",
    "\n",
    "Nous allons calculer les mésures pour la variable **\"nutrition-score-fr_100g\"**"
   ]
  },
  {
   "cell_type": "markdown",
   "id": "783c7db4",
   "metadata": {},
   "source": [
    "## <a name=\"P1C2\"> P1C2 - Les mesures de tendance centrale</a>"
   ]
  },
  {
   "cell_type": "code",
   "execution_count": 14,
   "id": "208cd09f",
   "metadata": {},
   "outputs": [
    {
     "data": {
      "text/plain": [
       "0    0.0\n",
       "Name: nutrition-score-fr_100g, dtype: float64"
      ]
     },
     "execution_count": 14,
     "metadata": {},
     "output_type": "execute_result"
    }
   ],
   "source": [
    "data['nutrition-score-fr_100g'].mode()"
   ]
  },
  {
   "cell_type": "code",
   "execution_count": 15,
   "id": "8458cf45",
   "metadata": {},
   "outputs": [
    {
     "data": {
      "text/plain": [
       "7.454857949939513"
      ]
     },
     "execution_count": 15,
     "metadata": {},
     "output_type": "execute_result"
    }
   ],
   "source": [
    "data['nutrition-score-fr_100g'].mean()"
   ]
  },
  {
   "cell_type": "code",
   "execution_count": 16,
   "id": "8ee3cb03",
   "metadata": {},
   "outputs": [
    {
     "data": {
      "text/plain": [
       "5.0"
      ]
     },
     "execution_count": 16,
     "metadata": {},
     "output_type": "execute_result"
    }
   ],
   "source": [
    "data['nutrition-score-fr_100g'].median()"
   ]
  },
  {
   "cell_type": "code",
   "execution_count": 17,
   "id": "9cb9f2d4",
   "metadata": {},
   "outputs": [
    {
     "data": {
      "image/png": "[encoded data removed]",
      "text/plain": [
       "<Figure size 432x288 with 1 Axes>"
      ]
     },
     "metadata": {
      "needs_background": "light"
     },
     "output_type": "display_data"
    }
   ],
   "source": [
    "data[\"nutrition-score-fr_100g\"].hist(bins=20)\n",
    "plt.title(\"nutrition-score-fr_100g\")\n",
    "plt.show()"
   ]
  },
  {
   "cell_type": "markdown",
   "id": "17e57ce0",
   "metadata": {},
   "source": [
    "Il serait intéressant de calculer ces mesures pour chaque origine de produit notament les quatre (4) origines représentants  "
   ]
  },
  {
   "cell_type": "code",
   "execution_count": 18,
   "id": "fa9874b9",
   "metadata": {},
   "outputs": [],
   "source": [
    "data_n = data.loc[data[\"origins\"].isin(List_origine)]"
   ]
  },
  {
   "cell_type": "code",
   "execution_count": 19,
   "id": "1de3ba7e",
   "metadata": {},
   "outputs": [
    {
     "name": "stdout",
     "output_type": "stream",
     "text": [
      "--------------------\n",
      "Aucune\n",
      "moy:\n",
      " 7.628432669602934\n",
      "med:\n",
      " 6.0\n",
      "mod:\n",
      " 0    0.0\n",
      "Name: nutrition-score-fr_100g, dtype: float64\n"
     ]
    },
    {
     "data": {
      "image/png": "[encoded data removed]",
      "text/plain": [
       "<Figure size 432x288 with 1 Axes>"
      ]
     },
     "metadata": {
      "needs_background": "light"
     },
     "output_type": "display_data"
    },
    {
     "name": "stdout",
     "output_type": "stream",
     "text": [
      "--------------------\n",
      "France\n",
      "moy:\n",
      " 5.377779926513247\n",
      "med:\n",
      " 2.0\n",
      "mod:\n",
      " 0    0.0\n",
      "Name: nutrition-score-fr_100g, dtype: float64\n"
     ]
    },
    {
     "data": {
      "image/png": "[encoded data removed]",
      "text/plain": [
       "<Figure size 432x288 with 1 Axes>"
      ]
     },
     "metadata": {
      "needs_background": "light"
     },
     "output_type": "display_data"
    },
    {
     "name": "stdout",
     "output_type": "stream",
     "text": [
      "--------------------\n",
      "Italie\n",
      "moy:\n",
      " 4.614164904862579\n",
      "med:\n",
      " 1.0\n",
      "mod:\n",
      " 0    0.0\n",
      "Name: nutrition-score-fr_100g, dtype: float64\n"
     ]
    },
    {
     "data": {
      "image/png": "[encoded data removed]",
      "text/plain": [
       "<Figure size 432x288 with 1 Axes>"
      ]
     },
     "metadata": {
      "needs_background": "light"
     },
     "output_type": "display_data"
    },
    {
     "name": "stdout",
     "output_type": "stream",
     "text": [
      "--------------------\n",
      "Australia\n",
      "moy:\n",
      " 3.1589861751152073\n",
      "med:\n",
      " 0.0\n",
      "mod:\n",
      " 0    0.0\n",
      "Name: nutrition-score-fr_100g, dtype: float64\n"
     ]
    },
    {
     "data": {
      "image/png": "[encoded data removed]",
      "text/plain": [
       "<Figure size 432x288 with 1 Axes>"
      ]
     },
     "metadata": {
      "needs_background": "light"
     },
     "output_type": "display_data"
    },
    {
     "name": "stdout",
     "output_type": "stream",
     "text": [
      "--------------------\n",
      "España\n",
      "moy:\n",
      " 2.766256590509666\n",
      "med:\n",
      " 0.0\n",
      "mod:\n",
      " 0    0.0\n",
      "Name: nutrition-score-fr_100g, dtype: float64\n"
     ]
    },
    {
     "data": {
      "image/png": "[encoded data removed]",
      "text/plain": [
       "<Figure size 432x288 with 1 Axes>"
      ]
     },
     "metadata": {
      "needs_background": "light"
     },
     "output_type": "display_data"
    }
   ],
   "source": [
    "for cat in data_n[\"origins\"].unique():\n",
    "    subset = data[data.origins == cat] # Création du sous-échantillon\n",
    "    print(\"-\"*20)\n",
    "    print(cat)\n",
    "    print(\"moy:\\n\",subset['nutrition-score-fr_100g'].mean())\n",
    "    print(\"med:\\n\",subset['nutrition-score-fr_100g'].median())\n",
    "    print(\"mod:\\n\",subset['nutrition-score-fr_100g'].mode())\n",
    "    subset['nutrition-score-fr_100g'].hist(bins=20) # Crée l'histogramme\n",
    "    plt.show() # Affiche l'histogramme"
   ]
  },
  {
   "cell_type": "markdown",
   "id": "27f40ecc",
   "metadata": {},
   "source": [
    "## <a name=\"P1C3\"> P1C3 - Les mesures de dispersion</a>\n",
    "\n",
    "- **'nutrition-score-fr_100g'**"
   ]
  },
  {
   "cell_type": "code",
   "execution_count": 20,
   "id": "262653c6",
   "metadata": {},
   "outputs": [
    {
     "name": "stdout",
     "output_type": "stream",
     "text": [
      "Variance :\n",
      " 75.44339075673436\n",
      "Ecart-type :\n",
      " 8.68581549175058\n",
      "CV :\n",
      " 1.1651215288174679\n",
      "----------------------------------------------------------------------------------------------------\n"
     ]
    },
    {
     "data": {
      "image/png": "[encoded data removed]",
      "text/plain": [
       "<Figure size 432x288 with 1 Axes>"
      ]
     },
     "metadata": {
      "needs_background": "light"
     },
     "output_type": "display_data"
    }
   ],
   "source": [
    "print(\"Variance :\\n\",data['nutrition-score-fr_100g'].var())\n",
    "print(\"Ecart-type :\\n\",data['nutrition-score-fr_100g'].std())\n",
    "print(\"CV :\\n\",data['nutrition-score-fr_100g'].std()/data['nutrition-score-fr_100g'].mean())\n",
    "\n",
    "print(\"-\"*100)\n",
    "\n",
    "data.boxplot(column='nutrition-score-fr_100g',vert=False)\n",
    "plt.show()"
   ]
  },
  {
   "cell_type": "markdown",
   "id": "0caf4aaa",
   "metadata": {},
   "source": [
    "Nous constatons une grande dispersion de la variable 'nutrition-score-fr_100g' avec des Outliers supérieurs à 35\n",
    "\n",
    "- **'additives_n'**"
   ]
  },
  {
   "cell_type": "code",
   "execution_count": 21,
   "id": "117f4cf7",
   "metadata": {},
   "outputs": [
    {
     "name": "stdout",
     "output_type": "stream",
     "text": [
      "Variance :\n",
      " 5.509972278476868\n",
      "Ecart-type :\n",
      " 2.347333013970721\n",
      "CV :\n",
      " 1.5622356893577858\n",
      "----------------------------------------------------------------------------------------------------\n"
     ]
    },
    {
     "data": {
      "image/png": "[encoded data removed]",
      "text/plain": [
       "<Figure size 432x288 with 1 Axes>"
      ]
     },
     "metadata": {
      "needs_background": "light"
     },
     "output_type": "display_data"
    }
   ],
   "source": [
    "print(\"Variance :\\n\",data['additives_n'].var())\n",
    "print(\"Ecart-type :\\n\",data['additives_n'].std())\n",
    "print(\"CV :\\n\",data['additives_n'].std()/data['additives_n'].mean())\n",
    "\n",
    "print(\"-\"*100)\n",
    "\n",
    "data.boxplot(column='additives_n',vert=False)\n",
    "plt.show()"
   ]
  },
  {
   "cell_type": "markdown",
   "id": "67e88a8a",
   "metadata": {},
   "source": [
    "Toute valeurs sup à 5 est un outlier."
   ]
  },
  {
   "cell_type": "markdown",
   "id": "0149909b",
   "metadata": {},
   "source": [
    "- **Les nutriments**"
   ]
  },
  {
   "cell_type": "code",
   "execution_count": 22,
   "id": "805e1302",
   "metadata": {
    "scrolled": true
   },
   "outputs": [
    {
     "name": "stdout",
     "output_type": "stream",
     "text": [
      "saturated-fat_100g:\n",
      "\n"
     ]
    },
    {
     "data": {
      "image/png": "[encoded data removed]",
      "text/plain": [
       "<Figure size 432x288 with 1 Axes>"
      ]
     },
     "metadata": {
      "needs_background": "light"
     },
     "output_type": "display_data"
    },
    {
     "name": "stdout",
     "output_type": "stream",
     "text": [
      "----------------------------------------\n",
      "fat_100g:\n",
      "\n"
     ]
    },
    {
     "data": {
      "image/png": "[encoded data removed]",
      "text/plain": [
       "<Figure size 432x288 with 1 Axes>"
      ]
     },
     "metadata": {
      "needs_background": "light"
     },
     "output_type": "display_data"
    },
    {
     "name": "stdout",
     "output_type": "stream",
     "text": [
      "----------------------------------------\n",
      "sugars_100g:\n",
      "\n"
     ]
    },
    {
     "data": {
      "image/png": "[encoded data removed]",
      "text/plain": [
       "<Figure size 432x288 with 1 Axes>"
      ]
     },
     "metadata": {
      "needs_background": "light"
     },
     "output_type": "display_data"
    },
    {
     "name": "stdout",
     "output_type": "stream",
     "text": [
      "----------------------------------------\n"
     ]
    }
   ],
   "source": [
    "print(\"saturated-fat_100g:\\n\")\n",
    "data.boxplot(column='saturated-fat_100g',vert=False)\n",
    "plt.show()\n",
    "print(\"-\"*40)\n",
    "\n",
    "print(\"fat_100g:\\n\")\n",
    "data.boxplot(column='fat_100g',vert=False)\n",
    "plt.show()\n",
    "print(\"-\"*40)\n",
    "\n",
    "print(\"sugars_100g:\\n\")\n",
    "data.boxplot(column='sugars_100g',vert=False)\n",
    "plt.show()\n",
    "print(\"-\"*40)"
   ]
  },
  {
   "cell_type": "code",
   "execution_count": 23,
   "id": "6715bacc",
   "metadata": {
    "scrolled": true
   },
   "outputs": [
    {
     "name": "stdout",
     "output_type": "stream",
     "text": [
      "omega-3-fat_100g:\n",
      "\n"
     ]
    },
    {
     "data": {
      "image/png": "[encoded data removed]",
      "text/plain": [
       "<Figure size 432x288 with 1 Axes>"
      ]
     },
     "metadata": {
      "needs_background": "light"
     },
     "output_type": "display_data"
    },
    {
     "name": "stdout",
     "output_type": "stream",
     "text": [
      "----------------------------------------\n",
      "fiber_100g:\n",
      "\n"
     ]
    },
    {
     "data": {
      "image/png": "[encoded data removed]",
      "text/plain": [
       "<Figure size 432x288 with 1 Axes>"
      ]
     },
     "metadata": {
      "needs_background": "light"
     },
     "output_type": "display_data"
    },
    {
     "name": "stdout",
     "output_type": "stream",
     "text": [
      "----------------------------------------\n",
      "carbohydrates_100g:\n",
      "\n"
     ]
    },
    {
     "data": {
      "image/png": "[encoded data removed]",
      "text/plain": [
       "<Figure size 432x288 with 1 Axes>"
      ]
     },
     "metadata": {
      "needs_background": "light"
     },
     "output_type": "display_data"
    },
    {
     "name": "stdout",
     "output_type": "stream",
     "text": [
      "----------------------------------------\n"
     ]
    }
   ],
   "source": [
    "print(\"omega-3-fat_100g:\\n\")\n",
    "data.boxplot(column='omega-3-fat_100g',vert=False)\n",
    "plt.show()\n",
    "print(\"-\"*40)\n",
    "\n",
    "print(\"fiber_100g:\\n\")\n",
    "data.boxplot(column='fiber_100g',vert=False)\n",
    "plt.show()\n",
    "print(\"-\"*40)\n",
    "\n",
    "print(\"carbohydrates_100g:\\n\")\n",
    "data.boxplot(column='carbohydrates_100g',vert=False)\n",
    "plt.show()\n",
    "print(\"-\"*40)"
   ]
  },
  {
   "cell_type": "markdown",
   "id": "77f36efa",
   "metadata": {},
   "source": [
    "## <a name=\"P1C4\"> P1C4 - Les mesures de forme de la varaiable 'nutrition-score-fr_100g' </a>"
   ]
  },
  {
   "cell_type": "code",
   "execution_count": 24,
   "id": "d4b3e807",
   "metadata": {},
   "outputs": [
    {
     "data": {
      "text/plain": [
       "0.486435519814633"
      ]
     },
     "execution_count": 24,
     "metadata": {},
     "output_type": "execute_result"
    }
   ],
   "source": [
    "data['nutrition-score-fr_100g'].skew()"
   ]
  },
  {
   "cell_type": "code",
   "execution_count": 25,
   "id": "a7b301de",
   "metadata": {},
   "outputs": [
    {
     "data": {
      "text/plain": [
       "-0.8762448364055442"
      ]
     },
     "execution_count": 25,
     "metadata": {},
     "output_type": "execute_result"
    }
   ],
   "source": [
    "data['nutrition-score-fr_100g'].kurtosis()"
   ]
  },
  {
   "cell_type": "markdown",
   "id": "f1aff33e",
   "metadata": {},
   "source": [
    "les valeurs du Skewness empirique et Le Kurtosis empirique sont conforme à ce que nous avons observé sur l'histogramme :\n",
    " - **la distribution est étalée à droite.**\n",
    " - **la distribution est plus aplatie**"
   ]
  },
  {
   "cell_type": "markdown",
   "id": "b4f80392",
   "metadata": {},
   "source": [
    "# <a name=\"P2\"> P2 - Analyse Bivariée</a>\n",
    "\n",
    "## <a name=\"P2C1\"> P2C1 - Analyse de la corrélation entre deux variables quantitatives</a>\n",
    "\n",
    "Nous analyserons la corrélation entre les variables \"nutrition-score-fr_100g\" et \"additives_n\""
   ]
  },
  {
   "cell_type": "code",
   "execution_count": 26,
   "id": "5cd8a3a5",
   "metadata": {},
   "outputs": [
    {
     "data": {
      "image/png": "[encoded data removed]",
      "text/plain": [
       "<Figure size 432x288 with 1 Axes>"
      ]
     },
     "metadata": {
      "needs_background": "light"
     },
     "output_type": "display_data"
    },
    {
     "name": "stdout",
     "output_type": "stream",
     "text": [
      "Coefficient de corrélation:\n",
      " 0.213032851127398\n"
     ]
    }
   ],
   "source": [
    "# diagramme de dispersion\n",
    "plt.plot(data[\"nutrition-score-fr_100g\"],data[\"additives_n\"],'o')\n",
    "plt.xlabel(\"nutrition-score-fr_100g\")\n",
    "plt.ylabel(\"additives_n\")\n",
    "plt.show()\n",
    "\n",
    "print(\"Coefficient de corrélation:\\n\",st.pearsonr(data[\"nutrition-score-fr_100g\"],data[\"additives_n\"])[0])"
   ]
  },
  {
   "cell_type": "markdown",
   "id": "594dcd6c",
   "metadata": {},
   "source": [
    "Il n'y a pas de correlation entre \"nutrition-score-fr_100g\" et \"additives_n\".\n",
    "\n",
    "Vérifions la corrélation entre la variable \"nutrition-score-fr_100g\" et les autres variables"
   ]
  },
  {
   "cell_type": "code",
   "execution_count": 27,
   "id": "e8dfa3e3",
   "metadata": {
    "scrolled": true
   },
   "outputs": [
    {
     "name": "stdout",
     "output_type": "stream",
     "text": [
      "saturated-fat_100g:\n",
      " 0.5436975279960374\n",
      "fat_100g:\n",
      " 0.5055967120778886\n",
      "sugars_100g:\n",
      " 0.4181006133403818\n",
      "--------------------\n",
      "omega-3-fat_100g:\n",
      " 0.007616817217267368\n",
      "fiber_100g:\n",
      " -0.11957222237730869\n",
      "carbohydrates_100g:\n",
      " 0.22626809153956823\n"
     ]
    }
   ],
   "source": [
    "print(\"saturated-fat_100g:\\n\",st.pearsonr(data[\"nutrition-score-fr_100g\"],data[\"saturated-fat_100g\"])[0])\n",
    "print(\"fat_100g:\\n\",st.pearsonr(data[\"nutrition-score-fr_100g\"],data[\"fat_100g\"])[0])\n",
    "print(\"sugars_100g:\\n\",st.pearsonr(data[\"nutrition-score-fr_100g\"],data[\"sugars_100g\"])[0])\n",
    "\n",
    "print(\"-\"*20)\n",
    "\n",
    "print(\"omega-3-fat_100g:\\n\",st.pearsonr(data[\"nutrition-score-fr_100g\"],data[\"omega-3-fat_100g\"])[0])\n",
    "print(\"fiber_100g:\\n\",st.pearsonr(data[\"nutrition-score-fr_100g\"],data[\"fiber_100g\"])[0])\n",
    "print(\"carbohydrates_100g:\\n\",st.pearsonr(data[\"nutrition-score-fr_100g\"],data[\"carbohydrates_100g\"])[0])"
   ]
  },
  {
   "cell_type": "markdown",
   "id": "17d7e7a6",
   "metadata": {},
   "source": [
    "Il n'est existe aucune corrélation entre la variable **\"nutrition-score-fr_100g\"** et les autres variables quantitatives. Toutefois, nous avons des valeurs correlation un peu élevée pour les variables :\n",
    "\n",
    "- saturated-fat_100g\n",
    "- fat_100g\n",
    "- sugars_100g"
   ]
  },
  {
   "cell_type": "markdown",
   "id": "b0040d2a",
   "metadata": {},
   "source": [
    "## <a name=\"P2C2\"> P2C2 - Analyse de deux variables quantitatives par régression linéaire</a>\n",
    "\n",
    "### a.) Analyse : 'nutrition-score-fr_100g' et 'saturated-fat_100g'"
   ]
  },
  {
   "cell_type": "code",
   "execution_count": 28,
   "id": "d8575133",
   "metadata": {},
   "outputs": [
    {
     "name": "stdout",
     "output_type": "stream",
     "text": [
      "Equation de la droite de regression :\n",
      " y = 4.3 + 0.7x\n",
      "--------------------------------------------------\n"
     ]
    },
    {
     "data": {
      "image/png": "[encoded data removed]",
      "text/plain": [
       "<Figure size 432x288 with 1 Axes>"
      ]
     },
     "metadata": {
      "needs_background": "light"
     },
     "output_type": "display_data"
    }
   ],
   "source": [
    "# Estimation de a et b de l'equation de la droite\n",
    "\n",
    "from scipy.stats import linregress\n",
    "\n",
    "Y = data['nutrition-score-fr_100g']\n",
    "X = data['saturated-fat_100g']\n",
    "\n",
    "slope = round(linregress(X,Y).slope,1)\n",
    "intercept = round(linregress(X,Y).intercept,1)\n",
    "print(\"Equation de la droite de regression :\\n\",f'y = {intercept} + {slope}x')\n",
    "\n",
    "print(\"-\"*50)\n",
    "\n",
    "# droite de regression\n",
    "a = slope\n",
    "b = intercept\n",
    "\n",
    "plt.plot(data['saturated-fat_100g'], data['nutrition-score-fr_100g'], \"o\")\n",
    "plt.plot(np.arange(100),[a*x+b for x in np.arange(100)])\n",
    "plt.xlabel(\"saturated-fat_100g\")\n",
    "plt.ylabel(\"nutrition-score-fr_100g\")\n",
    "plt.show()"
   ]
  },
  {
   "cell_type": "markdown",
   "id": "1967bd1f",
   "metadata": {},
   "source": [
    "### b.) Analyse : 'nutrition-score-fr_100g' et 'fat_100g'"
   ]
  },
  {
   "cell_type": "code",
   "execution_count": 29,
   "id": "fe6a2c0e",
   "metadata": {},
   "outputs": [
    {
     "name": "stdout",
     "output_type": "stream",
     "text": [
      "Equation de la droite de regression :\n",
      " y = 3.8 + 0.3x\n",
      "--------------------------------------------------\n"
     ]
    },
    {
     "data": {
      "image/png": "[encoded data removed]",
      "text/plain": [
       "<Figure size 432x288 with 1 Axes>"
      ]
     },
     "metadata": {
      "needs_background": "light"
     },
     "output_type": "display_data"
    }
   ],
   "source": [
    "# Estimation de a et b de l'equation de la droite\n",
    "\n",
    "from scipy.stats import linregress\n",
    "\n",
    "Y = data['nutrition-score-fr_100g']\n",
    "X = data['fat_100g']\n",
    "\n",
    "slope = round(linregress(X,Y).slope,1)\n",
    "intercept = round(linregress(X,Y).intercept,1)\n",
    "print(\"Equation de la droite de regression :\\n\",f'y = {intercept} + {slope}x')\n",
    "\n",
    "print(\"-\"*50)\n",
    "\n",
    "# droite de regression\n",
    "a = slope\n",
    "b = intercept\n",
    "\n",
    "plt.plot(data['fat_100g'], data['nutrition-score-fr_100g'], \"o\")\n",
    "plt.plot(np.arange(100),[a*x+b for x in np.arange(100)])\n",
    "plt.xlabel(\"fat_100g\")\n",
    "plt.ylabel(\"nutrition-score-fr_100g\")\n",
    "plt.show()"
   ]
  },
  {
   "cell_type": "markdown",
   "id": "03ee45ab",
   "metadata": {},
   "source": [
    "### c.) Analyse : 'nutrition-score-fr_100g' et 'sugars_100g'"
   ]
  },
  {
   "cell_type": "code",
   "execution_count": 30,
   "id": "3edcbc4c",
   "metadata": {},
   "outputs": [
    {
     "name": "stdout",
     "output_type": "stream",
     "text": [
      "Equation de la droite de regression :\n",
      " y = 4.3 + 0.2x\n",
      "--------------------------------------------------\n"
     ]
    },
    {
     "data": {
      "image/png": "[encoded data removed]",
      "text/plain": [
       "<Figure size 432x288 with 1 Axes>"
      ]
     },
     "metadata": {
      "needs_background": "light"
     },
     "output_type": "display_data"
    }
   ],
   "source": [
    "# Estimation de a et b de l'equation de la droite\n",
    "\n",
    "from scipy.stats import linregress\n",
    "\n",
    "Y = data['nutrition-score-fr_100g']\n",
    "X = data['sugars_100g']\n",
    "\n",
    "slope = round(linregress(X,Y).slope,1)\n",
    "intercept = round(linregress(X,Y).intercept,1)\n",
    "print(\"Equation de la droite de regression :\\n\",f'y = {intercept} + {slope}x')\n",
    "\n",
    "print(\"-\"*50)\n",
    "\n",
    "# droite de regression\n",
    "a = slope\n",
    "b = intercept\n",
    "\n",
    "plt.plot(data['sugars_100g'], data['nutrition-score-fr_100g'], \"o\")\n",
    "plt.plot(np.arange(100),[a*x+b for x in np.arange(100)])\n",
    "plt.xlabel(\"sugars_100g\")\n",
    "plt.ylabel(\"nutrition-score-fr_100g\")\n",
    "plt.show()"
   ]
  },
  {
   "cell_type": "markdown",
   "id": "47762d9f",
   "metadata": {},
   "source": [
    "## <a name=\"P2C2\"> P2C2 - Analyse d'une variable qualitative et une variable quantitative </a>\n",
    "\n",
    "### Analyse : 'nutrition-score-fr_100g' et 'origins'¶"
   ]
  },
  {
   "cell_type": "code",
   "execution_count": 31,
   "id": "3c0a49c7",
   "metadata": {},
   "outputs": [
    {
     "data": {
      "image/png": "[encoded data removed]",
      "text/plain": [
       "<Figure size 432x288 with 1 Axes>"
      ]
     },
     "metadata": {
      "needs_background": "light"
     },
     "output_type": "display_data"
    }
   ],
   "source": [
    "X = \"origins\" # qualitative\n",
    "Y = \"nutrition-score-fr_100g\" # quantitative\n",
    "\n",
    "modalites = data_n[X].unique()\n",
    "groupes = []\n",
    "for m in modalites:\n",
    "    groupes.append(data_n[data_n[X]==m][Y])\n",
    "\n",
    "# Propriétés graphiques (pas très importantes)    \n",
    "medianprops = {'color':\"black\"}\n",
    "meanprops = {'marker':'o', 'markeredgecolor':'black',\n",
    "            'markerfacecolor':'firebrick'}\n",
    "    \n",
    "plt.boxplot(groupes, labels=modalites, showfliers=False, medianprops=medianprops, \n",
    "            vert=False, patch_artist=True, showmeans=True, meanprops=meanprops)\n",
    "plt.show()"
   ]
  },
  {
   "cell_type": "markdown",
   "id": "a178f0ad",
   "metadata": {},
   "source": [
    "On voit ici que les valeurs de \"nutrition-score-fr_100g\" sont très différentes d'une origine à l'autre.Les valeurs d'origne : \"Aucune\",\"France\" et \"Italie\" sont très dipersées.\n",
    "\n",
    "Les produit originaire de l'australie sont de meilleurs qualités; toutefois, ces produits sont les moins nombreux\n",
    "\n",
    "Mais vérifions maintenant cette affirmation par les chiffres, grâce à une modélisation."
   ]
  },
  {
   "cell_type": "code",
   "execution_count": 32,
   "id": "69314d96",
   "metadata": {},
   "outputs": [
    {
     "data": {
      "text/plain": [
       "0.0022314664956668887"
      ]
     },
     "execution_count": 32,
     "metadata": {},
     "output_type": "execute_result"
    }
   ],
   "source": [
    "X = \"origins\" # qualitative\n",
    "Y = \"nutrition-score-fr_100g\" # quantitative\n",
    "\n",
    "def eta_squared(x,y):\n",
    "    moyenne_y = y.mean()\n",
    "    classes = []\n",
    "    for classe in x.unique():\n",
    "        yi_classe = y[x==classe]\n",
    "        classes.append({'ni': len(yi_classe),\n",
    "                        'moyenne_classe': yi_classe.mean()})\n",
    "    SCT = sum([(yj-moyenne_y)**2 for yj in y])\n",
    "    SCE = sum([c['ni']*(c['moyenne_classe']-moyenne_y)**2 for c in classes])\n",
    "    return SCE/SCT\n",
    "    \n",
    "eta_squared(data_n[X],data_n[Y])"
   ]
  },
  {
   "cell_type": "markdown",
   "id": "24adfca9",
   "metadata": {},
   "source": [
    "### Analyse : 'nutrition_grade_fr' et 'additives_n'¶"
   ]
  },
  {
   "cell_type": "code",
   "execution_count": 33,
   "id": "903119e6",
   "metadata": {},
   "outputs": [
    {
     "data": {
      "image/png": "[encoded data removed]",
      "text/plain": [
       "<Figure size 432x288 with 1 Axes>"
      ]
     },
     "metadata": {
      "needs_background": "light"
     },
     "output_type": "display_data"
    },
    {
     "data": {
      "text/plain": [
       "0.06131243856712816"
      ]
     },
     "execution_count": 33,
     "metadata": {},
     "output_type": "execute_result"
    }
   ],
   "source": [
    "X = \"nutrition_grade_fr\" # qualitative\n",
    "Y = \"additives_n\" # quantitative\n",
    "\n",
    "modalites = data[X].unique()\n",
    "groupes = []\n",
    "for m in modalites:\n",
    "    groupes.append(data[data[X]==m][Y])\n",
    "\n",
    "# Propriétés graphiques (pas très importantes)    \n",
    "medianprops = {'color':\"black\"}\n",
    "meanprops = {'marker':'o', 'markeredgecolor':'black',\n",
    "            'markerfacecolor':'firebrick'}\n",
    "    \n",
    "plt.boxplot(groupes, labels=modalites, showfliers=False, medianprops=medianprops, \n",
    "            vert=False, patch_artist=True, showmeans=True, meanprops=meanprops)\n",
    "plt.show()\n",
    "\n",
    "\n",
    "\n",
    "def eta_squared(x,y):\n",
    "    moyenne_y = y.mean()\n",
    "    classes = []\n",
    "    for classe in x.unique():\n",
    "        yi_classe = y[x==classe]\n",
    "        classes.append({'ni': len(yi_classe),\n",
    "                        'moyenne_classe': yi_classe.mean()})\n",
    "    SCT = sum([(yj-moyenne_y)**2 for yj in y])\n",
    "    SCE = sum([c['ni']*(c['moyenne_classe']-moyenne_y)**2 for c in classes])\n",
    "    return SCE/SCT\n",
    "    \n",
    "eta_squared(data[X],data[Y])"
   ]
  },
  {
   "cell_type": "markdown",
   "id": "d3362e0e",
   "metadata": {},
   "source": [
    "Le valeur de \"additives_n\" pour les nutrition_grade de **\"a\"** et **\"b\"**  est moin élevée par rapport aux autres nutrition_grade; avec une moyenne à \"1\" et maximim à \"2\""
   ]
  },
  {
   "cell_type": "markdown",
   "id": "9560c181",
   "metadata": {},
   "source": [
    "## <a name=\"P2C3\"> P2C3 - Analyse de deux variables qualitatives avec le Chi-2 </a>\n",
    "\n",
    "### Analyse : 'nutrition-grade_100g' et 'origins'¶"
   ]
  },
  {
   "cell_type": "code",
   "execution_count": 34,
   "id": "56481c0b",
   "metadata": {},
   "outputs": [
    {
     "data": {
      "text/html": [
       "<div>\n",
       "<style scoped>\n",
       "    .dataframe tbody tr th:only-of-type {\n",
       "        vertical-align: middle;\n",
       "    }\n",
       "\n",
       "    .dataframe tbody tr th {\n",
       "        vertical-align: top;\n",
       "    }\n",
       "\n",
       "    .dataframe thead th {\n",
       "        text-align: right;\n",
       "    }\n",
       "</style>\n",
       "<table border=\"1\" class=\"dataframe\">\n",
       "  <thead>\n",
       "    <tr style=\"text-align: right;\">\n",
       "      <th>origins</th>\n",
       "      <th>Aucune</th>\n",
       "      <th>Australia</th>\n",
       "      <th>España</th>\n",
       "      <th>France</th>\n",
       "      <th>Italie</th>\n",
       "      <th>Total</th>\n",
       "    </tr>\n",
       "    <tr>\n",
       "      <th>nutrition_grade_fr</th>\n",
       "      <th></th>\n",
       "      <th></th>\n",
       "      <th></th>\n",
       "      <th></th>\n",
       "      <th></th>\n",
       "      <th></th>\n",
       "    </tr>\n",
       "  </thead>\n",
       "  <tbody>\n",
       "    <tr>\n",
       "      <th>a</th>\n",
       "      <td>34534</td>\n",
       "      <td>28</td>\n",
       "      <td>60</td>\n",
       "      <td>786</td>\n",
       "      <td>113</td>\n",
       "      <td>35521</td>\n",
       "    </tr>\n",
       "    <tr>\n",
       "      <th>b</th>\n",
       "      <td>92089</td>\n",
       "      <td>302</td>\n",
       "      <td>322</td>\n",
       "      <td>1923</td>\n",
       "      <td>158</td>\n",
       "      <td>94794</td>\n",
       "    </tr>\n",
       "    <tr>\n",
       "      <th>c</th>\n",
       "      <td>55948</td>\n",
       "      <td>34</td>\n",
       "      <td>98</td>\n",
       "      <td>879</td>\n",
       "      <td>65</td>\n",
       "      <td>57024</td>\n",
       "    </tr>\n",
       "    <tr>\n",
       "      <th>d</th>\n",
       "      <td>70692</td>\n",
       "      <td>45</td>\n",
       "      <td>72</td>\n",
       "      <td>1003</td>\n",
       "      <td>110</td>\n",
       "      <td>71922</td>\n",
       "    </tr>\n",
       "    <tr>\n",
       "      <th>e</th>\n",
       "      <td>45302</td>\n",
       "      <td>25</td>\n",
       "      <td>17</td>\n",
       "      <td>580</td>\n",
       "      <td>27</td>\n",
       "      <td>45951</td>\n",
       "    </tr>\n",
       "    <tr>\n",
       "      <th>Total</th>\n",
       "      <td>298565</td>\n",
       "      <td>434</td>\n",
       "      <td>569</td>\n",
       "      <td>5171</td>\n",
       "      <td>473</td>\n",
       "      <td>305212</td>\n",
       "    </tr>\n",
       "  </tbody>\n",
       "</table>\n",
       "</div>"
      ],
      "text/plain": [
       "origins             Aucune  Australia  España  France  Italie   Total\n",
       "nutrition_grade_fr                                                   \n",
       "a                    34534         28      60     786     113   35521\n",
       "b                    92089        302     322    1923     158   94794\n",
       "c                    55948         34      98     879      65   57024\n",
       "d                    70692         45      72    1003     110   71922\n",
       "e                    45302         25      17     580      27   45951\n",
       "Total               298565        434     569    5171     473  305212"
      ]
     },
     "execution_count": 34,
     "metadata": {},
     "output_type": "execute_result"
    }
   ],
   "source": [
    "X = \"nutrition_grade_fr\"\n",
    "Y = \"origins\"\n",
    "\n",
    "cont = data_n[[X,Y]].pivot_table(index=X,columns=Y,aggfunc=len,margins=True,margins_name=\"Total\")\n",
    "cont"
   ]
  },
  {
   "cell_type": "code",
   "execution_count": 35,
   "id": "07b0b1e1",
   "metadata": {},
   "outputs": [
    {
     "data": {
      "image/png": "[encoded data removed]",
      "text/plain": [
       "<Figure size 432x288 with 2 Axes>"
      ]
     },
     "metadata": {
      "needs_background": "light"
     },
     "output_type": "display_data"
    }
   ],
   "source": [
    "import seaborn as sns\n",
    "\n",
    "tx = cont.loc[:,[\"Total\"]]\n",
    "ty = cont.loc[[\"Total\"],:]\n",
    "n = len(data_n)\n",
    "indep = tx.dot(ty) / n\n",
    "\n",
    "c = cont.fillna(0) # On remplace les valeurs nulles par 0\n",
    "measure = (c-indep)**2/indep\n",
    "xi_n = measure.sum().sum()\n",
    "table = measure/xi_n\n",
    "sns.heatmap(table.iloc[:-1,:-1],annot=c.iloc[:-1,:-1])\n",
    "plt.show()"
   ]
  },
  {
   "cell_type": "markdown",
   "id": "122476c5",
   "metadata": {},
   "source": [
    "Les produits originaires de l'australie ou de l'espagne ont souvent de meilleurs nutrigrade"
   ]
  },
  {
   "cell_type": "markdown",
   "id": "f58114a4",
   "metadata": {},
   "source": [
    "# <a name=\"P3\"> P3 - Analyse Exploratoire</a>\n",
    "## <a name=\"P3C1\"> P3C1 - Analyse en Composantes Principales</a>"
   ]
  },
  {
   "cell_type": "code",
   "execution_count": 36,
   "id": "c0919841",
   "metadata": {},
   "outputs": [],
   "source": [
    "# Importer les librairies\n",
    "\n",
    "from sklearn.decomposition import PCA\n",
    "from sklearn.preprocessing import scale\n",
    "from sklearn.preprocessing import StandardScaler"
   ]
  },
  {
   "cell_type": "code",
   "execution_count": 37,
   "id": "f3e52927",
   "metadata": {},
   "outputs": [],
   "source": [
    "# Supprimer les colonnes non-numérique\n",
    "X = data.drop(columns = ['code','product_name','origins','categories','nutrition_grade_fr'])\n",
    "\n",
    "# garder uniquement les colonnes nutritions\n",
    "X = X.drop(columns = ['additives_n','ingredients_from_palm_oil_n'])"
   ]
  },
  {
   "cell_type": "markdown",
   "id": "0a469604",
   "metadata": {},
   "source": [
    "### <a name =\"P3C11\"> 1. Centrer et réduire les données </a>"
   ]
  },
  {
   "cell_type": "code",
   "execution_count": 38,
   "id": "9ce3f714",
   "metadata": {},
   "outputs": [
    {
     "data": {
      "text/html": [
       "<div>\n",
       "<style scoped>\n",
       "    .dataframe tbody tr th:only-of-type {\n",
       "        vertical-align: middle;\n",
       "    }\n",
       "\n",
       "    .dataframe tbody tr th {\n",
       "        vertical-align: top;\n",
       "    }\n",
       "\n",
       "    .dataframe thead th {\n",
       "        text-align: right;\n",
       "    }\n",
       "</style>\n",
       "<table border=\"1\" class=\"dataframe\">\n",
       "  <thead>\n",
       "    <tr style=\"text-align: right;\">\n",
       "      <th></th>\n",
       "      <th>fat_100g</th>\n",
       "      <th>saturated-fat_100g</th>\n",
       "      <th>sugars_100g</th>\n",
       "      <th>omega-3-fat_100g</th>\n",
       "      <th>fiber_100g</th>\n",
       "      <th>carbohydrates_100g</th>\n",
       "      <th>nutrition-score-fr_100g</th>\n",
       "    </tr>\n",
       "  </thead>\n",
       "  <tbody>\n",
       "    <tr>\n",
       "      <th>count</th>\n",
       "      <td>320732.000000</td>\n",
       "      <td>320732.000000</td>\n",
       "      <td>320732.000000</td>\n",
       "      <td>320732.000000</td>\n",
       "      <td>320732.000000</td>\n",
       "      <td>320732.000000</td>\n",
       "      <td>320732.000000</td>\n",
       "    </tr>\n",
       "    <tr>\n",
       "      <th>mean</th>\n",
       "      <td>11.905171</td>\n",
       "      <td>4.814846</td>\n",
       "      <td>15.724474</td>\n",
       "      <td>3.182103</td>\n",
       "      <td>2.840412</td>\n",
       "      <td>31.508174</td>\n",
       "      <td>7.454858</td>\n",
       "    </tr>\n",
       "    <tr>\n",
       "      <th>std</th>\n",
       "      <td>14.469227</td>\n",
       "      <td>7.261986</td>\n",
       "      <td>17.883001</td>\n",
       "      <td>0.286996</td>\n",
       "      <td>3.590287</td>\n",
       "      <td>24.639022</td>\n",
       "      <td>8.685815</td>\n",
       "    </tr>\n",
       "    <tr>\n",
       "      <th>min</th>\n",
       "      <td>0.000000</td>\n",
       "      <td>0.000000</td>\n",
       "      <td>0.000000</td>\n",
       "      <td>0.000000</td>\n",
       "      <td>0.000000</td>\n",
       "      <td>0.000000</td>\n",
       "      <td>-15.000000</td>\n",
       "    </tr>\n",
       "    <tr>\n",
       "      <th>25%</th>\n",
       "      <td>0.500000</td>\n",
       "      <td>0.000000</td>\n",
       "      <td>2.500000</td>\n",
       "      <td>3.182103</td>\n",
       "      <td>0.800000</td>\n",
       "      <td>9.600000</td>\n",
       "      <td>0.000000</td>\n",
       "    </tr>\n",
       "    <tr>\n",
       "      <th>50%</th>\n",
       "      <td>10.000000</td>\n",
       "      <td>3.120000</td>\n",
       "      <td>13.330000</td>\n",
       "      <td>3.182103</td>\n",
       "      <td>2.862013</td>\n",
       "      <td>32.073621</td>\n",
       "      <td>5.000000</td>\n",
       "    </tr>\n",
       "    <tr>\n",
       "      <th>75%</th>\n",
       "      <td>14.750000</td>\n",
       "      <td>5.000000</td>\n",
       "      <td>16.003369</td>\n",
       "      <td>3.182103</td>\n",
       "      <td>2.862013</td>\n",
       "      <td>47.900000</td>\n",
       "      <td>14.000000</td>\n",
       "    </tr>\n",
       "    <tr>\n",
       "      <th>max</th>\n",
       "      <td>99.900000</td>\n",
       "      <td>99.900000</td>\n",
       "      <td>99.950000</td>\n",
       "      <td>60.000000</td>\n",
       "      <td>99.000000</td>\n",
       "      <td>99.950000</td>\n",
       "      <td>40.000000</td>\n",
       "    </tr>\n",
       "  </tbody>\n",
       "</table>\n",
       "</div>"
      ],
      "text/plain": [
       "            fat_100g  saturated-fat_100g    sugars_100g  omega-3-fat_100g  \\\n",
       "count  320732.000000       320732.000000  320732.000000     320732.000000   \n",
       "mean       11.905171            4.814846      15.724474          3.182103   \n",
       "std        14.469227            7.261986      17.883001          0.286996   \n",
       "min         0.000000            0.000000       0.000000          0.000000   \n",
       "25%         0.500000            0.000000       2.500000          3.182103   \n",
       "50%        10.000000            3.120000      13.330000          3.182103   \n",
       "75%        14.750000            5.000000      16.003369          3.182103   \n",
       "max        99.900000           99.900000      99.950000         60.000000   \n",
       "\n",
       "          fiber_100g  carbohydrates_100g  nutrition-score-fr_100g  \n",
       "count  320732.000000       320732.000000            320732.000000  \n",
       "mean        2.840412           31.508174                 7.454858  \n",
       "std         3.590287           24.639022                 8.685815  \n",
       "min         0.000000            0.000000               -15.000000  \n",
       "25%         0.800000            9.600000                 0.000000  \n",
       "50%         2.862013           32.073621                 5.000000  \n",
       "75%         2.862013           47.900000                14.000000  \n",
       "max        99.000000           99.950000                40.000000  "
      ]
     },
     "execution_count": 38,
     "metadata": {},
     "output_type": "execute_result"
    }
   ],
   "source": [
    "X.describe()"
   ]
  },
  {
   "cell_type": "code",
   "execution_count": 39,
   "id": "7c5a836a",
   "metadata": {},
   "outputs": [
    {
     "data": {
      "text/html": [
       "<div>\n",
       "<style scoped>\n",
       "    .dataframe tbody tr th:only-of-type {\n",
       "        vertical-align: middle;\n",
       "    }\n",
       "\n",
       "    .dataframe tbody tr th {\n",
       "        vertical-align: top;\n",
       "    }\n",
       "\n",
       "    .dataframe thead th {\n",
       "        text-align: right;\n",
       "    }\n",
       "</style>\n",
       "<table border=\"1\" class=\"dataframe\">\n",
       "  <thead>\n",
       "    <tr style=\"text-align: right;\">\n",
       "      <th></th>\n",
       "      <th>0</th>\n",
       "      <th>1</th>\n",
       "      <th>2</th>\n",
       "      <th>3</th>\n",
       "      <th>4</th>\n",
       "      <th>5</th>\n",
       "      <th>6</th>\n",
       "    </tr>\n",
       "  </thead>\n",
       "  <tbody>\n",
       "    <tr>\n",
       "      <th>count</th>\n",
       "      <td>320732.00</td>\n",
       "      <td>320732.00</td>\n",
       "      <td>320732.00</td>\n",
       "      <td>320732.00</td>\n",
       "      <td>320732.00</td>\n",
       "      <td>320732.00</td>\n",
       "      <td>320732.00</td>\n",
       "    </tr>\n",
       "    <tr>\n",
       "      <th>mean</th>\n",
       "      <td>0.00</td>\n",
       "      <td>0.00</td>\n",
       "      <td>0.00</td>\n",
       "      <td>-0.00</td>\n",
       "      <td>0.00</td>\n",
       "      <td>-0.00</td>\n",
       "      <td>0.00</td>\n",
       "    </tr>\n",
       "    <tr>\n",
       "      <th>std</th>\n",
       "      <td>1.00</td>\n",
       "      <td>1.00</td>\n",
       "      <td>1.00</td>\n",
       "      <td>1.00</td>\n",
       "      <td>1.00</td>\n",
       "      <td>1.00</td>\n",
       "      <td>1.00</td>\n",
       "    </tr>\n",
       "    <tr>\n",
       "      <th>min</th>\n",
       "      <td>-0.82</td>\n",
       "      <td>-0.66</td>\n",
       "      <td>-0.88</td>\n",
       "      <td>-11.09</td>\n",
       "      <td>-0.79</td>\n",
       "      <td>-1.28</td>\n",
       "      <td>-2.59</td>\n",
       "    </tr>\n",
       "    <tr>\n",
       "      <th>25%</th>\n",
       "      <td>-0.79</td>\n",
       "      <td>-0.66</td>\n",
       "      <td>-0.74</td>\n",
       "      <td>-0.00</td>\n",
       "      <td>-0.57</td>\n",
       "      <td>-0.89</td>\n",
       "      <td>-0.86</td>\n",
       "    </tr>\n",
       "    <tr>\n",
       "      <th>50%</th>\n",
       "      <td>-0.13</td>\n",
       "      <td>-0.23</td>\n",
       "      <td>-0.13</td>\n",
       "      <td>-0.00</td>\n",
       "      <td>0.01</td>\n",
       "      <td>0.02</td>\n",
       "      <td>-0.28</td>\n",
       "    </tr>\n",
       "    <tr>\n",
       "      <th>75%</th>\n",
       "      <td>0.20</td>\n",
       "      <td>0.03</td>\n",
       "      <td>0.02</td>\n",
       "      <td>-0.00</td>\n",
       "      <td>0.01</td>\n",
       "      <td>0.67</td>\n",
       "      <td>0.75</td>\n",
       "    </tr>\n",
       "    <tr>\n",
       "      <th>max</th>\n",
       "      <td>6.08</td>\n",
       "      <td>13.09</td>\n",
       "      <td>4.71</td>\n",
       "      <td>197.97</td>\n",
       "      <td>26.78</td>\n",
       "      <td>2.78</td>\n",
       "      <td>3.75</td>\n",
       "    </tr>\n",
       "  </tbody>\n",
       "</table>\n",
       "</div>"
      ],
      "text/plain": [
       "               0          1          2          3          4          5  \\\n",
       "count  320732.00  320732.00  320732.00  320732.00  320732.00  320732.00   \n",
       "mean        0.00       0.00       0.00      -0.00       0.00      -0.00   \n",
       "std         1.00       1.00       1.00       1.00       1.00       1.00   \n",
       "min        -0.82      -0.66      -0.88     -11.09      -0.79      -1.28   \n",
       "25%        -0.79      -0.66      -0.74      -0.00      -0.57      -0.89   \n",
       "50%        -0.13      -0.23      -0.13      -0.00       0.01       0.02   \n",
       "75%         0.20       0.03       0.02      -0.00       0.01       0.67   \n",
       "max         6.08      13.09       4.71     197.97      26.78       2.78   \n",
       "\n",
       "               6  \n",
       "count  320732.00  \n",
       "mean        0.00  \n",
       "std         1.00  \n",
       "min        -2.59  \n",
       "25%        -0.86  \n",
       "50%        -0.28  \n",
       "75%         0.75  \n",
       "max         3.75  "
      ]
     },
     "execution_count": 39,
     "metadata": {},
     "output_type": "execute_result"
    }
   ],
   "source": [
    "# On instancie notre scaler : \n",
    "scaler = StandardScaler()\n",
    "\n",
    "# On le fit : \n",
    "scaler.fit(X)\n",
    "\n",
    "# On l'entraine : \n",
    "X_scaled = scaler.transform(X)\n",
    "\n",
    "# On le transforme en DataFrame : \n",
    "X_scaled = pd.DataFrame(X_scaled)\n",
    "\n",
    "# On peut appliquer la méthode .describe() et .round() pour la description et l'arrondi 2 chiffre après la virgule\n",
    "X_scaled.describe().round(2)"
   ]
  },
  {
   "cell_type": "markdown",
   "id": "63c6334d",
   "metadata": {},
   "source": [
    "### <a name =\"P3C12\"> 2.Variance expliquée </a>"
   ]
  },
  {
   "cell_type": "code",
   "execution_count": 40,
   "id": "365f3a5b",
   "metadata": {},
   "outputs": [
    {
     "data": {
      "text/plain": [
       "PCA()"
      ]
     },
     "execution_count": 40,
     "metadata": {},
     "output_type": "execute_result"
    }
   ],
   "source": [
    "pca = PCA()\n",
    "pca.fit(X_scaled)"
   ]
  },
  {
   "cell_type": "markdown",
   "id": "de860366",
   "metadata": {},
   "source": [
    "L'objet **pca** comprend maintenant un certain nombre d'objets et de fonctions. Le premier objet est le tableau des variances expliquées (explained_variance_ - proportionnelles aux valeurs propres) par chaque dimension, et le ratio (proportion) de variance expliquée par dimension (explained_variance_ratio_)."
   ]
  },
  {
   "cell_type": "code",
   "execution_count": 41,
   "id": "070ba268",
   "metadata": {},
   "outputs": [
    {
     "name": "stdout",
     "output_type": "stream",
     "text": [
      "[2.2678676  1.63820924 1.101184   0.99592079 0.37874663 0.33523069\n",
      " 0.28286288]\n",
      "[0.32398008 0.23402916 0.15731151 0.14227396 0.05410649 0.04788995\n",
      " 0.04040886]\n"
     ]
    }
   ],
   "source": [
    "print(pca.explained_variance_)\n",
    "print(pca.explained_variance_ratio_)"
   ]
  },
  {
   "cell_type": "markdown",
   "id": "b5feb243",
   "metadata": {},
   "source": [
    "Bien évidemment, il est possible (et préférable) de faire un tableau récapitulatif, avec les variances expliquées, les proportions de variance expliquée simples et cumulées. Voici un petit code permettant de faire ceci."
   ]
  },
  {
   "cell_type": "code",
   "execution_count": 42,
   "id": "023f6b52",
   "metadata": {},
   "outputs": [
    {
     "data": {
      "text/html": [
       "<div>\n",
       "<style scoped>\n",
       "    .dataframe tbody tr th:only-of-type {\n",
       "        vertical-align: middle;\n",
       "    }\n",
       "\n",
       "    .dataframe tbody tr th {\n",
       "        vertical-align: top;\n",
       "    }\n",
       "\n",
       "    .dataframe thead th {\n",
       "        text-align: right;\n",
       "    }\n",
       "</style>\n",
       "<table border=\"1\" class=\"dataframe\">\n",
       "  <thead>\n",
       "    <tr style=\"text-align: right;\">\n",
       "      <th></th>\n",
       "      <th>Dimension</th>\n",
       "      <th>Variance expliquée</th>\n",
       "      <th>variance expliquée</th>\n",
       "      <th>cum. var. expliquée</th>\n",
       "    </tr>\n",
       "  </thead>\n",
       "  <tbody>\n",
       "    <tr>\n",
       "      <th>0</th>\n",
       "      <td>Dim1</td>\n",
       "      <td>2.267868</td>\n",
       "      <td>32.0</td>\n",
       "      <td>32.0</td>\n",
       "    </tr>\n",
       "    <tr>\n",
       "      <th>1</th>\n",
       "      <td>Dim2</td>\n",
       "      <td>1.638209</td>\n",
       "      <td>23.0</td>\n",
       "      <td>56.0</td>\n",
       "    </tr>\n",
       "    <tr>\n",
       "      <th>2</th>\n",
       "      <td>Dim3</td>\n",
       "      <td>1.101184</td>\n",
       "      <td>16.0</td>\n",
       "      <td>72.0</td>\n",
       "    </tr>\n",
       "    <tr>\n",
       "      <th>3</th>\n",
       "      <td>Dim4</td>\n",
       "      <td>0.995921</td>\n",
       "      <td>14.0</td>\n",
       "      <td>86.0</td>\n",
       "    </tr>\n",
       "    <tr>\n",
       "      <th>4</th>\n",
       "      <td>Dim5</td>\n",
       "      <td>0.378747</td>\n",
       "      <td>5.0</td>\n",
       "      <td>91.0</td>\n",
       "    </tr>\n",
       "    <tr>\n",
       "      <th>5</th>\n",
       "      <td>Dim6</td>\n",
       "      <td>0.335231</td>\n",
       "      <td>5.0</td>\n",
       "      <td>96.0</td>\n",
       "    </tr>\n",
       "    <tr>\n",
       "      <th>6</th>\n",
       "      <td>Dim7</td>\n",
       "      <td>0.282863</td>\n",
       "      <td>4.0</td>\n",
       "      <td>100.0</td>\n",
       "    </tr>\n",
       "  </tbody>\n",
       "</table>\n",
       "</div>"
      ],
      "text/plain": [
       "  Dimension  Variance expliquée  variance expliquée  cum. var. expliquée\n",
       "0      Dim1            2.267868                32.0                 32.0\n",
       "1      Dim2            1.638209                23.0                 56.0\n",
       "2      Dim3            1.101184                16.0                 72.0\n",
       "3      Dim4            0.995921                14.0                 86.0\n",
       "4      Dim5            0.378747                 5.0                 91.0\n",
       "5      Dim6            0.335231                 5.0                 96.0\n",
       "6      Dim7            0.282863                 4.0                100.0"
      ]
     },
     "execution_count": 42,
     "metadata": {},
     "output_type": "execute_result"
    }
   ],
   "source": [
    "eig = pd.DataFrame(\n",
    "    {\n",
    "        \"Dimension\" : [\"Dim\" + str(a + 1) for a in range(7)], \n",
    "        \"Variance expliquée\" : pca.explained_variance_,\n",
    "        \"variance expliquée\" : np.round(pca.explained_variance_ratio_ * 100),\n",
    "        \"cum. var. expliquée\" : np.round(np.cumsum(pca.explained_variance_ratio_) * 100)\n",
    "    }\n",
    ")\n",
    "eig"
   ]
  },
  {
   "cell_type": "markdown",
   "id": "0e660de5",
   "metadata": {},
   "source": [
    "L'idée est de représenter graphiquement ces proportions de variances expliquées "
   ]
  },
  {
   "cell_type": "code",
   "execution_count": 43,
   "id": "dc736d8f",
   "metadata": {},
   "outputs": [
    {
     "data": {
      "image/png": "[encoded data removed]",
      "text/plain": [
       "<Figure size 432x288 with 1 Axes>"
      ]
     },
     "metadata": {
      "needs_background": "light"
     },
     "output_type": "display_data"
    }
   ],
   "source": [
    "eig.plot.bar(x = \"Dimension\", y = \"variance expliquée\") # permet un diagramme en barres\n",
    "plt.show()"
   ]
  },
  {
   "cell_type": "markdown",
   "id": "8ac25522",
   "metadata": {},
   "source": [
    "Les deux axes du premier plan factoriel expliqueent plus la variance des données (**56%**).\n",
    "\n",
    "Nous allons poursuivre, notre analyse sur ce premier plan factoriel."
   ]
  },
  {
   "cell_type": "markdown",
   "id": "c764088c",
   "metadata": {},
   "source": [
    "### <a name =\"P3C13\"> 3.Représentation des individus </a>\n",
    "\n",
    "Nous allons maintenant calculer les coordonnées des iris sur les dimensions, avec la fonction transform() de l'objet pca."
   ]
  },
  {
   "cell_type": "code",
   "execution_count": 44,
   "id": "49c20d43",
   "metadata": {},
   "outputs": [],
   "source": [
    "X_pca = scaler.fit_transform(X)"
   ]
  },
  {
   "cell_type": "code",
   "execution_count": 45,
   "id": "ced2fae7",
   "metadata": {},
   "outputs": [
    {
     "data": {
      "text/html": [
       "<div>\n",
       "<style scoped>\n",
       "    .dataframe tbody tr th:only-of-type {\n",
       "        vertical-align: middle;\n",
       "    }\n",
       "\n",
       "    .dataframe tbody tr th {\n",
       "        vertical-align: top;\n",
       "    }\n",
       "\n",
       "    .dataframe thead th {\n",
       "        text-align: right;\n",
       "    }\n",
       "</style>\n",
       "<table border=\"1\" class=\"dataframe\">\n",
       "  <thead>\n",
       "    <tr style=\"text-align: right;\">\n",
       "      <th></th>\n",
       "      <th>Dim1</th>\n",
       "      <th>Dim2</th>\n",
       "      <th>product_name</th>\n",
       "      <th>origins</th>\n",
       "      <th>nutrition_grade_fr</th>\n",
       "    </tr>\n",
       "  </thead>\n",
       "  <tbody>\n",
       "    <tr>\n",
       "      <th>0</th>\n",
       "      <td>0.024809</td>\n",
       "      <td>0.001703</td>\n",
       "      <td>Farine de blé noir</td>\n",
       "      <td>Aucune</td>\n",
       "      <td>b</td>\n",
       "    </tr>\n",
       "    <tr>\n",
       "      <th>1</th>\n",
       "      <td>1.151745</td>\n",
       "      <td>3.271170</td>\n",
       "      <td>Banana Chips Sweetened (Whole)</td>\n",
       "      <td>Aucune</td>\n",
       "      <td>d</td>\n",
       "    </tr>\n",
       "    <tr>\n",
       "      <th>2</th>\n",
       "      <td>0.411552</td>\n",
       "      <td>-0.663021</td>\n",
       "      <td>Peanuts</td>\n",
       "      <td>Aucune</td>\n",
       "      <td>b</td>\n",
       "    </tr>\n",
       "    <tr>\n",
       "      <th>3</th>\n",
       "      <td>3.126283</td>\n",
       "      <td>0.075070</td>\n",
       "      <td>Organic Salted Nut Mix</td>\n",
       "      <td>Aucune</td>\n",
       "      <td>d</td>\n",
       "    </tr>\n",
       "    <tr>\n",
       "      <th>4</th>\n",
       "      <td>-0.723963</td>\n",
       "      <td>-0.466105</td>\n",
       "      <td>Organic Polenta</td>\n",
       "      <td>Aucune</td>\n",
       "      <td>c</td>\n",
       "    </tr>\n",
       "  </tbody>\n",
       "</table>\n",
       "</div>"
      ],
      "text/plain": [
       "       Dim1      Dim2                    product_name origins  \\\n",
       "0  0.024809  0.001703              Farine de blé noir  Aucune   \n",
       "1  1.151745  3.271170  Banana Chips Sweetened (Whole)  Aucune   \n",
       "2  0.411552 -0.663021                         Peanuts  Aucune   \n",
       "3  3.126283  0.075070          Organic Salted Nut Mix  Aucune   \n",
       "4 -0.723963 -0.466105                 Organic Polenta  Aucune   \n",
       "\n",
       "  nutrition_grade_fr  \n",
       "0                  b  \n",
       "1                  d  \n",
       "2                  b  \n",
       "3                  d  \n",
       "4                  c  "
      ]
     },
     "execution_count": 45,
     "metadata": {},
     "output_type": "execute_result"
    }
   ],
   "source": [
    "# Transformation en DataFrame pandas\n",
    "X_pca_df = pd.DataFrame({\n",
    "    \"Dim1\" : X_pca[:,0], \n",
    "    \"Dim2\" : X_pca[:,1],\n",
    "    \"product_name\" : data[\"product_name\"],\n",
    "    \"origins\" : data[\"origins\"],\n",
    "    \"nutrition_grade_fr\" : data[\"nutrition_grade_fr\"]\n",
    "})\n",
    "\n",
    "# Résultat (premières lignes)\n",
    "X_pca_df.head()"
   ]
  },
  {
   "cell_type": "markdown",
   "id": "7333a178",
   "metadata": {},
   "source": [
    "Afin de manipuler plus facilement l'objet obtenu par la suite, nous allons créer un DataFrame pandas en ne prenant que les deux premières dimensions."
   ]
  },
  {
   "cell_type": "code",
   "execution_count": 46,
   "id": "e9a2f679",
   "metadata": {},
   "outputs": [
    {
     "data": {
      "image/png": "[encoded data removed]",
      "text/plain": [
       "<Figure size 432x288 with 1 Axes>"
      ]
     },
     "metadata": {
      "needs_background": "light"
     },
     "output_type": "display_data"
    }
   ],
   "source": [
    "X_pca_df.plot.scatter(\"Dim1\", \"Dim2\") # nuage de points\n",
    "plt.xlabel(\"Dimension 1 (32 %)\") # modification du nom de l'axe X\n",
    "plt.ylabel(\"Dimension 2 (23 %)\") # idem pour axe Y\n",
    "plt.suptitle(\"Premier plan factoriel (56 %)\") # titre général\n",
    "plt.show()"
   ]
  },
  {
   "cell_type": "code",
   "execution_count": 47,
   "id": "8d3866c2",
   "metadata": {},
   "outputs": [
    {
     "data": {
      "image/png": "[encoded data removed]",
      "text/plain": [
       "<Figure size 432x288 with 1 Axes>"
      ]
     },
     "metadata": {
      "needs_background": "light"
     },
     "output_type": "display_data"
    }
   ],
   "source": [
    "# utilisation de subplots nécessaire car annotation du graphique\n",
    "fig, ax = plt.subplots()\n",
    "X_pca_df.plot.scatter(\"Dim1\", \"Dim2\", ax = ax) # l'option ax permet de placer les points et le texte sur le même graphique\n",
    "\n",
    "# boucle sur chaque produit\n",
    "for k in X_pca_df.iterrows():\n",
    "    # annotation uniquement si valeur absolue sur une de 2 dimensions importantes (valeurs choisies empiriquement)\n",
    "    if (abs(k[1]['Dim1']) > 102) or (abs(k[1]['Dim2']) > 112):\n",
    "        ax.annotate(k[1][\"product_name\"], (k[1]['Dim1'], k[1]['Dim2']), fontsize = 9)\n",
    "plt.xlabel(\"Dimension 1 (32 %)\") \n",
    "plt.ylabel(\"Dimension 2 (23 %)\")\n",
    "plt.suptitle(\"Premier plan factoriel (56 %)\")\n",
    "plt.show()"
   ]
  },
  {
   "cell_type": "markdown",
   "id": "2d0f809e",
   "metadata": {},
   "source": [
    "nous allons colorer les points en fonction de leur nutrition_grade donc."
   ]
  },
  {
   "cell_type": "code",
   "execution_count": 48,
   "id": "edbfbdfc",
   "metadata": {},
   "outputs": [
    {
     "data": {
      "text/plain": [
       "{'b': array([0.10588235, 0.61960784, 0.46666667, 1.        ]),\n",
       " 'd': array([0.85098039, 0.37254902, 0.00784314, 1.        ]),\n",
       " 'c': array([0.45882353, 0.43921569, 0.70196078, 1.        ]),\n",
       " 'e': array([0.90588235, 0.16078431, 0.54117647, 1.        ]),\n",
       " 'a': array([0.4       , 0.65098039, 0.11764706, 1.        ])}"
      ]
     },
     "execution_count": 48,
     "metadata": {},
     "output_type": "execute_result"
    }
   ],
   "source": [
    "# permet de créer une palette de couleurs, basée sur Color Brewer\n",
    "palette = plt.get_cmap(\"Dark2\")\n",
    "# associe une couleur à chaque continent (cf ci-dessous)\n",
    "couleurs = dict(zip(X_pca_df[\"nutrition_grade_fr\"].drop_duplicates(), palette(range(6))))\n",
    "couleurs"
   ]
  },
  {
   "cell_type": "markdown",
   "id": "917d3c4a",
   "metadata": {},
   "source": [
    "Une fois qu'on a associé une couleur à chaque nutrition_grade, on peut utiliser ce dictionnaire comme ci-dessous"
   ]
  },
  {
   "cell_type": "code",
   "execution_count": 49,
   "id": "9ce3fbb8",
   "metadata": {},
   "outputs": [
    {
     "data": {
      "text/plain": [
       "{'b': 0, 'd': 1, 'c': 2, 'e': 3, 'a': 4}"
      ]
     },
     "execution_count": 49,
     "metadata": {},
     "output_type": "execute_result"
    }
   ],
   "source": [
    "position = dict(zip(couleurs.keys(), range(6)))\n",
    "position"
   ]
  },
  {
   "cell_type": "code",
   "execution_count": null,
   "id": "04aa5813",
   "metadata": {},
   "outputs": [],
   "source": [
    "# Affichage des points avec une liste de couleurs\n",
    "X_pca_df.plot.scatter(x = \"Dim1\", y = \"Dim2\", c = [couleurs[p] for p in X_pca_df[\"nutrition_grade_fr\"]])\n",
    "# boucle pour afficher la légende\n",
    "for cont, coul in couleurs.items():\n",
    "    plt.scatter(3, position[cont] / 3 + 2.15 , c = [coul], s = 20)\n",
    "    plt.text(3.2, position[cont] / 3 + 2, cont)\n",
    "plt.xlabel(\"Dimension 1 (32 %)\") \n",
    "plt.ylabel(\"Dimension 2 (23 %)\")\n",
    "plt.suptitle(\"Premier plan factoriel (56 %)\")\n",
    "plt.show()"
   ]
  },
  {
   "cell_type": "markdown",
   "id": "4f1d7e86",
   "metadata": {},
   "source": [
    "Il est aussi possible de différencier l'affichage de ce premier plan par nutrition_grade_fr."
   ]
  },
  {
   "cell_type": "code",
   "execution_count": null,
   "id": "8f80e23a",
   "metadata": {},
   "outputs": [],
   "source": [
    "fig = plt.figure()\n",
    "fig.subplots_adjust(hspace = 0.4, wspace = 0.4)\n",
    "for cont, coul in couleurs.items():\n",
    "    ax = fig.add_subplot(2, 3, position[cont] + 1)\n",
    "    temp = X_pca_df.query('nutrition_grade_fr == \"' + cont + '\"')\n",
    "    temp.plot.scatter(x = \"Dim1\", y = \"Dim2\", c = [coul], ax = ax)\n",
    "    ax.set_title(cont)\n",
    "    ax.set_xlim(X_pca_df.Dim1.quantile([0, 1])) # permet d'avoir min et max\n",
    "    ax.set_ylim(X_pca_df.Dim2.quantile([0, 1])) # idem\n",
    "    ax.set_xlabel(\"\")\n",
    "    ax.set_ylabel(\"\")\n",
    "plt.show()"
   ]
  },
  {
   "cell_type": "markdown",
   "id": "8bac936f",
   "metadata": {},
   "source": [
    "### <a name =\"P3C14\"> 4. Représentation des variables </a>\n",
    "\n",
    "Lorsqu'on réalise une ACP, surtout dans un contexte exploratoire (et non de compression), il est absolument nécessaire de décrire les axes à partir des variables, afin de comprendre ce qu'ils représentent. Pour cela, nous devons réaliser le cercle des corrélations.\n",
    "\n",
    "#### Premier plan factoriel (F1 ; F2)"
   ]
  },
  {
   "cell_type": "code",
   "execution_count": null,
   "id": "40eb81b9",
   "metadata": {},
   "outputs": [],
   "source": [
    "n = X.shape[0] # nb individus\n",
    "p = X.shape[1] # nb variables\n",
    "eigval = (n-1) / n * pca.explained_variance_ # valeurs propres\n",
    "sqrt_eigval = np.sqrt(eigval) # racine carrée des valeurs propres\n",
    "corvar = np.zeros((p,p)) # matrice vide pour avoir les coordonnées\n",
    "for k in range(p):\n",
    "    corvar[:,k] = pca.components_[k,:] * sqrt_eigval[k]\n",
    "# on modifie pour avoir un dataframe\n",
    "coordvar = pd.DataFrame({'id': X.columns, 'F1': corvar[:,0], 'F2': corvar[:,1]})\n",
    "coordvar"
   ]
  },
  {
   "cell_type": "markdown",
   "id": "96fa48c2",
   "metadata": {},
   "source": [
    "Une fois ces coordonnées récupérées, on peut donc afficher ce cercle des corrélations comme ci-dessous."
   ]
  },
  {
   "cell_type": "code",
   "execution_count": null,
   "id": "2e2d5c1a",
   "metadata": {
    "scrolled": false
   },
   "outputs": [],
   "source": [
    "# Création d'une figure vide (avec des axes entre -1 et 1 + le titre)\n",
    "fig, axes = plt.subplots(figsize = (6,6))\n",
    "fig.suptitle(\"Cercle des corrélations\")\n",
    "plt.xlabel(\"F1(32%)\") \n",
    "plt.ylabel(\"F2(23%)\")\n",
    "axes.set_xlim(-1, 1)\n",
    "axes.set_ylim(-1, 1)\n",
    "# Ajout des axes\n",
    "axes.axvline(x = 0, color = 'lightgray', linestyle = '--', linewidth = 2)\n",
    "axes.axhline(y = 0, color = 'lightgray', linestyle = '--', linewidth = 2)\n",
    "# Ajout des noms des variables\n",
    "for j in range(p):\n",
    "    axes.text(coordvar[\"F1\"][j],coordvar[\"F2\"][j], coordvar[\"id\"][j])\n",
    "# Ajout du cercle\n",
    "plt.gca().add_artist(plt.Circle((0,0),1,color='blue',fill=False))\n",
    "\n",
    "plt.show()"
   ]
  },
  {
   "cell_type": "markdown",
   "id": "9e2a640f",
   "metadata": {},
   "source": [
    "La variables \"nutrition-score-fr_100g\" est fortement corrélée à la composante principale F1\n",
    "\n",
    "Les variables \"fat_100g\" et \"saturated-fat_100g\" également corrélés à F1.\n",
    "\n",
    "La variable \"nutrition-score-fr_100g\" étant confondu à F1, nous allons observer la variabilité des variables moins visibles sur le plan factoriel sur l'axe F3."
   ]
  },
  {
   "cell_type": "markdown",
   "id": "56fd60c5",
   "metadata": {},
   "source": [
    "#### Plan factoriel (F1, F3)"
   ]
  },
  {
   "cell_type": "code",
   "execution_count": null,
   "id": "b88b46e0",
   "metadata": {},
   "outputs": [],
   "source": [
    "n = X.shape[0] # nb individus\n",
    "p = X.shape[1] # nb variables\n",
    "eigval = (n-1) / n * pca.explained_variance_ # valeurs propres\n",
    "sqrt_eigval = np.sqrt(eigval) # racine carrée des valeurs propres\n",
    "corvar = np.zeros((p,p)) # matrice vide pour avoir les coordonnées\n",
    "for k in range(p):\n",
    "    corvar[:,k] = pca.components_[k,:] * sqrt_eigval[k]\n",
    "# on modifie pour avoir un dataframe\n",
    "coordvar = pd.DataFrame({'id': X.columns, 'F1': corvar[:,0], 'F3': corvar[:,2]})\n",
    "coordvar"
   ]
  },
  {
   "cell_type": "code",
   "execution_count": null,
   "id": "4f927bcf",
   "metadata": {},
   "outputs": [],
   "source": [
    "# Création d'une figure vide (avec des axes entre -1 et 1 + le titre)\n",
    "fig, axes = plt.subplots(figsize = (6,6))\n",
    "fig.suptitle(\"Cercle des corrélations\")\n",
    "plt.xlabel(\"F1(32%)\") \n",
    "plt.ylabel(\"F3(16%)\")\n",
    "axes.set_xlim(-1, 1)\n",
    "axes.set_ylim(-1, 1)\n",
    "# Ajout des axes\n",
    "axes.axvline(x = 0, color = 'lightgray', linestyle = '--', linewidth = 2)\n",
    "axes.axhline(y = 0, color = 'lightgray', linestyle = '--', linewidth = 2)\n",
    "# Ajout des noms des variables\n",
    "for j in range(p):\n",
    "    axes.text(coordvar[\"F1\"][j],coordvar[\"F3\"][j], coordvar[\"id\"][j])\n",
    "# Ajout du cercle\n",
    "plt.gca().add_artist(plt.Circle((0,0),1,color='blue',fill=False))\n",
    "\n",
    "plt.show()"
   ]
  },
  {
   "cell_type": "markdown",
   "id": "b402b354",
   "metadata": {},
   "source": [
    "Corrélation entre **nutrition-score** et **sucre**"
   ]
  },
  {
   "cell_type": "markdown",
   "id": "1bca5a89",
   "metadata": {},
   "source": [
    "# <a name =\"P4\"> CONCLUSION </a>\n",
    " \n",
    "\n",
    "Nous sommes arrivés à la conclusion que : \n",
    "\n",
    "- Plus la valeur de nutrition-score est élevée plus les quantités de **graisse**,**acide gras saturés** et de **sucre** sont grandes.\n",
    "- Cette corrélation est vérifiée pour **72%** de la variabilité des produits. \n",
    "- Aucun lien établi entre les variables de nutriments conseillés et le nutrition-score\n",
    "\n",
    "Au vu de tout ce qui précèdent, nous pouvons conclure que le nutrition-score :\n",
    "- Permet de prévenir les personnes diabètique sur les risques de la consommation de certains produits.\n",
    "- Ne permet d'orienter efficacement les malades du diabète dans le choix d'aliments riches en nutriments favorables aux personnes diabétique.\n"
   ]
  }
 ],
 "metadata": {
  "kernelspec": {
   "display_name": "Python 3 (ipykernel)",
   "language": "python",
   "name": "python3"
  },
  "language_info": {
   "codemirror_mode": {
    "name": "ipython",
    "version": 3
   },
   "file_extension": ".py",
   "mimetype": "text/x-python",
   "name": "python",
   "nbconvert_exporter": "python",
   "pygments_lexer": "ipython3",
   "version": "3.9.12"
  }
 },
 "nbformat": 4,
 "nbformat_minor": 5
}
